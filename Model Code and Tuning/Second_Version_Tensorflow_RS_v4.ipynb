{
  "nbformat": 4,
  "nbformat_minor": 0,
  "metadata": {
    "colab": {
      "provenance": [],
      "collapsed_sections": []
    },
    "kernelspec": {
      "name": "python3",
      "display_name": "Python 3"
    },
    "language_info": {
      "name": "python"
    }
  },
  "cells": [
    {
      "cell_type": "code",
      "source": [
        "#!pip install -q tensorflow-recommenders\n",
        "#!pip install -q --upgrade tensorflow-datasets\n",
        "#!pip install -q scann"
      ],
      "metadata": {
        "id": "uD5OENhfg5O8"
      },
      "execution_count": null,
      "outputs": []
    },
    {
      "cell_type": "code",
      "source": [
        "import os\n",
        "import pprint\n",
        "import tempfile\n",
        "\n",
        "from typing import Dict, Text\n",
        "\n",
        "import numpy as np\n",
        "import tensorflow as tf\n",
        "import tensorflow_datasets as tfds\n",
        "\n",
        "import tensorflow_recommenders as tfrs\n",
        "import pandas as pd\n",
        "import sys\n",
        "from sklearn.preprocessing import MultiLabelBinarizer"
      ],
      "metadata": {
        "id": "rTU_qNe2hKUe"
      },
      "execution_count": null,
      "outputs": []
    },
    {
      "cell_type": "code",
      "source": [
        "from google.colab import drive\n",
        "drive.mount('/content/drive/')"
      ],
      "metadata": {
        "colab": {
          "base_uri": "https://localhost:8080/"
        },
        "id": "GLcauWxGiepl",
        "outputId": "c7ae8611-60e9-4511-9eae-a11035b0d063"
      },
      "execution_count": null,
      "outputs": [
        {
          "output_type": "stream",
          "name": "stdout",
          "text": [
            "Drive already mounted at /content/drive/; to attempt to forcibly remount, call drive.mount(\"/content/drive/\", force_remount=True).\n"
          ]
        }
      ]
    },
    {
      "cell_type": "code",
      "source": [
        "if 'google.colab' in str(get_ipython()):\n",
        "  ratings = pd.read_csv('/content/drive/MyDrive/585_project/data.csv', sep=',')\n",
        "  movies = pd.read_csv('/content/drive/MyDrive/585_project/data_movie.csv', sep=',')\n",
        "  users = pd.read_csv('/content/drive/MyDrive/585_project/user_data.csv', sep=';')\n",
        "else:\n",
        "  ratings = pd.read_csv('data.csv', sep=',')\n",
        "  movies = pd.read_csv('data_movie.csv', sep=',')"
      ],
      "metadata": {
        "id": "zPBRQvFfiisd"
      },
      "execution_count": null,
      "outputs": []
    },
    {
      "cell_type": "code",
      "source": [
        "users"
      ],
      "metadata": {
        "id": "SdJQp3qub9nm",
        "colab": {
          "base_uri": "https://localhost:8080/",
          "height": 424
        },
        "outputId": "c15b24ec-16c9-44c9-96af-b23a60330a3f"
      },
      "execution_count": null,
      "outputs": [
        {
          "output_type": "execute_result",
          "data": {
            "text/plain": [
              "        Unnamed: 0   userID  age              occupation gender\n",
              "0                0        1   34         sales/marketing      M\n",
              "1                1        2   33    college/grad student      M\n",
              "2                2        3   29               scientist      M\n",
              "3                3        4   30  other or not specified      M\n",
              "4                4        5   26               scientist      M\n",
              "...            ...      ...  ...                     ...    ...\n",
              "999995      999995   999996   31               scientist      M\n",
              "999996      999996   999997   27               scientist      M\n",
              "999997      999997   999998   37    executive/managerial      M\n",
              "999998      999998   999999   29               scientist      M\n",
              "999999      999999  1000000   29              programmer      M\n",
              "\n",
              "[1000000 rows x 5 columns]"
            ],
            "text/html": [
              "\n",
              "  <div id=\"df-d47283a4-c17f-4f87-b226-89c34876fa69\">\n",
              "    <div class=\"colab-df-container\">\n",
              "      <div>\n",
              "<style scoped>\n",
              "    .dataframe tbody tr th:only-of-type {\n",
              "        vertical-align: middle;\n",
              "    }\n",
              "\n",
              "    .dataframe tbody tr th {\n",
              "        vertical-align: top;\n",
              "    }\n",
              "\n",
              "    .dataframe thead th {\n",
              "        text-align: right;\n",
              "    }\n",
              "</style>\n",
              "<table border=\"1\" class=\"dataframe\">\n",
              "  <thead>\n",
              "    <tr style=\"text-align: right;\">\n",
              "      <th></th>\n",
              "      <th>Unnamed: 0</th>\n",
              "      <th>userID</th>\n",
              "      <th>age</th>\n",
              "      <th>occupation</th>\n",
              "      <th>gender</th>\n",
              "    </tr>\n",
              "  </thead>\n",
              "  <tbody>\n",
              "    <tr>\n",
              "      <th>0</th>\n",
              "      <td>0</td>\n",
              "      <td>1</td>\n",
              "      <td>34</td>\n",
              "      <td>sales/marketing</td>\n",
              "      <td>M</td>\n",
              "    </tr>\n",
              "    <tr>\n",
              "      <th>1</th>\n",
              "      <td>1</td>\n",
              "      <td>2</td>\n",
              "      <td>33</td>\n",
              "      <td>college/grad student</td>\n",
              "      <td>M</td>\n",
              "    </tr>\n",
              "    <tr>\n",
              "      <th>2</th>\n",
              "      <td>2</td>\n",
              "      <td>3</td>\n",
              "      <td>29</td>\n",
              "      <td>scientist</td>\n",
              "      <td>M</td>\n",
              "    </tr>\n",
              "    <tr>\n",
              "      <th>3</th>\n",
              "      <td>3</td>\n",
              "      <td>4</td>\n",
              "      <td>30</td>\n",
              "      <td>other or not specified</td>\n",
              "      <td>M</td>\n",
              "    </tr>\n",
              "    <tr>\n",
              "      <th>4</th>\n",
              "      <td>4</td>\n",
              "      <td>5</td>\n",
              "      <td>26</td>\n",
              "      <td>scientist</td>\n",
              "      <td>M</td>\n",
              "    </tr>\n",
              "    <tr>\n",
              "      <th>...</th>\n",
              "      <td>...</td>\n",
              "      <td>...</td>\n",
              "      <td>...</td>\n",
              "      <td>...</td>\n",
              "      <td>...</td>\n",
              "    </tr>\n",
              "    <tr>\n",
              "      <th>999995</th>\n",
              "      <td>999995</td>\n",
              "      <td>999996</td>\n",
              "      <td>31</td>\n",
              "      <td>scientist</td>\n",
              "      <td>M</td>\n",
              "    </tr>\n",
              "    <tr>\n",
              "      <th>999996</th>\n",
              "      <td>999996</td>\n",
              "      <td>999997</td>\n",
              "      <td>27</td>\n",
              "      <td>scientist</td>\n",
              "      <td>M</td>\n",
              "    </tr>\n",
              "    <tr>\n",
              "      <th>999997</th>\n",
              "      <td>999997</td>\n",
              "      <td>999998</td>\n",
              "      <td>37</td>\n",
              "      <td>executive/managerial</td>\n",
              "      <td>M</td>\n",
              "    </tr>\n",
              "    <tr>\n",
              "      <th>999998</th>\n",
              "      <td>999998</td>\n",
              "      <td>999999</td>\n",
              "      <td>29</td>\n",
              "      <td>scientist</td>\n",
              "      <td>M</td>\n",
              "    </tr>\n",
              "    <tr>\n",
              "      <th>999999</th>\n",
              "      <td>999999</td>\n",
              "      <td>1000000</td>\n",
              "      <td>29</td>\n",
              "      <td>programmer</td>\n",
              "      <td>M</td>\n",
              "    </tr>\n",
              "  </tbody>\n",
              "</table>\n",
              "<p>1000000 rows × 5 columns</p>\n",
              "</div>\n",
              "      <button class=\"colab-df-convert\" onclick=\"convertToInteractive('df-d47283a4-c17f-4f87-b226-89c34876fa69')\"\n",
              "              title=\"Convert this dataframe to an interactive table.\"\n",
              "              style=\"display:none;\">\n",
              "        \n",
              "  <svg xmlns=\"http://www.w3.org/2000/svg\" height=\"24px\"viewBox=\"0 0 24 24\"\n",
              "       width=\"24px\">\n",
              "    <path d=\"M0 0h24v24H0V0z\" fill=\"none\"/>\n",
              "    <path d=\"M18.56 5.44l.94 2.06.94-2.06 2.06-.94-2.06-.94-.94-2.06-.94 2.06-2.06.94zm-11 1L8.5 8.5l.94-2.06 2.06-.94-2.06-.94L8.5 2.5l-.94 2.06-2.06.94zm10 10l.94 2.06.94-2.06 2.06-.94-2.06-.94-.94-2.06-.94 2.06-2.06.94z\"/><path d=\"M17.41 7.96l-1.37-1.37c-.4-.4-.92-.59-1.43-.59-.52 0-1.04.2-1.43.59L10.3 9.45l-7.72 7.72c-.78.78-.78 2.05 0 2.83L4 21.41c.39.39.9.59 1.41.59.51 0 1.02-.2 1.41-.59l7.78-7.78 2.81-2.81c.8-.78.8-2.07 0-2.86zM5.41 20L4 18.59l7.72-7.72 1.47 1.35L5.41 20z\"/>\n",
              "  </svg>\n",
              "      </button>\n",
              "      \n",
              "  <style>\n",
              "    .colab-df-container {\n",
              "      display:flex;\n",
              "      flex-wrap:wrap;\n",
              "      gap: 12px;\n",
              "    }\n",
              "\n",
              "    .colab-df-convert {\n",
              "      background-color: #E8F0FE;\n",
              "      border: none;\n",
              "      border-radius: 50%;\n",
              "      cursor: pointer;\n",
              "      display: none;\n",
              "      fill: #1967D2;\n",
              "      height: 32px;\n",
              "      padding: 0 0 0 0;\n",
              "      width: 32px;\n",
              "    }\n",
              "\n",
              "    .colab-df-convert:hover {\n",
              "      background-color: #E2EBFA;\n",
              "      box-shadow: 0px 1px 2px rgba(60, 64, 67, 0.3), 0px 1px 3px 1px rgba(60, 64, 67, 0.15);\n",
              "      fill: #174EA6;\n",
              "    }\n",
              "\n",
              "    [theme=dark] .colab-df-convert {\n",
              "      background-color: #3B4455;\n",
              "      fill: #D2E3FC;\n",
              "    }\n",
              "\n",
              "    [theme=dark] .colab-df-convert:hover {\n",
              "      background-color: #434B5C;\n",
              "      box-shadow: 0px 1px 3px 1px rgba(0, 0, 0, 0.15);\n",
              "      filter: drop-shadow(0px 1px 2px rgba(0, 0, 0, 0.3));\n",
              "      fill: #FFFFFF;\n",
              "    }\n",
              "  </style>\n",
              "\n",
              "      <script>\n",
              "        const buttonEl =\n",
              "          document.querySelector('#df-d47283a4-c17f-4f87-b226-89c34876fa69 button.colab-df-convert');\n",
              "        buttonEl.style.display =\n",
              "          google.colab.kernel.accessAllowed ? 'block' : 'none';\n",
              "\n",
              "        async function convertToInteractive(key) {\n",
              "          const element = document.querySelector('#df-d47283a4-c17f-4f87-b226-89c34876fa69');\n",
              "          const dataTable =\n",
              "            await google.colab.kernel.invokeFunction('convertToInteractive',\n",
              "                                                     [key], {});\n",
              "          if (!dataTable) return;\n",
              "\n",
              "          const docLinkHtml = 'Like what you see? Visit the ' +\n",
              "            '<a target=\"_blank\" href=https://colab.research.google.com/notebooks/data_table.ipynb>data table notebook</a>'\n",
              "            + ' to learn more about interactive tables.';\n",
              "          element.innerHTML = '';\n",
              "          dataTable['output_type'] = 'display_data';\n",
              "          await google.colab.output.renderOutput(dataTable, element);\n",
              "          const docLink = document.createElement('div');\n",
              "          docLink.innerHTML = docLinkHtml;\n",
              "          element.appendChild(docLink);\n",
              "        }\n",
              "      </script>\n",
              "    </div>\n",
              "  </div>\n",
              "  "
            ]
          },
          "metadata": {},
          "execution_count": 5
        }
      ]
    },
    {
      "cell_type": "markdown",
      "source": [
        "#Data Preprocess"
      ],
      "metadata": {
        "id": "L4XM9flStpl8"
      }
    },
    {
      "cell_type": "code",
      "source": [
        "users['gender'] = users['gender'].map({'M': True, 'F': False})"
      ],
      "metadata": {
        "id": "AsHxWHI6LEEN"
      },
      "execution_count": null,
      "outputs": []
    },
    {
      "cell_type": "code",
      "source": [
        "users['occupation'] = users.occupation.astype('category').cat.codes"
      ],
      "metadata": {
        "id": "XAO-CxpALK2C"
      },
      "execution_count": null,
      "outputs": []
    },
    {
      "cell_type": "code",
      "source": [
        "users = users[['userID','age','occupation','gender']]"
      ],
      "metadata": {
        "id": "mfiZ5LPpN6rU"
      },
      "execution_count": null,
      "outputs": []
    },
    {
      "cell_type": "code",
      "source": [
        "users"
      ],
      "metadata": {
        "colab": {
          "base_uri": "https://localhost:8080/",
          "height": 424
        },
        "id": "KMFSa8cXOpf3",
        "outputId": "91d93082-f629-41f3-cf24-62fa69d7791b"
      },
      "execution_count": null,
      "outputs": [
        {
          "output_type": "execute_result",
          "data": {
            "text/plain": [
              "         userID  age  occupation  gender\n",
              "0             1   34          14    True\n",
              "1             2   33           4    True\n",
              "2             3   29          15    True\n",
              "3             4   30          11    True\n",
              "4             5   26          15    True\n",
              "...         ...  ...         ...     ...\n",
              "999995   999996   31          15    True\n",
              "999996   999997   27          15    True\n",
              "999997   999998   37           7    True\n",
              "999998   999999   29          15    True\n",
              "999999  1000000   29          12    True\n",
              "\n",
              "[1000000 rows x 4 columns]"
            ],
            "text/html": [
              "\n",
              "  <div id=\"df-d3b3ce98-358f-4d58-9de7-f15e9348c38b\">\n",
              "    <div class=\"colab-df-container\">\n",
              "      <div>\n",
              "<style scoped>\n",
              "    .dataframe tbody tr th:only-of-type {\n",
              "        vertical-align: middle;\n",
              "    }\n",
              "\n",
              "    .dataframe tbody tr th {\n",
              "        vertical-align: top;\n",
              "    }\n",
              "\n",
              "    .dataframe thead th {\n",
              "        text-align: right;\n",
              "    }\n",
              "</style>\n",
              "<table border=\"1\" class=\"dataframe\">\n",
              "  <thead>\n",
              "    <tr style=\"text-align: right;\">\n",
              "      <th></th>\n",
              "      <th>userID</th>\n",
              "      <th>age</th>\n",
              "      <th>occupation</th>\n",
              "      <th>gender</th>\n",
              "    </tr>\n",
              "  </thead>\n",
              "  <tbody>\n",
              "    <tr>\n",
              "      <th>0</th>\n",
              "      <td>1</td>\n",
              "      <td>34</td>\n",
              "      <td>14</td>\n",
              "      <td>True</td>\n",
              "    </tr>\n",
              "    <tr>\n",
              "      <th>1</th>\n",
              "      <td>2</td>\n",
              "      <td>33</td>\n",
              "      <td>4</td>\n",
              "      <td>True</td>\n",
              "    </tr>\n",
              "    <tr>\n",
              "      <th>2</th>\n",
              "      <td>3</td>\n",
              "      <td>29</td>\n",
              "      <td>15</td>\n",
              "      <td>True</td>\n",
              "    </tr>\n",
              "    <tr>\n",
              "      <th>3</th>\n",
              "      <td>4</td>\n",
              "      <td>30</td>\n",
              "      <td>11</td>\n",
              "      <td>True</td>\n",
              "    </tr>\n",
              "    <tr>\n",
              "      <th>4</th>\n",
              "      <td>5</td>\n",
              "      <td>26</td>\n",
              "      <td>15</td>\n",
              "      <td>True</td>\n",
              "    </tr>\n",
              "    <tr>\n",
              "      <th>...</th>\n",
              "      <td>...</td>\n",
              "      <td>...</td>\n",
              "      <td>...</td>\n",
              "      <td>...</td>\n",
              "    </tr>\n",
              "    <tr>\n",
              "      <th>999995</th>\n",
              "      <td>999996</td>\n",
              "      <td>31</td>\n",
              "      <td>15</td>\n",
              "      <td>True</td>\n",
              "    </tr>\n",
              "    <tr>\n",
              "      <th>999996</th>\n",
              "      <td>999997</td>\n",
              "      <td>27</td>\n",
              "      <td>15</td>\n",
              "      <td>True</td>\n",
              "    </tr>\n",
              "    <tr>\n",
              "      <th>999997</th>\n",
              "      <td>999998</td>\n",
              "      <td>37</td>\n",
              "      <td>7</td>\n",
              "      <td>True</td>\n",
              "    </tr>\n",
              "    <tr>\n",
              "      <th>999998</th>\n",
              "      <td>999999</td>\n",
              "      <td>29</td>\n",
              "      <td>15</td>\n",
              "      <td>True</td>\n",
              "    </tr>\n",
              "    <tr>\n",
              "      <th>999999</th>\n",
              "      <td>1000000</td>\n",
              "      <td>29</td>\n",
              "      <td>12</td>\n",
              "      <td>True</td>\n",
              "    </tr>\n",
              "  </tbody>\n",
              "</table>\n",
              "<p>1000000 rows × 4 columns</p>\n",
              "</div>\n",
              "      <button class=\"colab-df-convert\" onclick=\"convertToInteractive('df-d3b3ce98-358f-4d58-9de7-f15e9348c38b')\"\n",
              "              title=\"Convert this dataframe to an interactive table.\"\n",
              "              style=\"display:none;\">\n",
              "        \n",
              "  <svg xmlns=\"http://www.w3.org/2000/svg\" height=\"24px\"viewBox=\"0 0 24 24\"\n",
              "       width=\"24px\">\n",
              "    <path d=\"M0 0h24v24H0V0z\" fill=\"none\"/>\n",
              "    <path d=\"M18.56 5.44l.94 2.06.94-2.06 2.06-.94-2.06-.94-.94-2.06-.94 2.06-2.06.94zm-11 1L8.5 8.5l.94-2.06 2.06-.94-2.06-.94L8.5 2.5l-.94 2.06-2.06.94zm10 10l.94 2.06.94-2.06 2.06-.94-2.06-.94-.94-2.06-.94 2.06-2.06.94z\"/><path d=\"M17.41 7.96l-1.37-1.37c-.4-.4-.92-.59-1.43-.59-.52 0-1.04.2-1.43.59L10.3 9.45l-7.72 7.72c-.78.78-.78 2.05 0 2.83L4 21.41c.39.39.9.59 1.41.59.51 0 1.02-.2 1.41-.59l7.78-7.78 2.81-2.81c.8-.78.8-2.07 0-2.86zM5.41 20L4 18.59l7.72-7.72 1.47 1.35L5.41 20z\"/>\n",
              "  </svg>\n",
              "      </button>\n",
              "      \n",
              "  <style>\n",
              "    .colab-df-container {\n",
              "      display:flex;\n",
              "      flex-wrap:wrap;\n",
              "      gap: 12px;\n",
              "    }\n",
              "\n",
              "    .colab-df-convert {\n",
              "      background-color: #E8F0FE;\n",
              "      border: none;\n",
              "      border-radius: 50%;\n",
              "      cursor: pointer;\n",
              "      display: none;\n",
              "      fill: #1967D2;\n",
              "      height: 32px;\n",
              "      padding: 0 0 0 0;\n",
              "      width: 32px;\n",
              "    }\n",
              "\n",
              "    .colab-df-convert:hover {\n",
              "      background-color: #E2EBFA;\n",
              "      box-shadow: 0px 1px 2px rgba(60, 64, 67, 0.3), 0px 1px 3px 1px rgba(60, 64, 67, 0.15);\n",
              "      fill: #174EA6;\n",
              "    }\n",
              "\n",
              "    [theme=dark] .colab-df-convert {\n",
              "      background-color: #3B4455;\n",
              "      fill: #D2E3FC;\n",
              "    }\n",
              "\n",
              "    [theme=dark] .colab-df-convert:hover {\n",
              "      background-color: #434B5C;\n",
              "      box-shadow: 0px 1px 3px 1px rgba(0, 0, 0, 0.15);\n",
              "      filter: drop-shadow(0px 1px 2px rgba(0, 0, 0, 0.3));\n",
              "      fill: #FFFFFF;\n",
              "    }\n",
              "  </style>\n",
              "\n",
              "      <script>\n",
              "        const buttonEl =\n",
              "          document.querySelector('#df-d3b3ce98-358f-4d58-9de7-f15e9348c38b button.colab-df-convert');\n",
              "        buttonEl.style.display =\n",
              "          google.colab.kernel.accessAllowed ? 'block' : 'none';\n",
              "\n",
              "        async function convertToInteractive(key) {\n",
              "          const element = document.querySelector('#df-d3b3ce98-358f-4d58-9de7-f15e9348c38b');\n",
              "          const dataTable =\n",
              "            await google.colab.kernel.invokeFunction('convertToInteractive',\n",
              "                                                     [key], {});\n",
              "          if (!dataTable) return;\n",
              "\n",
              "          const docLinkHtml = 'Like what you see? Visit the ' +\n",
              "            '<a target=\"_blank\" href=https://colab.research.google.com/notebooks/data_table.ipynb>data table notebook</a>'\n",
              "            + ' to learn more about interactive tables.';\n",
              "          element.innerHTML = '';\n",
              "          dataTable['output_type'] = 'display_data';\n",
              "          await google.colab.output.renderOutput(dataTable, element);\n",
              "          const docLink = document.createElement('div');\n",
              "          docLink.innerHTML = docLinkHtml;\n",
              "          element.appendChild(docLink);\n",
              "        }\n",
              "      </script>\n",
              "    </div>\n",
              "  </div>\n",
              "  "
            ]
          },
          "metadata": {},
          "execution_count": 9
        }
      ]
    },
    {
      "cell_type": "code",
      "source": [
        "users['gender'].value_counts()"
      ],
      "metadata": {
        "colab": {
          "base_uri": "https://localhost:8080/"
        },
        "id": "BoRN1vpLUZV2",
        "outputId": "20dad873-93c8-40c1-f17a-24efd7dbb29f"
      },
      "execution_count": null,
      "outputs": [
        {
          "output_type": "execute_result",
          "data": {
            "text/plain": [
              "True     829960\n",
              "False    170040\n",
              "Name: gender, dtype: int64"
            ]
          },
          "metadata": {},
          "execution_count": 10
        }
      ]
    },
    {
      "cell_type": "code",
      "source": [
        "(users[\"age\"] < 18).value_counts()"
      ],
      "metadata": {
        "colab": {
          "base_uri": "https://localhost:8080/"
        },
        "id": "trq1sdRrUqdR",
        "outputId": "69894640-df6e-4cbb-c6b4-112093d38f9d"
      },
      "execution_count": null,
      "outputs": [
        {
          "output_type": "execute_result",
          "data": {
            "text/plain": [
              "False    987855\n",
              "True      12145\n",
              "Name: age, dtype: int64"
            ]
          },
          "metadata": {},
          "execution_count": 11
        }
      ]
    },
    {
      "cell_type": "code",
      "source": [
        "(movies[\"adult\"] == True).value_counts()"
      ],
      "metadata": {
        "colab": {
          "base_uri": "https://localhost:8080/"
        },
        "id": "8A0gwv7HzhZC",
        "outputId": "a5bb1a3a-d3e1-4f6c-f2f0-2daf279f0f75"
      },
      "execution_count": null,
      "outputs": [
        {
          "output_type": "execute_result",
          "data": {
            "text/plain": [
              "False    25506\n",
              "True         1\n",
              "Name: adult, dtype: int64"
            ]
          },
          "metadata": {},
          "execution_count": 12
        }
      ]
    },
    {
      "cell_type": "code",
      "source": [
        "movies = movies[['movieID','genres','length']]\n",
        "movies"
      ],
      "metadata": {
        "colab": {
          "base_uri": "https://localhost:8080/",
          "height": 424
        },
        "id": "DDvzKhYfaPVO",
        "outputId": "43ed9e36-7ebe-4b63-c84e-6a41bcd102f7"
      },
      "execution_count": null,
      "outputs": [
        {
          "output_type": "execute_result",
          "data": {
            "text/plain": [
              "                movieID                                             genres  \\\n",
              "0            ++++++1959                     [{'id': 35, 'name': 'Comedy'}]   \n",
              "1              ++++2013  [{'id': 9648, 'name': 'Mystery'}, {'id': 80, '...   \n",
              "2         +la+mode+1993                     [{'id': 35, 'name': 'Comedy'}]   \n",
              "3       +laventure+2008                      [{'id': 18, 'name': 'Drama'}]   \n",
              "4      +nos+amours+1983  [{'id': 18, 'name': 'Drama'}, {'id': 10749, 'n...   \n",
              "...                 ...                                                ...   \n",
              "25502         zulu+1964  [{'id': 28, 'name': 'Action'}, {'id': 18, 'nam...   \n",
              "25503         zulu+2013  [{'id': 80, 'name': 'Crime'}, {'id': 18, 'name...   \n",
              "25504    zulu+dawn+1979  [{'id': 12, 'name': 'Adventure'}, {'id': 18, '...   \n",
              "25505      zus++zo+2001                     [{'id': 35, 'name': 'Comedy'}]   \n",
              "25506   zuzu+angel+2006                      [{'id': 18, 'name': 'Drama'}]   \n",
              "\n",
              "       length  \n",
              "0          98  \n",
              "1          90  \n",
              "2          82  \n",
              "3         104  \n",
              "4         102  \n",
              "...       ...  \n",
              "25502     138  \n",
              "25503     110  \n",
              "25504     117  \n",
              "25505     106  \n",
              "25506     108  \n",
              "\n",
              "[25507 rows x 3 columns]"
            ],
            "text/html": [
              "\n",
              "  <div id=\"df-db42ae25-4cf5-4e4a-a5d2-fde01450fce4\">\n",
              "    <div class=\"colab-df-container\">\n",
              "      <div>\n",
              "<style scoped>\n",
              "    .dataframe tbody tr th:only-of-type {\n",
              "        vertical-align: middle;\n",
              "    }\n",
              "\n",
              "    .dataframe tbody tr th {\n",
              "        vertical-align: top;\n",
              "    }\n",
              "\n",
              "    .dataframe thead th {\n",
              "        text-align: right;\n",
              "    }\n",
              "</style>\n",
              "<table border=\"1\" class=\"dataframe\">\n",
              "  <thead>\n",
              "    <tr style=\"text-align: right;\">\n",
              "      <th></th>\n",
              "      <th>movieID</th>\n",
              "      <th>genres</th>\n",
              "      <th>length</th>\n",
              "    </tr>\n",
              "  </thead>\n",
              "  <tbody>\n",
              "    <tr>\n",
              "      <th>0</th>\n",
              "      <td>++++++1959</td>\n",
              "      <td>[{'id': 35, 'name': 'Comedy'}]</td>\n",
              "      <td>98</td>\n",
              "    </tr>\n",
              "    <tr>\n",
              "      <th>1</th>\n",
              "      <td>++++2013</td>\n",
              "      <td>[{'id': 9648, 'name': 'Mystery'}, {'id': 80, '...</td>\n",
              "      <td>90</td>\n",
              "    </tr>\n",
              "    <tr>\n",
              "      <th>2</th>\n",
              "      <td>+la+mode+1993</td>\n",
              "      <td>[{'id': 35, 'name': 'Comedy'}]</td>\n",
              "      <td>82</td>\n",
              "    </tr>\n",
              "    <tr>\n",
              "      <th>3</th>\n",
              "      <td>+laventure+2008</td>\n",
              "      <td>[{'id': 18, 'name': 'Drama'}]</td>\n",
              "      <td>104</td>\n",
              "    </tr>\n",
              "    <tr>\n",
              "      <th>4</th>\n",
              "      <td>+nos+amours+1983</td>\n",
              "      <td>[{'id': 18, 'name': 'Drama'}, {'id': 10749, 'n...</td>\n",
              "      <td>102</td>\n",
              "    </tr>\n",
              "    <tr>\n",
              "      <th>...</th>\n",
              "      <td>...</td>\n",
              "      <td>...</td>\n",
              "      <td>...</td>\n",
              "    </tr>\n",
              "    <tr>\n",
              "      <th>25502</th>\n",
              "      <td>zulu+1964</td>\n",
              "      <td>[{'id': 28, 'name': 'Action'}, {'id': 18, 'nam...</td>\n",
              "      <td>138</td>\n",
              "    </tr>\n",
              "    <tr>\n",
              "      <th>25503</th>\n",
              "      <td>zulu+2013</td>\n",
              "      <td>[{'id': 80, 'name': 'Crime'}, {'id': 18, 'name...</td>\n",
              "      <td>110</td>\n",
              "    </tr>\n",
              "    <tr>\n",
              "      <th>25504</th>\n",
              "      <td>zulu+dawn+1979</td>\n",
              "      <td>[{'id': 12, 'name': 'Adventure'}, {'id': 18, '...</td>\n",
              "      <td>117</td>\n",
              "    </tr>\n",
              "    <tr>\n",
              "      <th>25505</th>\n",
              "      <td>zus++zo+2001</td>\n",
              "      <td>[{'id': 35, 'name': 'Comedy'}]</td>\n",
              "      <td>106</td>\n",
              "    </tr>\n",
              "    <tr>\n",
              "      <th>25506</th>\n",
              "      <td>zuzu+angel+2006</td>\n",
              "      <td>[{'id': 18, 'name': 'Drama'}]</td>\n",
              "      <td>108</td>\n",
              "    </tr>\n",
              "  </tbody>\n",
              "</table>\n",
              "<p>25507 rows × 3 columns</p>\n",
              "</div>\n",
              "      <button class=\"colab-df-convert\" onclick=\"convertToInteractive('df-db42ae25-4cf5-4e4a-a5d2-fde01450fce4')\"\n",
              "              title=\"Convert this dataframe to an interactive table.\"\n",
              "              style=\"display:none;\">\n",
              "        \n",
              "  <svg xmlns=\"http://www.w3.org/2000/svg\" height=\"24px\"viewBox=\"0 0 24 24\"\n",
              "       width=\"24px\">\n",
              "    <path d=\"M0 0h24v24H0V0z\" fill=\"none\"/>\n",
              "    <path d=\"M18.56 5.44l.94 2.06.94-2.06 2.06-.94-2.06-.94-.94-2.06-.94 2.06-2.06.94zm-11 1L8.5 8.5l.94-2.06 2.06-.94-2.06-.94L8.5 2.5l-.94 2.06-2.06.94zm10 10l.94 2.06.94-2.06 2.06-.94-2.06-.94-.94-2.06-.94 2.06-2.06.94z\"/><path d=\"M17.41 7.96l-1.37-1.37c-.4-.4-.92-.59-1.43-.59-.52 0-1.04.2-1.43.59L10.3 9.45l-7.72 7.72c-.78.78-.78 2.05 0 2.83L4 21.41c.39.39.9.59 1.41.59.51 0 1.02-.2 1.41-.59l7.78-7.78 2.81-2.81c.8-.78.8-2.07 0-2.86zM5.41 20L4 18.59l7.72-7.72 1.47 1.35L5.41 20z\"/>\n",
              "  </svg>\n",
              "      </button>\n",
              "      \n",
              "  <style>\n",
              "    .colab-df-container {\n",
              "      display:flex;\n",
              "      flex-wrap:wrap;\n",
              "      gap: 12px;\n",
              "    }\n",
              "\n",
              "    .colab-df-convert {\n",
              "      background-color: #E8F0FE;\n",
              "      border: none;\n",
              "      border-radius: 50%;\n",
              "      cursor: pointer;\n",
              "      display: none;\n",
              "      fill: #1967D2;\n",
              "      height: 32px;\n",
              "      padding: 0 0 0 0;\n",
              "      width: 32px;\n",
              "    }\n",
              "\n",
              "    .colab-df-convert:hover {\n",
              "      background-color: #E2EBFA;\n",
              "      box-shadow: 0px 1px 2px rgba(60, 64, 67, 0.3), 0px 1px 3px 1px rgba(60, 64, 67, 0.15);\n",
              "      fill: #174EA6;\n",
              "    }\n",
              "\n",
              "    [theme=dark] .colab-df-convert {\n",
              "      background-color: #3B4455;\n",
              "      fill: #D2E3FC;\n",
              "    }\n",
              "\n",
              "    [theme=dark] .colab-df-convert:hover {\n",
              "      background-color: #434B5C;\n",
              "      box-shadow: 0px 1px 3px 1px rgba(0, 0, 0, 0.15);\n",
              "      filter: drop-shadow(0px 1px 2px rgba(0, 0, 0, 0.3));\n",
              "      fill: #FFFFFF;\n",
              "    }\n",
              "  </style>\n",
              "\n",
              "      <script>\n",
              "        const buttonEl =\n",
              "          document.querySelector('#df-db42ae25-4cf5-4e4a-a5d2-fde01450fce4 button.colab-df-convert');\n",
              "        buttonEl.style.display =\n",
              "          google.colab.kernel.accessAllowed ? 'block' : 'none';\n",
              "\n",
              "        async function convertToInteractive(key) {\n",
              "          const element = document.querySelector('#df-db42ae25-4cf5-4e4a-a5d2-fde01450fce4');\n",
              "          const dataTable =\n",
              "            await google.colab.kernel.invokeFunction('convertToInteractive',\n",
              "                                                     [key], {});\n",
              "          if (!dataTable) return;\n",
              "\n",
              "          const docLinkHtml = 'Like what you see? Visit the ' +\n",
              "            '<a target=\"_blank\" href=https://colab.research.google.com/notebooks/data_table.ipynb>data table notebook</a>'\n",
              "            + ' to learn more about interactive tables.';\n",
              "          element.innerHTML = '';\n",
              "          dataTable['output_type'] = 'display_data';\n",
              "          await google.colab.output.renderOutput(dataTable, element);\n",
              "          const docLink = document.createElement('div');\n",
              "          docLink.innerHTML = docLinkHtml;\n",
              "          element.appendChild(docLink);\n",
              "        }\n",
              "      </script>\n",
              "    </div>\n",
              "  </div>\n",
              "  "
            ]
          },
          "metadata": {},
          "execution_count": 13
        }
      ]
    },
    {
      "cell_type": "code",
      "source": [
        "movies.isna().sum()"
      ],
      "metadata": {
        "colab": {
          "base_uri": "https://localhost:8080/"
        },
        "id": "7LGaWna98692",
        "outputId": "c7fd0746-b3f5-416a-aae8-c7854c6e3a22"
      },
      "execution_count": null,
      "outputs": [
        {
          "output_type": "execute_result",
          "data": {
            "text/plain": [
              "movieID    0\n",
              "genres     0\n",
              "length     0\n",
              "dtype: int64"
            ]
          },
          "metadata": {},
          "execution_count": 14
        }
      ]
    },
    {
      "cell_type": "code",
      "source": [
        "movies['genres'] = movies.apply(lambda row : eval(row['genres']), axis = 1)"
      ],
      "metadata": {
        "id": "xpZZLaCvNG8F"
      },
      "execution_count": null,
      "outputs": []
    },
    {
      "cell_type": "code",
      "source": [
        "movies"
      ],
      "metadata": {
        "colab": {
          "base_uri": "https://localhost:8080/",
          "height": 424
        },
        "id": "ZJkIOZHbT1s6",
        "outputId": "ca03cc04-5cc3-4708-957b-1d5cfde6531c"
      },
      "execution_count": null,
      "outputs": [
        {
          "output_type": "execute_result",
          "data": {
            "text/plain": [
              "                movieID                                             genres  \\\n",
              "0            ++++++1959                     [{'id': 35, 'name': 'Comedy'}]   \n",
              "1              ++++2013  [{'id': 9648, 'name': 'Mystery'}, {'id': 80, '...   \n",
              "2         +la+mode+1993                     [{'id': 35, 'name': 'Comedy'}]   \n",
              "3       +laventure+2008                      [{'id': 18, 'name': 'Drama'}]   \n",
              "4      +nos+amours+1983  [{'id': 18, 'name': 'Drama'}, {'id': 10749, 'n...   \n",
              "...                 ...                                                ...   \n",
              "25502         zulu+1964  [{'id': 28, 'name': 'Action'}, {'id': 18, 'nam...   \n",
              "25503         zulu+2013  [{'id': 80, 'name': 'Crime'}, {'id': 18, 'name...   \n",
              "25504    zulu+dawn+1979  [{'id': 12, 'name': 'Adventure'}, {'id': 18, '...   \n",
              "25505      zus++zo+2001                     [{'id': 35, 'name': 'Comedy'}]   \n",
              "25506   zuzu+angel+2006                      [{'id': 18, 'name': 'Drama'}]   \n",
              "\n",
              "       length  \n",
              "0          98  \n",
              "1          90  \n",
              "2          82  \n",
              "3         104  \n",
              "4         102  \n",
              "...       ...  \n",
              "25502     138  \n",
              "25503     110  \n",
              "25504     117  \n",
              "25505     106  \n",
              "25506     108  \n",
              "\n",
              "[25507 rows x 3 columns]"
            ],
            "text/html": [
              "\n",
              "  <div id=\"df-751f5a59-b35b-48f7-a6c5-31c269263080\">\n",
              "    <div class=\"colab-df-container\">\n",
              "      <div>\n",
              "<style scoped>\n",
              "    .dataframe tbody tr th:only-of-type {\n",
              "        vertical-align: middle;\n",
              "    }\n",
              "\n",
              "    .dataframe tbody tr th {\n",
              "        vertical-align: top;\n",
              "    }\n",
              "\n",
              "    .dataframe thead th {\n",
              "        text-align: right;\n",
              "    }\n",
              "</style>\n",
              "<table border=\"1\" class=\"dataframe\">\n",
              "  <thead>\n",
              "    <tr style=\"text-align: right;\">\n",
              "      <th></th>\n",
              "      <th>movieID</th>\n",
              "      <th>genres</th>\n",
              "      <th>length</th>\n",
              "    </tr>\n",
              "  </thead>\n",
              "  <tbody>\n",
              "    <tr>\n",
              "      <th>0</th>\n",
              "      <td>++++++1959</td>\n",
              "      <td>[{'id': 35, 'name': 'Comedy'}]</td>\n",
              "      <td>98</td>\n",
              "    </tr>\n",
              "    <tr>\n",
              "      <th>1</th>\n",
              "      <td>++++2013</td>\n",
              "      <td>[{'id': 9648, 'name': 'Mystery'}, {'id': 80, '...</td>\n",
              "      <td>90</td>\n",
              "    </tr>\n",
              "    <tr>\n",
              "      <th>2</th>\n",
              "      <td>+la+mode+1993</td>\n",
              "      <td>[{'id': 35, 'name': 'Comedy'}]</td>\n",
              "      <td>82</td>\n",
              "    </tr>\n",
              "    <tr>\n",
              "      <th>3</th>\n",
              "      <td>+laventure+2008</td>\n",
              "      <td>[{'id': 18, 'name': 'Drama'}]</td>\n",
              "      <td>104</td>\n",
              "    </tr>\n",
              "    <tr>\n",
              "      <th>4</th>\n",
              "      <td>+nos+amours+1983</td>\n",
              "      <td>[{'id': 18, 'name': 'Drama'}, {'id': 10749, 'n...</td>\n",
              "      <td>102</td>\n",
              "    </tr>\n",
              "    <tr>\n",
              "      <th>...</th>\n",
              "      <td>...</td>\n",
              "      <td>...</td>\n",
              "      <td>...</td>\n",
              "    </tr>\n",
              "    <tr>\n",
              "      <th>25502</th>\n",
              "      <td>zulu+1964</td>\n",
              "      <td>[{'id': 28, 'name': 'Action'}, {'id': 18, 'nam...</td>\n",
              "      <td>138</td>\n",
              "    </tr>\n",
              "    <tr>\n",
              "      <th>25503</th>\n",
              "      <td>zulu+2013</td>\n",
              "      <td>[{'id': 80, 'name': 'Crime'}, {'id': 18, 'name...</td>\n",
              "      <td>110</td>\n",
              "    </tr>\n",
              "    <tr>\n",
              "      <th>25504</th>\n",
              "      <td>zulu+dawn+1979</td>\n",
              "      <td>[{'id': 12, 'name': 'Adventure'}, {'id': 18, '...</td>\n",
              "      <td>117</td>\n",
              "    </tr>\n",
              "    <tr>\n",
              "      <th>25505</th>\n",
              "      <td>zus++zo+2001</td>\n",
              "      <td>[{'id': 35, 'name': 'Comedy'}]</td>\n",
              "      <td>106</td>\n",
              "    </tr>\n",
              "    <tr>\n",
              "      <th>25506</th>\n",
              "      <td>zuzu+angel+2006</td>\n",
              "      <td>[{'id': 18, 'name': 'Drama'}]</td>\n",
              "      <td>108</td>\n",
              "    </tr>\n",
              "  </tbody>\n",
              "</table>\n",
              "<p>25507 rows × 3 columns</p>\n",
              "</div>\n",
              "      <button class=\"colab-df-convert\" onclick=\"convertToInteractive('df-751f5a59-b35b-48f7-a6c5-31c269263080')\"\n",
              "              title=\"Convert this dataframe to an interactive table.\"\n",
              "              style=\"display:none;\">\n",
              "        \n",
              "  <svg xmlns=\"http://www.w3.org/2000/svg\" height=\"24px\"viewBox=\"0 0 24 24\"\n",
              "       width=\"24px\">\n",
              "    <path d=\"M0 0h24v24H0V0z\" fill=\"none\"/>\n",
              "    <path d=\"M18.56 5.44l.94 2.06.94-2.06 2.06-.94-2.06-.94-.94-2.06-.94 2.06-2.06.94zm-11 1L8.5 8.5l.94-2.06 2.06-.94-2.06-.94L8.5 2.5l-.94 2.06-2.06.94zm10 10l.94 2.06.94-2.06 2.06-.94-2.06-.94-.94-2.06-.94 2.06-2.06.94z\"/><path d=\"M17.41 7.96l-1.37-1.37c-.4-.4-.92-.59-1.43-.59-.52 0-1.04.2-1.43.59L10.3 9.45l-7.72 7.72c-.78.78-.78 2.05 0 2.83L4 21.41c.39.39.9.59 1.41.59.51 0 1.02-.2 1.41-.59l7.78-7.78 2.81-2.81c.8-.78.8-2.07 0-2.86zM5.41 20L4 18.59l7.72-7.72 1.47 1.35L5.41 20z\"/>\n",
              "  </svg>\n",
              "      </button>\n",
              "      \n",
              "  <style>\n",
              "    .colab-df-container {\n",
              "      display:flex;\n",
              "      flex-wrap:wrap;\n",
              "      gap: 12px;\n",
              "    }\n",
              "\n",
              "    .colab-df-convert {\n",
              "      background-color: #E8F0FE;\n",
              "      border: none;\n",
              "      border-radius: 50%;\n",
              "      cursor: pointer;\n",
              "      display: none;\n",
              "      fill: #1967D2;\n",
              "      height: 32px;\n",
              "      padding: 0 0 0 0;\n",
              "      width: 32px;\n",
              "    }\n",
              "\n",
              "    .colab-df-convert:hover {\n",
              "      background-color: #E2EBFA;\n",
              "      box-shadow: 0px 1px 2px rgba(60, 64, 67, 0.3), 0px 1px 3px 1px rgba(60, 64, 67, 0.15);\n",
              "      fill: #174EA6;\n",
              "    }\n",
              "\n",
              "    [theme=dark] .colab-df-convert {\n",
              "      background-color: #3B4455;\n",
              "      fill: #D2E3FC;\n",
              "    }\n",
              "\n",
              "    [theme=dark] .colab-df-convert:hover {\n",
              "      background-color: #434B5C;\n",
              "      box-shadow: 0px 1px 3px 1px rgba(0, 0, 0, 0.15);\n",
              "      filter: drop-shadow(0px 1px 2px rgba(0, 0, 0, 0.3));\n",
              "      fill: #FFFFFF;\n",
              "    }\n",
              "  </style>\n",
              "\n",
              "      <script>\n",
              "        const buttonEl =\n",
              "          document.querySelector('#df-751f5a59-b35b-48f7-a6c5-31c269263080 button.colab-df-convert');\n",
              "        buttonEl.style.display =\n",
              "          google.colab.kernel.accessAllowed ? 'block' : 'none';\n",
              "\n",
              "        async function convertToInteractive(key) {\n",
              "          const element = document.querySelector('#df-751f5a59-b35b-48f7-a6c5-31c269263080');\n",
              "          const dataTable =\n",
              "            await google.colab.kernel.invokeFunction('convertToInteractive',\n",
              "                                                     [key], {});\n",
              "          if (!dataTable) return;\n",
              "\n",
              "          const docLinkHtml = 'Like what you see? Visit the ' +\n",
              "            '<a target=\"_blank\" href=https://colab.research.google.com/notebooks/data_table.ipynb>data table notebook</a>'\n",
              "            + ' to learn more about interactive tables.';\n",
              "          element.innerHTML = '';\n",
              "          dataTable['output_type'] = 'display_data';\n",
              "          await google.colab.output.renderOutput(dataTable, element);\n",
              "          const docLink = document.createElement('div');\n",
              "          docLink.innerHTML = docLinkHtml;\n",
              "          element.appendChild(docLink);\n",
              "        }\n",
              "      </script>\n",
              "    </div>\n",
              "  </div>\n",
              "  "
            ]
          },
          "metadata": {},
          "execution_count": 16
        }
      ]
    },
    {
      "cell_type": "code",
      "source": [
        "l = movies['genres'][1]\n",
        "l"
      ],
      "metadata": {
        "colab": {
          "base_uri": "https://localhost:8080/"
        },
        "id": "Pgvihlf-dEKn",
        "outputId": "23f72620-4ab7-453e-ad39-49c72c0aaa81"
      },
      "execution_count": null,
      "outputs": [
        {
          "output_type": "execute_result",
          "data": {
            "text/plain": [
              "[{'id': 9648, 'name': 'Mystery'},\n",
              " {'id': 80, 'name': 'Crime'},\n",
              " {'id': 18, 'name': 'Drama'}]"
            ]
          },
          "metadata": {},
          "execution_count": 17
        }
      ]
    },
    {
      "cell_type": "code",
      "source": [
        "[d['id'] for d in l if 'id' in d]"
      ],
      "metadata": {
        "colab": {
          "base_uri": "https://localhost:8080/"
        },
        "id": "mVpx-kYCdJkA",
        "outputId": "af73e46b-861c-4264-cd85-9633fed006ee"
      },
      "execution_count": null,
      "outputs": [
        {
          "output_type": "execute_result",
          "data": {
            "text/plain": [
              "[9648, 80, 18]"
            ]
          },
          "metadata": {},
          "execution_count": 18
        }
      ]
    },
    {
      "cell_type": "code",
      "source": [
        "movies['genres'] = movies['genres'].apply(lambda row : [d['name'] for d in row if 'id' in d]) #id"
      ],
      "metadata": {
        "id": "WH2xR-kkMLTd"
      },
      "execution_count": null,
      "outputs": []
    },
    {
      "cell_type": "code",
      "source": [
        "movies"
      ],
      "metadata": {
        "colab": {
          "base_uri": "https://localhost:8080/",
          "height": 424
        },
        "id": "HdeaDce6b4As",
        "outputId": "7aac992e-c30f-4c42-b529-6e86b46ff2b9"
      },
      "execution_count": null,
      "outputs": [
        {
          "output_type": "execute_result",
          "data": {
            "text/plain": [
              "                movieID                            genres  length\n",
              "0            ++++++1959                          [Comedy]      98\n",
              "1              ++++2013           [Mystery, Crime, Drama]      90\n",
              "2         +la+mode+1993                          [Comedy]      82\n",
              "3       +laventure+2008                           [Drama]     104\n",
              "4      +nos+amours+1983                  [Drama, Romance]     102\n",
              "...                 ...                               ...     ...\n",
              "25502         zulu+1964     [Action, Drama, History, War]     138\n",
              "25503         zulu+2013          [Crime, Drama, Thriller]     110\n",
              "25504    zulu+dawn+1979  [Adventure, Drama, History, War]     117\n",
              "25505      zus++zo+2001                          [Comedy]     106\n",
              "25506   zuzu+angel+2006                           [Drama]     108\n",
              "\n",
              "[25507 rows x 3 columns]"
            ],
            "text/html": [
              "\n",
              "  <div id=\"df-cc4be3ca-935d-4d71-99a9-77c32d4bf574\">\n",
              "    <div class=\"colab-df-container\">\n",
              "      <div>\n",
              "<style scoped>\n",
              "    .dataframe tbody tr th:only-of-type {\n",
              "        vertical-align: middle;\n",
              "    }\n",
              "\n",
              "    .dataframe tbody tr th {\n",
              "        vertical-align: top;\n",
              "    }\n",
              "\n",
              "    .dataframe thead th {\n",
              "        text-align: right;\n",
              "    }\n",
              "</style>\n",
              "<table border=\"1\" class=\"dataframe\">\n",
              "  <thead>\n",
              "    <tr style=\"text-align: right;\">\n",
              "      <th></th>\n",
              "      <th>movieID</th>\n",
              "      <th>genres</th>\n",
              "      <th>length</th>\n",
              "    </tr>\n",
              "  </thead>\n",
              "  <tbody>\n",
              "    <tr>\n",
              "      <th>0</th>\n",
              "      <td>++++++1959</td>\n",
              "      <td>[Comedy]</td>\n",
              "      <td>98</td>\n",
              "    </tr>\n",
              "    <tr>\n",
              "      <th>1</th>\n",
              "      <td>++++2013</td>\n",
              "      <td>[Mystery, Crime, Drama]</td>\n",
              "      <td>90</td>\n",
              "    </tr>\n",
              "    <tr>\n",
              "      <th>2</th>\n",
              "      <td>+la+mode+1993</td>\n",
              "      <td>[Comedy]</td>\n",
              "      <td>82</td>\n",
              "    </tr>\n",
              "    <tr>\n",
              "      <th>3</th>\n",
              "      <td>+laventure+2008</td>\n",
              "      <td>[Drama]</td>\n",
              "      <td>104</td>\n",
              "    </tr>\n",
              "    <tr>\n",
              "      <th>4</th>\n",
              "      <td>+nos+amours+1983</td>\n",
              "      <td>[Drama, Romance]</td>\n",
              "      <td>102</td>\n",
              "    </tr>\n",
              "    <tr>\n",
              "      <th>...</th>\n",
              "      <td>...</td>\n",
              "      <td>...</td>\n",
              "      <td>...</td>\n",
              "    </tr>\n",
              "    <tr>\n",
              "      <th>25502</th>\n",
              "      <td>zulu+1964</td>\n",
              "      <td>[Action, Drama, History, War]</td>\n",
              "      <td>138</td>\n",
              "    </tr>\n",
              "    <tr>\n",
              "      <th>25503</th>\n",
              "      <td>zulu+2013</td>\n",
              "      <td>[Crime, Drama, Thriller]</td>\n",
              "      <td>110</td>\n",
              "    </tr>\n",
              "    <tr>\n",
              "      <th>25504</th>\n",
              "      <td>zulu+dawn+1979</td>\n",
              "      <td>[Adventure, Drama, History, War]</td>\n",
              "      <td>117</td>\n",
              "    </tr>\n",
              "    <tr>\n",
              "      <th>25505</th>\n",
              "      <td>zus++zo+2001</td>\n",
              "      <td>[Comedy]</td>\n",
              "      <td>106</td>\n",
              "    </tr>\n",
              "    <tr>\n",
              "      <th>25506</th>\n",
              "      <td>zuzu+angel+2006</td>\n",
              "      <td>[Drama]</td>\n",
              "      <td>108</td>\n",
              "    </tr>\n",
              "  </tbody>\n",
              "</table>\n",
              "<p>25507 rows × 3 columns</p>\n",
              "</div>\n",
              "      <button class=\"colab-df-convert\" onclick=\"convertToInteractive('df-cc4be3ca-935d-4d71-99a9-77c32d4bf574')\"\n",
              "              title=\"Convert this dataframe to an interactive table.\"\n",
              "              style=\"display:none;\">\n",
              "        \n",
              "  <svg xmlns=\"http://www.w3.org/2000/svg\" height=\"24px\"viewBox=\"0 0 24 24\"\n",
              "       width=\"24px\">\n",
              "    <path d=\"M0 0h24v24H0V0z\" fill=\"none\"/>\n",
              "    <path d=\"M18.56 5.44l.94 2.06.94-2.06 2.06-.94-2.06-.94-.94-2.06-.94 2.06-2.06.94zm-11 1L8.5 8.5l.94-2.06 2.06-.94-2.06-.94L8.5 2.5l-.94 2.06-2.06.94zm10 10l.94 2.06.94-2.06 2.06-.94-2.06-.94-.94-2.06-.94 2.06-2.06.94z\"/><path d=\"M17.41 7.96l-1.37-1.37c-.4-.4-.92-.59-1.43-.59-.52 0-1.04.2-1.43.59L10.3 9.45l-7.72 7.72c-.78.78-.78 2.05 0 2.83L4 21.41c.39.39.9.59 1.41.59.51 0 1.02-.2 1.41-.59l7.78-7.78 2.81-2.81c.8-.78.8-2.07 0-2.86zM5.41 20L4 18.59l7.72-7.72 1.47 1.35L5.41 20z\"/>\n",
              "  </svg>\n",
              "      </button>\n",
              "      \n",
              "  <style>\n",
              "    .colab-df-container {\n",
              "      display:flex;\n",
              "      flex-wrap:wrap;\n",
              "      gap: 12px;\n",
              "    }\n",
              "\n",
              "    .colab-df-convert {\n",
              "      background-color: #E8F0FE;\n",
              "      border: none;\n",
              "      border-radius: 50%;\n",
              "      cursor: pointer;\n",
              "      display: none;\n",
              "      fill: #1967D2;\n",
              "      height: 32px;\n",
              "      padding: 0 0 0 0;\n",
              "      width: 32px;\n",
              "    }\n",
              "\n",
              "    .colab-df-convert:hover {\n",
              "      background-color: #E2EBFA;\n",
              "      box-shadow: 0px 1px 2px rgba(60, 64, 67, 0.3), 0px 1px 3px 1px rgba(60, 64, 67, 0.15);\n",
              "      fill: #174EA6;\n",
              "    }\n",
              "\n",
              "    [theme=dark] .colab-df-convert {\n",
              "      background-color: #3B4455;\n",
              "      fill: #D2E3FC;\n",
              "    }\n",
              "\n",
              "    [theme=dark] .colab-df-convert:hover {\n",
              "      background-color: #434B5C;\n",
              "      box-shadow: 0px 1px 3px 1px rgba(0, 0, 0, 0.15);\n",
              "      filter: drop-shadow(0px 1px 2px rgba(0, 0, 0, 0.3));\n",
              "      fill: #FFFFFF;\n",
              "    }\n",
              "  </style>\n",
              "\n",
              "      <script>\n",
              "        const buttonEl =\n",
              "          document.querySelector('#df-cc4be3ca-935d-4d71-99a9-77c32d4bf574 button.colab-df-convert');\n",
              "        buttonEl.style.display =\n",
              "          google.colab.kernel.accessAllowed ? 'block' : 'none';\n",
              "\n",
              "        async function convertToInteractive(key) {\n",
              "          const element = document.querySelector('#df-cc4be3ca-935d-4d71-99a9-77c32d4bf574');\n",
              "          const dataTable =\n",
              "            await google.colab.kernel.invokeFunction('convertToInteractive',\n",
              "                                                     [key], {});\n",
              "          if (!dataTable) return;\n",
              "\n",
              "          const docLinkHtml = 'Like what you see? Visit the ' +\n",
              "            '<a target=\"_blank\" href=https://colab.research.google.com/notebooks/data_table.ipynb>data table notebook</a>'\n",
              "            + ' to learn more about interactive tables.';\n",
              "          element.innerHTML = '';\n",
              "          dataTable['output_type'] = 'display_data';\n",
              "          await google.colab.output.renderOutput(dataTable, element);\n",
              "          const docLink = document.createElement('div');\n",
              "          docLink.innerHTML = docLinkHtml;\n",
              "          element.appendChild(docLink);\n",
              "        }\n",
              "      </script>\n",
              "    </div>\n",
              "  </div>\n",
              "  "
            ]
          },
          "metadata": {},
          "execution_count": 20
        }
      ]
    },
    {
      "cell_type": "code",
      "source": [
        "movies['genres'][35]"
      ],
      "metadata": {
        "colab": {
          "base_uri": "https://localhost:8080/"
        },
        "id": "-P4AKFiwfpI0",
        "outputId": "e2039424-8d59-46b5-8519-99cfcbcdeb0b"
      },
      "execution_count": null,
      "outputs": [
        {
          "output_type": "execute_result",
          "data": {
            "text/plain": [
              "[]"
            ]
          },
          "metadata": {},
          "execution_count": 21
        }
      ]
    },
    {
      "cell_type": "code",
      "source": [
        "unique_genres = movies[\"genres\"].explode().unique() "
      ],
      "metadata": {
        "id": "Wm5PiG8vpUYE"
      },
      "execution_count": null,
      "outputs": []
    },
    {
      "cell_type": "code",
      "source": [
        "unique_genres[:10]"
      ],
      "metadata": {
        "colab": {
          "base_uri": "https://localhost:8080/"
        },
        "id": "hAZX0MBMMyso",
        "outputId": "3ef65946-aa8a-46b8-8e4b-0f59539e97d9"
      },
      "execution_count": null,
      "outputs": [
        {
          "output_type": "execute_result",
          "data": {
            "text/plain": [
              "array(['Comedy', 'Mystery', 'Crime', 'Drama', 'Romance', 'Documentary',\n",
              "       'Thriller', 'Action', 'Animation', 'Science Fiction'], dtype=object)"
            ]
          },
          "metadata": {},
          "execution_count": 23
        }
      ]
    },
    {
      "cell_type": "code",
      "source": [
        "len(unique_genres)"
      ],
      "metadata": {
        "colab": {
          "base_uri": "https://localhost:8080/"
        },
        "id": "G5tLeo5N0izF",
        "outputId": "d244b81d-3c88-4055-c2df-78c2d321dc17"
      },
      "execution_count": null,
      "outputs": [
        {
          "output_type": "execute_result",
          "data": {
            "text/plain": [
              "21"
            ]
          },
          "metadata": {},
          "execution_count": 24
        }
      ]
    },
    {
      "cell_type": "code",
      "source": [
        "movies = pd.concat([\n",
        "        movies.drop(\"genres\", 1),\n",
        "        movies.genres.apply(lambda x: pd.Series(1, x)).fillna(0)\n",
        "    ], axis=1)"
      ],
      "metadata": {
        "colab": {
          "base_uri": "https://localhost:8080/"
        },
        "id": "QqKa1ZK-HdX-",
        "outputId": "2b902eab-30c0-48a5-a554-04a8928a2053"
      },
      "execution_count": null,
      "outputs": [
        {
          "output_type": "stream",
          "name": "stderr",
          "text": [
            "/usr/local/lib/python3.7/dist-packages/ipykernel_launcher.py:2: FutureWarning: In a future version of pandas all arguments of DataFrame.drop except for the argument 'labels' will be keyword-only\n",
            "  \n"
          ]
        }
      ]
    },
    {
      "cell_type": "code",
      "source": [
        "movies.dtypes"
      ],
      "metadata": {
        "colab": {
          "base_uri": "https://localhost:8080/"
        },
        "id": "VF6rZ84IHtot",
        "outputId": "f335ea4f-fe16-45a6-c26c-553b741446cd"
      },
      "execution_count": null,
      "outputs": [
        {
          "output_type": "execute_result",
          "data": {
            "text/plain": [
              "movieID             object\n",
              "length               int64\n",
              "Comedy             float64\n",
              "Mystery            float64\n",
              "Crime              float64\n",
              "Drama              float64\n",
              "Romance            float64\n",
              "Documentary        float64\n",
              "Thriller           float64\n",
              "Action             float64\n",
              "Animation          float64\n",
              "Science Fiction    float64\n",
              "Adventure          float64\n",
              "War                float64\n",
              "Horror             float64\n",
              "Western            float64\n",
              "Fantasy            float64\n",
              "Family             float64\n",
              "History            float64\n",
              "TV Movie           float64\n",
              "Music              float64\n",
              "Foreign            float64\n",
              "dtype: object"
            ]
          },
          "metadata": {},
          "execution_count": 26
        }
      ]
    },
    {
      "cell_type": "code",
      "source": [
        "movies = movies[['movieID', 'length']].join(movies.iloc[:,2:].astype(\"int8\"))"
      ],
      "metadata": {
        "id": "_L4iJyi5FiBs"
      },
      "execution_count": null,
      "outputs": []
    },
    {
      "cell_type": "code",
      "source": [
        "movies"
      ],
      "metadata": {
        "colab": {
          "base_uri": "https://localhost:8080/",
          "height": 424
        },
        "id": "j4mxQLso6xDI",
        "outputId": "847231db-4f50-4484-944f-578ce4dc843b"
      },
      "execution_count": null,
      "outputs": [
        {
          "output_type": "execute_result",
          "data": {
            "text/plain": [
              "                movieID  length  Comedy  Mystery  Crime  Drama  Romance  \\\n",
              "0            ++++++1959      98       1        0      0      0        0   \n",
              "1              ++++2013      90       0        1      1      1        0   \n",
              "2         +la+mode+1993      82       1        0      0      0        0   \n",
              "3       +laventure+2008     104       0        0      0      1        0   \n",
              "4      +nos+amours+1983     102       0        0      0      1        1   \n",
              "...                 ...     ...     ...      ...    ...    ...      ...   \n",
              "25502         zulu+1964     138       0        0      0      1        0   \n",
              "25503         zulu+2013     110       0        0      1      1        0   \n",
              "25504    zulu+dawn+1979     117       0        0      0      1        0   \n",
              "25505      zus++zo+2001     106       1        0      0      0        0   \n",
              "25506   zuzu+angel+2006     108       0        0      0      1        0   \n",
              "\n",
              "       Documentary  Thriller  Action  ...  Adventure  War  Horror  Western  \\\n",
              "0                0         0       0  ...          0    0       0        0   \n",
              "1                0         0       0  ...          0    0       0        0   \n",
              "2                0         0       0  ...          0    0       0        0   \n",
              "3                0         0       0  ...          0    0       0        0   \n",
              "4                0         0       0  ...          0    0       0        0   \n",
              "...            ...       ...     ...  ...        ...  ...     ...      ...   \n",
              "25502            0         0       1  ...          0    1       0        0   \n",
              "25503            0         1       0  ...          0    0       0        0   \n",
              "25504            0         0       0  ...          1    1       0        0   \n",
              "25505            0         0       0  ...          0    0       0        0   \n",
              "25506            0         0       0  ...          0    0       0        0   \n",
              "\n",
              "       Fantasy  Family  History  TV Movie  Music  Foreign  \n",
              "0            0       0        0         0      0        0  \n",
              "1            0       0        0         0      0        0  \n",
              "2            0       0        0         0      0        0  \n",
              "3            0       0        0         0      0        0  \n",
              "4            0       0        0         0      0        0  \n",
              "...        ...     ...      ...       ...    ...      ...  \n",
              "25502        0       0        1         0      0        0  \n",
              "25503        0       0        0         0      0        0  \n",
              "25504        0       0        1         0      0        0  \n",
              "25505        0       0        0         0      0        0  \n",
              "25506        0       0        0         0      0        0  \n",
              "\n",
              "[25507 rows x 22 columns]"
            ],
            "text/html": [
              "\n",
              "  <div id=\"df-3e9563d6-f13d-4605-83e6-8ad693bed688\">\n",
              "    <div class=\"colab-df-container\">\n",
              "      <div>\n",
              "<style scoped>\n",
              "    .dataframe tbody tr th:only-of-type {\n",
              "        vertical-align: middle;\n",
              "    }\n",
              "\n",
              "    .dataframe tbody tr th {\n",
              "        vertical-align: top;\n",
              "    }\n",
              "\n",
              "    .dataframe thead th {\n",
              "        text-align: right;\n",
              "    }\n",
              "</style>\n",
              "<table border=\"1\" class=\"dataframe\">\n",
              "  <thead>\n",
              "    <tr style=\"text-align: right;\">\n",
              "      <th></th>\n",
              "      <th>movieID</th>\n",
              "      <th>length</th>\n",
              "      <th>Comedy</th>\n",
              "      <th>Mystery</th>\n",
              "      <th>Crime</th>\n",
              "      <th>Drama</th>\n",
              "      <th>Romance</th>\n",
              "      <th>Documentary</th>\n",
              "      <th>Thriller</th>\n",
              "      <th>Action</th>\n",
              "      <th>...</th>\n",
              "      <th>Adventure</th>\n",
              "      <th>War</th>\n",
              "      <th>Horror</th>\n",
              "      <th>Western</th>\n",
              "      <th>Fantasy</th>\n",
              "      <th>Family</th>\n",
              "      <th>History</th>\n",
              "      <th>TV Movie</th>\n",
              "      <th>Music</th>\n",
              "      <th>Foreign</th>\n",
              "    </tr>\n",
              "  </thead>\n",
              "  <tbody>\n",
              "    <tr>\n",
              "      <th>0</th>\n",
              "      <td>++++++1959</td>\n",
              "      <td>98</td>\n",
              "      <td>1</td>\n",
              "      <td>0</td>\n",
              "      <td>0</td>\n",
              "      <td>0</td>\n",
              "      <td>0</td>\n",
              "      <td>0</td>\n",
              "      <td>0</td>\n",
              "      <td>0</td>\n",
              "      <td>...</td>\n",
              "      <td>0</td>\n",
              "      <td>0</td>\n",
              "      <td>0</td>\n",
              "      <td>0</td>\n",
              "      <td>0</td>\n",
              "      <td>0</td>\n",
              "      <td>0</td>\n",
              "      <td>0</td>\n",
              "      <td>0</td>\n",
              "      <td>0</td>\n",
              "    </tr>\n",
              "    <tr>\n",
              "      <th>1</th>\n",
              "      <td>++++2013</td>\n",
              "      <td>90</td>\n",
              "      <td>0</td>\n",
              "      <td>1</td>\n",
              "      <td>1</td>\n",
              "      <td>1</td>\n",
              "      <td>0</td>\n",
              "      <td>0</td>\n",
              "      <td>0</td>\n",
              "      <td>0</td>\n",
              "      <td>...</td>\n",
              "      <td>0</td>\n",
              "      <td>0</td>\n",
              "      <td>0</td>\n",
              "      <td>0</td>\n",
              "      <td>0</td>\n",
              "      <td>0</td>\n",
              "      <td>0</td>\n",
              "      <td>0</td>\n",
              "      <td>0</td>\n",
              "      <td>0</td>\n",
              "    </tr>\n",
              "    <tr>\n",
              "      <th>2</th>\n",
              "      <td>+la+mode+1993</td>\n",
              "      <td>82</td>\n",
              "      <td>1</td>\n",
              "      <td>0</td>\n",
              "      <td>0</td>\n",
              "      <td>0</td>\n",
              "      <td>0</td>\n",
              "      <td>0</td>\n",
              "      <td>0</td>\n",
              "      <td>0</td>\n",
              "      <td>...</td>\n",
              "      <td>0</td>\n",
              "      <td>0</td>\n",
              "      <td>0</td>\n",
              "      <td>0</td>\n",
              "      <td>0</td>\n",
              "      <td>0</td>\n",
              "      <td>0</td>\n",
              "      <td>0</td>\n",
              "      <td>0</td>\n",
              "      <td>0</td>\n",
              "    </tr>\n",
              "    <tr>\n",
              "      <th>3</th>\n",
              "      <td>+laventure+2008</td>\n",
              "      <td>104</td>\n",
              "      <td>0</td>\n",
              "      <td>0</td>\n",
              "      <td>0</td>\n",
              "      <td>1</td>\n",
              "      <td>0</td>\n",
              "      <td>0</td>\n",
              "      <td>0</td>\n",
              "      <td>0</td>\n",
              "      <td>...</td>\n",
              "      <td>0</td>\n",
              "      <td>0</td>\n",
              "      <td>0</td>\n",
              "      <td>0</td>\n",
              "      <td>0</td>\n",
              "      <td>0</td>\n",
              "      <td>0</td>\n",
              "      <td>0</td>\n",
              "      <td>0</td>\n",
              "      <td>0</td>\n",
              "    </tr>\n",
              "    <tr>\n",
              "      <th>4</th>\n",
              "      <td>+nos+amours+1983</td>\n",
              "      <td>102</td>\n",
              "      <td>0</td>\n",
              "      <td>0</td>\n",
              "      <td>0</td>\n",
              "      <td>1</td>\n",
              "      <td>1</td>\n",
              "      <td>0</td>\n",
              "      <td>0</td>\n",
              "      <td>0</td>\n",
              "      <td>...</td>\n",
              "      <td>0</td>\n",
              "      <td>0</td>\n",
              "      <td>0</td>\n",
              "      <td>0</td>\n",
              "      <td>0</td>\n",
              "      <td>0</td>\n",
              "      <td>0</td>\n",
              "      <td>0</td>\n",
              "      <td>0</td>\n",
              "      <td>0</td>\n",
              "    </tr>\n",
              "    <tr>\n",
              "      <th>...</th>\n",
              "      <td>...</td>\n",
              "      <td>...</td>\n",
              "      <td>...</td>\n",
              "      <td>...</td>\n",
              "      <td>...</td>\n",
              "      <td>...</td>\n",
              "      <td>...</td>\n",
              "      <td>...</td>\n",
              "      <td>...</td>\n",
              "      <td>...</td>\n",
              "      <td>...</td>\n",
              "      <td>...</td>\n",
              "      <td>...</td>\n",
              "      <td>...</td>\n",
              "      <td>...</td>\n",
              "      <td>...</td>\n",
              "      <td>...</td>\n",
              "      <td>...</td>\n",
              "      <td>...</td>\n",
              "      <td>...</td>\n",
              "      <td>...</td>\n",
              "    </tr>\n",
              "    <tr>\n",
              "      <th>25502</th>\n",
              "      <td>zulu+1964</td>\n",
              "      <td>138</td>\n",
              "      <td>0</td>\n",
              "      <td>0</td>\n",
              "      <td>0</td>\n",
              "      <td>1</td>\n",
              "      <td>0</td>\n",
              "      <td>0</td>\n",
              "      <td>0</td>\n",
              "      <td>1</td>\n",
              "      <td>...</td>\n",
              "      <td>0</td>\n",
              "      <td>1</td>\n",
              "      <td>0</td>\n",
              "      <td>0</td>\n",
              "      <td>0</td>\n",
              "      <td>0</td>\n",
              "      <td>1</td>\n",
              "      <td>0</td>\n",
              "      <td>0</td>\n",
              "      <td>0</td>\n",
              "    </tr>\n",
              "    <tr>\n",
              "      <th>25503</th>\n",
              "      <td>zulu+2013</td>\n",
              "      <td>110</td>\n",
              "      <td>0</td>\n",
              "      <td>0</td>\n",
              "      <td>1</td>\n",
              "      <td>1</td>\n",
              "      <td>0</td>\n",
              "      <td>0</td>\n",
              "      <td>1</td>\n",
              "      <td>0</td>\n",
              "      <td>...</td>\n",
              "      <td>0</td>\n",
              "      <td>0</td>\n",
              "      <td>0</td>\n",
              "      <td>0</td>\n",
              "      <td>0</td>\n",
              "      <td>0</td>\n",
              "      <td>0</td>\n",
              "      <td>0</td>\n",
              "      <td>0</td>\n",
              "      <td>0</td>\n",
              "    </tr>\n",
              "    <tr>\n",
              "      <th>25504</th>\n",
              "      <td>zulu+dawn+1979</td>\n",
              "      <td>117</td>\n",
              "      <td>0</td>\n",
              "      <td>0</td>\n",
              "      <td>0</td>\n",
              "      <td>1</td>\n",
              "      <td>0</td>\n",
              "      <td>0</td>\n",
              "      <td>0</td>\n",
              "      <td>0</td>\n",
              "      <td>...</td>\n",
              "      <td>1</td>\n",
              "      <td>1</td>\n",
              "      <td>0</td>\n",
              "      <td>0</td>\n",
              "      <td>0</td>\n",
              "      <td>0</td>\n",
              "      <td>1</td>\n",
              "      <td>0</td>\n",
              "      <td>0</td>\n",
              "      <td>0</td>\n",
              "    </tr>\n",
              "    <tr>\n",
              "      <th>25505</th>\n",
              "      <td>zus++zo+2001</td>\n",
              "      <td>106</td>\n",
              "      <td>1</td>\n",
              "      <td>0</td>\n",
              "      <td>0</td>\n",
              "      <td>0</td>\n",
              "      <td>0</td>\n",
              "      <td>0</td>\n",
              "      <td>0</td>\n",
              "      <td>0</td>\n",
              "      <td>...</td>\n",
              "      <td>0</td>\n",
              "      <td>0</td>\n",
              "      <td>0</td>\n",
              "      <td>0</td>\n",
              "      <td>0</td>\n",
              "      <td>0</td>\n",
              "      <td>0</td>\n",
              "      <td>0</td>\n",
              "      <td>0</td>\n",
              "      <td>0</td>\n",
              "    </tr>\n",
              "    <tr>\n",
              "      <th>25506</th>\n",
              "      <td>zuzu+angel+2006</td>\n",
              "      <td>108</td>\n",
              "      <td>0</td>\n",
              "      <td>0</td>\n",
              "      <td>0</td>\n",
              "      <td>1</td>\n",
              "      <td>0</td>\n",
              "      <td>0</td>\n",
              "      <td>0</td>\n",
              "      <td>0</td>\n",
              "      <td>...</td>\n",
              "      <td>0</td>\n",
              "      <td>0</td>\n",
              "      <td>0</td>\n",
              "      <td>0</td>\n",
              "      <td>0</td>\n",
              "      <td>0</td>\n",
              "      <td>0</td>\n",
              "      <td>0</td>\n",
              "      <td>0</td>\n",
              "      <td>0</td>\n",
              "    </tr>\n",
              "  </tbody>\n",
              "</table>\n",
              "<p>25507 rows × 22 columns</p>\n",
              "</div>\n",
              "      <button class=\"colab-df-convert\" onclick=\"convertToInteractive('df-3e9563d6-f13d-4605-83e6-8ad693bed688')\"\n",
              "              title=\"Convert this dataframe to an interactive table.\"\n",
              "              style=\"display:none;\">\n",
              "        \n",
              "  <svg xmlns=\"http://www.w3.org/2000/svg\" height=\"24px\"viewBox=\"0 0 24 24\"\n",
              "       width=\"24px\">\n",
              "    <path d=\"M0 0h24v24H0V0z\" fill=\"none\"/>\n",
              "    <path d=\"M18.56 5.44l.94 2.06.94-2.06 2.06-.94-2.06-.94-.94-2.06-.94 2.06-2.06.94zm-11 1L8.5 8.5l.94-2.06 2.06-.94-2.06-.94L8.5 2.5l-.94 2.06-2.06.94zm10 10l.94 2.06.94-2.06 2.06-.94-2.06-.94-.94-2.06-.94 2.06-2.06.94z\"/><path d=\"M17.41 7.96l-1.37-1.37c-.4-.4-.92-.59-1.43-.59-.52 0-1.04.2-1.43.59L10.3 9.45l-7.72 7.72c-.78.78-.78 2.05 0 2.83L4 21.41c.39.39.9.59 1.41.59.51 0 1.02-.2 1.41-.59l7.78-7.78 2.81-2.81c.8-.78.8-2.07 0-2.86zM5.41 20L4 18.59l7.72-7.72 1.47 1.35L5.41 20z\"/>\n",
              "  </svg>\n",
              "      </button>\n",
              "      \n",
              "  <style>\n",
              "    .colab-df-container {\n",
              "      display:flex;\n",
              "      flex-wrap:wrap;\n",
              "      gap: 12px;\n",
              "    }\n",
              "\n",
              "    .colab-df-convert {\n",
              "      background-color: #E8F0FE;\n",
              "      border: none;\n",
              "      border-radius: 50%;\n",
              "      cursor: pointer;\n",
              "      display: none;\n",
              "      fill: #1967D2;\n",
              "      height: 32px;\n",
              "      padding: 0 0 0 0;\n",
              "      width: 32px;\n",
              "    }\n",
              "\n",
              "    .colab-df-convert:hover {\n",
              "      background-color: #E2EBFA;\n",
              "      box-shadow: 0px 1px 2px rgba(60, 64, 67, 0.3), 0px 1px 3px 1px rgba(60, 64, 67, 0.15);\n",
              "      fill: #174EA6;\n",
              "    }\n",
              "\n",
              "    [theme=dark] .colab-df-convert {\n",
              "      background-color: #3B4455;\n",
              "      fill: #D2E3FC;\n",
              "    }\n",
              "\n",
              "    [theme=dark] .colab-df-convert:hover {\n",
              "      background-color: #434B5C;\n",
              "      box-shadow: 0px 1px 3px 1px rgba(0, 0, 0, 0.15);\n",
              "      filter: drop-shadow(0px 1px 2px rgba(0, 0, 0, 0.3));\n",
              "      fill: #FFFFFF;\n",
              "    }\n",
              "  </style>\n",
              "\n",
              "      <script>\n",
              "        const buttonEl =\n",
              "          document.querySelector('#df-3e9563d6-f13d-4605-83e6-8ad693bed688 button.colab-df-convert');\n",
              "        buttonEl.style.display =\n",
              "          google.colab.kernel.accessAllowed ? 'block' : 'none';\n",
              "\n",
              "        async function convertToInteractive(key) {\n",
              "          const element = document.querySelector('#df-3e9563d6-f13d-4605-83e6-8ad693bed688');\n",
              "          const dataTable =\n",
              "            await google.colab.kernel.invokeFunction('convertToInteractive',\n",
              "                                                     [key], {});\n",
              "          if (!dataTable) return;\n",
              "\n",
              "          const docLinkHtml = 'Like what you see? Visit the ' +\n",
              "            '<a target=\"_blank\" href=https://colab.research.google.com/notebooks/data_table.ipynb>data table notebook</a>'\n",
              "            + ' to learn more about interactive tables.';\n",
              "          element.innerHTML = '';\n",
              "          dataTable['output_type'] = 'display_data';\n",
              "          await google.colab.output.renderOutput(dataTable, element);\n",
              "          const docLink = document.createElement('div');\n",
              "          docLink.innerHTML = docLinkHtml;\n",
              "          element.appendChild(docLink);\n",
              "        }\n",
              "      </script>\n",
              "    </div>\n",
              "  </div>\n",
              "  "
            ]
          },
          "metadata": {},
          "execution_count": 28
        }
      ]
    },
    {
      "cell_type": "code",
      "source": [
        "movies.isna().sum()"
      ],
      "metadata": {
        "colab": {
          "base_uri": "https://localhost:8080/"
        },
        "id": "uunfXmA89GXe",
        "outputId": "3ea775e3-f651-497a-d097-13abc822ceac"
      },
      "execution_count": null,
      "outputs": [
        {
          "output_type": "execute_result",
          "data": {
            "text/plain": [
              "movieID            0\n",
              "length             0\n",
              "Comedy             0\n",
              "Mystery            0\n",
              "Crime              0\n",
              "Drama              0\n",
              "Romance            0\n",
              "Documentary        0\n",
              "Thriller           0\n",
              "Action             0\n",
              "Animation          0\n",
              "Science Fiction    0\n",
              "Adventure          0\n",
              "War                0\n",
              "Horror             0\n",
              "Western            0\n",
              "Fantasy            0\n",
              "Family             0\n",
              "History            0\n",
              "TV Movie           0\n",
              "Music              0\n",
              "Foreign            0\n",
              "dtype: int64"
            ]
          },
          "metadata": {},
          "execution_count": 29
        }
      ]
    },
    {
      "cell_type": "code",
      "source": [
        "movies.loc[movies.isnull().any(axis=1)]"
      ],
      "metadata": {
        "colab": {
          "base_uri": "https://localhost:8080/",
          "height": 79
        },
        "id": "Gvp1huco6478",
        "outputId": "bcaa2e1a-ec06-4483-d860-01230f3c32cc"
      },
      "execution_count": null,
      "outputs": [
        {
          "output_type": "execute_result",
          "data": {
            "text/plain": [
              "Empty DataFrame\n",
              "Columns: [movieID, length, Comedy, Mystery, Crime, Drama, Romance, Documentary, Thriller, Action, Animation, Science Fiction, Adventure, War, Horror, Western, Fantasy, Family, History, TV Movie, Music, Foreign]\n",
              "Index: []\n",
              "\n",
              "[0 rows x 22 columns]"
            ],
            "text/html": [
              "\n",
              "  <div id=\"df-4892383d-e63d-4235-a830-f589a1b6b3c6\">\n",
              "    <div class=\"colab-df-container\">\n",
              "      <div>\n",
              "<style scoped>\n",
              "    .dataframe tbody tr th:only-of-type {\n",
              "        vertical-align: middle;\n",
              "    }\n",
              "\n",
              "    .dataframe tbody tr th {\n",
              "        vertical-align: top;\n",
              "    }\n",
              "\n",
              "    .dataframe thead th {\n",
              "        text-align: right;\n",
              "    }\n",
              "</style>\n",
              "<table border=\"1\" class=\"dataframe\">\n",
              "  <thead>\n",
              "    <tr style=\"text-align: right;\">\n",
              "      <th></th>\n",
              "      <th>movieID</th>\n",
              "      <th>length</th>\n",
              "      <th>Comedy</th>\n",
              "      <th>Mystery</th>\n",
              "      <th>Crime</th>\n",
              "      <th>Drama</th>\n",
              "      <th>Romance</th>\n",
              "      <th>Documentary</th>\n",
              "      <th>Thriller</th>\n",
              "      <th>Action</th>\n",
              "      <th>...</th>\n",
              "      <th>Adventure</th>\n",
              "      <th>War</th>\n",
              "      <th>Horror</th>\n",
              "      <th>Western</th>\n",
              "      <th>Fantasy</th>\n",
              "      <th>Family</th>\n",
              "      <th>History</th>\n",
              "      <th>TV Movie</th>\n",
              "      <th>Music</th>\n",
              "      <th>Foreign</th>\n",
              "    </tr>\n",
              "  </thead>\n",
              "  <tbody>\n",
              "  </tbody>\n",
              "</table>\n",
              "<p>0 rows × 22 columns</p>\n",
              "</div>\n",
              "      <button class=\"colab-df-convert\" onclick=\"convertToInteractive('df-4892383d-e63d-4235-a830-f589a1b6b3c6')\"\n",
              "              title=\"Convert this dataframe to an interactive table.\"\n",
              "              style=\"display:none;\">\n",
              "        \n",
              "  <svg xmlns=\"http://www.w3.org/2000/svg\" height=\"24px\"viewBox=\"0 0 24 24\"\n",
              "       width=\"24px\">\n",
              "    <path d=\"M0 0h24v24H0V0z\" fill=\"none\"/>\n",
              "    <path d=\"M18.56 5.44l.94 2.06.94-2.06 2.06-.94-2.06-.94-.94-2.06-.94 2.06-2.06.94zm-11 1L8.5 8.5l.94-2.06 2.06-.94-2.06-.94L8.5 2.5l-.94 2.06-2.06.94zm10 10l.94 2.06.94-2.06 2.06-.94-2.06-.94-.94-2.06-.94 2.06-2.06.94z\"/><path d=\"M17.41 7.96l-1.37-1.37c-.4-.4-.92-.59-1.43-.59-.52 0-1.04.2-1.43.59L10.3 9.45l-7.72 7.72c-.78.78-.78 2.05 0 2.83L4 21.41c.39.39.9.59 1.41.59.51 0 1.02-.2 1.41-.59l7.78-7.78 2.81-2.81c.8-.78.8-2.07 0-2.86zM5.41 20L4 18.59l7.72-7.72 1.47 1.35L5.41 20z\"/>\n",
              "  </svg>\n",
              "      </button>\n",
              "      \n",
              "  <style>\n",
              "    .colab-df-container {\n",
              "      display:flex;\n",
              "      flex-wrap:wrap;\n",
              "      gap: 12px;\n",
              "    }\n",
              "\n",
              "    .colab-df-convert {\n",
              "      background-color: #E8F0FE;\n",
              "      border: none;\n",
              "      border-radius: 50%;\n",
              "      cursor: pointer;\n",
              "      display: none;\n",
              "      fill: #1967D2;\n",
              "      height: 32px;\n",
              "      padding: 0 0 0 0;\n",
              "      width: 32px;\n",
              "    }\n",
              "\n",
              "    .colab-df-convert:hover {\n",
              "      background-color: #E2EBFA;\n",
              "      box-shadow: 0px 1px 2px rgba(60, 64, 67, 0.3), 0px 1px 3px 1px rgba(60, 64, 67, 0.15);\n",
              "      fill: #174EA6;\n",
              "    }\n",
              "\n",
              "    [theme=dark] .colab-df-convert {\n",
              "      background-color: #3B4455;\n",
              "      fill: #D2E3FC;\n",
              "    }\n",
              "\n",
              "    [theme=dark] .colab-df-convert:hover {\n",
              "      background-color: #434B5C;\n",
              "      box-shadow: 0px 1px 3px 1px rgba(0, 0, 0, 0.15);\n",
              "      filter: drop-shadow(0px 1px 2px rgba(0, 0, 0, 0.3));\n",
              "      fill: #FFFFFF;\n",
              "    }\n",
              "  </style>\n",
              "\n",
              "      <script>\n",
              "        const buttonEl =\n",
              "          document.querySelector('#df-4892383d-e63d-4235-a830-f589a1b6b3c6 button.colab-df-convert');\n",
              "        buttonEl.style.display =\n",
              "          google.colab.kernel.accessAllowed ? 'block' : 'none';\n",
              "\n",
              "        async function convertToInteractive(key) {\n",
              "          const element = document.querySelector('#df-4892383d-e63d-4235-a830-f589a1b6b3c6');\n",
              "          const dataTable =\n",
              "            await google.colab.kernel.invokeFunction('convertToInteractive',\n",
              "                                                     [key], {});\n",
              "          if (!dataTable) return;\n",
              "\n",
              "          const docLinkHtml = 'Like what you see? Visit the ' +\n",
              "            '<a target=\"_blank\" href=https://colab.research.google.com/notebooks/data_table.ipynb>data table notebook</a>'\n",
              "            + ' to learn more about interactive tables.';\n",
              "          element.innerHTML = '';\n",
              "          dataTable['output_type'] = 'display_data';\n",
              "          await google.colab.output.renderOutput(dataTable, element);\n",
              "          const docLink = document.createElement('div');\n",
              "          docLink.innerHTML = docLinkHtml;\n",
              "          element.appendChild(docLink);\n",
              "        }\n",
              "      </script>\n",
              "    </div>\n",
              "  </div>\n",
              "  "
            ]
          },
          "metadata": {},
          "execution_count": 30
        }
      ]
    },
    {
      "cell_type": "code",
      "source": [
        "ratings = ratings.merge(users, left_on = 'userID', right_on= 'userID')"
      ],
      "metadata": {
        "id": "Np8YUp9YRgfZ"
      },
      "execution_count": null,
      "outputs": []
    },
    {
      "cell_type": "code",
      "source": [
        "# adjust type of the column to the model\n",
        "ratings['userID'] = ratings['userID'].astype(str)\n",
        "ratings"
      ],
      "metadata": {
        "id": "Kh3-7fy0GrtL",
        "colab": {
          "base_uri": "https://localhost:8080/",
          "height": 424
        },
        "outputId": "ee94264a-9a08-4460-85cd-c664ee8b89b1"
      },
      "execution_count": null,
      "outputs": [
        {
          "output_type": "execute_result",
          "data": {
            "text/plain": [
              "        userID                                      movieID  ratings  age  \\\n",
              "0       340626  acapulco_+prima+spiaggia...+a+sinistra+1983        4   27   \n",
              "1        26447                                  otello+1986        3   27   \n",
              "2       172600                                   holes+2003        2   23   \n",
              "3       314533                my+brother+the+terrorist+2014        4   34   \n",
              "4       249289                      sommer+der+gaukler+2011        2   30   \n",
              "...        ...                                          ...      ...  ...   \n",
              "199995  130638                                whiplash+2014        5   26   \n",
              "199996  200610                   digging+up+the+marrow+2015        4   33   \n",
              "199997   47231                                the+zone+2007        4   27   \n",
              "199998  375329                          shall+we+dance+1937        5   33   \n",
              "199999  312219                       the+blue+umbrella+2013        4   30   \n",
              "\n",
              "        occupation  gender  \n",
              "0               11   False  \n",
              "1                7    True  \n",
              "2                7    True  \n",
              "3                4    True  \n",
              "4               15    True  \n",
              "...            ...     ...  \n",
              "199995           7    True  \n",
              "199996          14    True  \n",
              "199997           4    True  \n",
              "199998           1    True  \n",
              "199999           4    True  \n",
              "\n",
              "[200000 rows x 6 columns]"
            ],
            "text/html": [
              "\n",
              "  <div id=\"df-1454a69e-62aa-49e3-b043-774f2f8d7bb6\">\n",
              "    <div class=\"colab-df-container\">\n",
              "      <div>\n",
              "<style scoped>\n",
              "    .dataframe tbody tr th:only-of-type {\n",
              "        vertical-align: middle;\n",
              "    }\n",
              "\n",
              "    .dataframe tbody tr th {\n",
              "        vertical-align: top;\n",
              "    }\n",
              "\n",
              "    .dataframe thead th {\n",
              "        text-align: right;\n",
              "    }\n",
              "</style>\n",
              "<table border=\"1\" class=\"dataframe\">\n",
              "  <thead>\n",
              "    <tr style=\"text-align: right;\">\n",
              "      <th></th>\n",
              "      <th>userID</th>\n",
              "      <th>movieID</th>\n",
              "      <th>ratings</th>\n",
              "      <th>age</th>\n",
              "      <th>occupation</th>\n",
              "      <th>gender</th>\n",
              "    </tr>\n",
              "  </thead>\n",
              "  <tbody>\n",
              "    <tr>\n",
              "      <th>0</th>\n",
              "      <td>340626</td>\n",
              "      <td>acapulco_+prima+spiaggia...+a+sinistra+1983</td>\n",
              "      <td>4</td>\n",
              "      <td>27</td>\n",
              "      <td>11</td>\n",
              "      <td>False</td>\n",
              "    </tr>\n",
              "    <tr>\n",
              "      <th>1</th>\n",
              "      <td>26447</td>\n",
              "      <td>otello+1986</td>\n",
              "      <td>3</td>\n",
              "      <td>27</td>\n",
              "      <td>7</td>\n",
              "      <td>True</td>\n",
              "    </tr>\n",
              "    <tr>\n",
              "      <th>2</th>\n",
              "      <td>172600</td>\n",
              "      <td>holes+2003</td>\n",
              "      <td>2</td>\n",
              "      <td>23</td>\n",
              "      <td>7</td>\n",
              "      <td>True</td>\n",
              "    </tr>\n",
              "    <tr>\n",
              "      <th>3</th>\n",
              "      <td>314533</td>\n",
              "      <td>my+brother+the+terrorist+2014</td>\n",
              "      <td>4</td>\n",
              "      <td>34</td>\n",
              "      <td>4</td>\n",
              "      <td>True</td>\n",
              "    </tr>\n",
              "    <tr>\n",
              "      <th>4</th>\n",
              "      <td>249289</td>\n",
              "      <td>sommer+der+gaukler+2011</td>\n",
              "      <td>2</td>\n",
              "      <td>30</td>\n",
              "      <td>15</td>\n",
              "      <td>True</td>\n",
              "    </tr>\n",
              "    <tr>\n",
              "      <th>...</th>\n",
              "      <td>...</td>\n",
              "      <td>...</td>\n",
              "      <td>...</td>\n",
              "      <td>...</td>\n",
              "      <td>...</td>\n",
              "      <td>...</td>\n",
              "    </tr>\n",
              "    <tr>\n",
              "      <th>199995</th>\n",
              "      <td>130638</td>\n",
              "      <td>whiplash+2014</td>\n",
              "      <td>5</td>\n",
              "      <td>26</td>\n",
              "      <td>7</td>\n",
              "      <td>True</td>\n",
              "    </tr>\n",
              "    <tr>\n",
              "      <th>199996</th>\n",
              "      <td>200610</td>\n",
              "      <td>digging+up+the+marrow+2015</td>\n",
              "      <td>4</td>\n",
              "      <td>33</td>\n",
              "      <td>14</td>\n",
              "      <td>True</td>\n",
              "    </tr>\n",
              "    <tr>\n",
              "      <th>199997</th>\n",
              "      <td>47231</td>\n",
              "      <td>the+zone+2007</td>\n",
              "      <td>4</td>\n",
              "      <td>27</td>\n",
              "      <td>4</td>\n",
              "      <td>True</td>\n",
              "    </tr>\n",
              "    <tr>\n",
              "      <th>199998</th>\n",
              "      <td>375329</td>\n",
              "      <td>shall+we+dance+1937</td>\n",
              "      <td>5</td>\n",
              "      <td>33</td>\n",
              "      <td>1</td>\n",
              "      <td>True</td>\n",
              "    </tr>\n",
              "    <tr>\n",
              "      <th>199999</th>\n",
              "      <td>312219</td>\n",
              "      <td>the+blue+umbrella+2013</td>\n",
              "      <td>4</td>\n",
              "      <td>30</td>\n",
              "      <td>4</td>\n",
              "      <td>True</td>\n",
              "    </tr>\n",
              "  </tbody>\n",
              "</table>\n",
              "<p>200000 rows × 6 columns</p>\n",
              "</div>\n",
              "      <button class=\"colab-df-convert\" onclick=\"convertToInteractive('df-1454a69e-62aa-49e3-b043-774f2f8d7bb6')\"\n",
              "              title=\"Convert this dataframe to an interactive table.\"\n",
              "              style=\"display:none;\">\n",
              "        \n",
              "  <svg xmlns=\"http://www.w3.org/2000/svg\" height=\"24px\"viewBox=\"0 0 24 24\"\n",
              "       width=\"24px\">\n",
              "    <path d=\"M0 0h24v24H0V0z\" fill=\"none\"/>\n",
              "    <path d=\"M18.56 5.44l.94 2.06.94-2.06 2.06-.94-2.06-.94-.94-2.06-.94 2.06-2.06.94zm-11 1L8.5 8.5l.94-2.06 2.06-.94-2.06-.94L8.5 2.5l-.94 2.06-2.06.94zm10 10l.94 2.06.94-2.06 2.06-.94-2.06-.94-.94-2.06-.94 2.06-2.06.94z\"/><path d=\"M17.41 7.96l-1.37-1.37c-.4-.4-.92-.59-1.43-.59-.52 0-1.04.2-1.43.59L10.3 9.45l-7.72 7.72c-.78.78-.78 2.05 0 2.83L4 21.41c.39.39.9.59 1.41.59.51 0 1.02-.2 1.41-.59l7.78-7.78 2.81-2.81c.8-.78.8-2.07 0-2.86zM5.41 20L4 18.59l7.72-7.72 1.47 1.35L5.41 20z\"/>\n",
              "  </svg>\n",
              "      </button>\n",
              "      \n",
              "  <style>\n",
              "    .colab-df-container {\n",
              "      display:flex;\n",
              "      flex-wrap:wrap;\n",
              "      gap: 12px;\n",
              "    }\n",
              "\n",
              "    .colab-df-convert {\n",
              "      background-color: #E8F0FE;\n",
              "      border: none;\n",
              "      border-radius: 50%;\n",
              "      cursor: pointer;\n",
              "      display: none;\n",
              "      fill: #1967D2;\n",
              "      height: 32px;\n",
              "      padding: 0 0 0 0;\n",
              "      width: 32px;\n",
              "    }\n",
              "\n",
              "    .colab-df-convert:hover {\n",
              "      background-color: #E2EBFA;\n",
              "      box-shadow: 0px 1px 2px rgba(60, 64, 67, 0.3), 0px 1px 3px 1px rgba(60, 64, 67, 0.15);\n",
              "      fill: #174EA6;\n",
              "    }\n",
              "\n",
              "    [theme=dark] .colab-df-convert {\n",
              "      background-color: #3B4455;\n",
              "      fill: #D2E3FC;\n",
              "    }\n",
              "\n",
              "    [theme=dark] .colab-df-convert:hover {\n",
              "      background-color: #434B5C;\n",
              "      box-shadow: 0px 1px 3px 1px rgba(0, 0, 0, 0.15);\n",
              "      filter: drop-shadow(0px 1px 2px rgba(0, 0, 0, 0.3));\n",
              "      fill: #FFFFFF;\n",
              "    }\n",
              "  </style>\n",
              "\n",
              "      <script>\n",
              "        const buttonEl =\n",
              "          document.querySelector('#df-1454a69e-62aa-49e3-b043-774f2f8d7bb6 button.colab-df-convert');\n",
              "        buttonEl.style.display =\n",
              "          google.colab.kernel.accessAllowed ? 'block' : 'none';\n",
              "\n",
              "        async function convertToInteractive(key) {\n",
              "          const element = document.querySelector('#df-1454a69e-62aa-49e3-b043-774f2f8d7bb6');\n",
              "          const dataTable =\n",
              "            await google.colab.kernel.invokeFunction('convertToInteractive',\n",
              "                                                     [key], {});\n",
              "          if (!dataTable) return;\n",
              "\n",
              "          const docLinkHtml = 'Like what you see? Visit the ' +\n",
              "            '<a target=\"_blank\" href=https://colab.research.google.com/notebooks/data_table.ipynb>data table notebook</a>'\n",
              "            + ' to learn more about interactive tables.';\n",
              "          element.innerHTML = '';\n",
              "          dataTable['output_type'] = 'display_data';\n",
              "          await google.colab.output.renderOutput(dataTable, element);\n",
              "          const docLink = document.createElement('div');\n",
              "          docLink.innerHTML = docLinkHtml;\n",
              "          element.appendChild(docLink);\n",
              "        }\n",
              "      </script>\n",
              "    </div>\n",
              "  </div>\n",
              "  "
            ]
          },
          "metadata": {},
          "execution_count": 32
        }
      ]
    },
    {
      "cell_type": "code",
      "source": [
        "#movies['original_language'].fillna('en', inplace=True)\n",
        "#movies['overview'].fillna(' ', inplace=True)\n",
        "#movies['release_date'].fillna('2000-01-01', inplace=True)"
      ],
      "metadata": {
        "id": "xeF1nAOj-T1b"
      },
      "execution_count": null,
      "outputs": []
    },
    {
      "cell_type": "code",
      "source": [
        "#movies['genres'] = movies['genres'].astype(str)"
      ],
      "metadata": {
        "id": "E0-O7j1SqgEx"
      },
      "execution_count": null,
      "outputs": []
    },
    {
      "cell_type": "code",
      "source": [
        "ratings = ratings.merge(movies, left_on='movieID', right_on='movieID')"
      ],
      "metadata": {
        "id": "vQkzkgo-8pzK"
      },
      "execution_count": null,
      "outputs": []
    },
    {
      "cell_type": "code",
      "source": [
        "ratings"
      ],
      "metadata": {
        "colab": {
          "base_uri": "https://localhost:8080/",
          "height": 424
        },
        "id": "e_fEpHgR9g3l",
        "outputId": "ac92cd4c-afb2-43ce-ee8c-d20f16ad4415"
      },
      "execution_count": null,
      "outputs": [
        {
          "output_type": "execute_result",
          "data": {
            "text/plain": [
              "        userID                                      movieID  ratings  age  \\\n",
              "0       340626  acapulco_+prima+spiaggia...+a+sinistra+1983        4   27   \n",
              "1       120833  acapulco_+prima+spiaggia...+a+sinistra+1983        3   53   \n",
              "2       125301  acapulco_+prima+spiaggia...+a+sinistra+1983        4   29   \n",
              "3        26447                                  otello+1986        3   27   \n",
              "4       294309                                  otello+1986        4   34   \n",
              "...        ...                                          ...      ...  ...   \n",
              "199766  119698                                    lucy+2003        3   31   \n",
              "199767  389538                          the+fraternity+2002        3   28   \n",
              "199768  419919               the+blood+spattered+bride+1972        3   33   \n",
              "199769   48011                               destroyer+1943        4   30   \n",
              "199770  200610                   digging+up+the+marrow+2015        4   33   \n",
              "\n",
              "        occupation  gender  length  Comedy  Mystery  Crime  ...  Adventure  \\\n",
              "0               11   False       0       1        0      0  ...          0   \n",
              "1                7    True       0       1        0      0  ...          0   \n",
              "2                7    True       0       1        0      0  ...          0   \n",
              "3                7    True       0       0        0      0  ...          0   \n",
              "4                4    True       0       0        0      0  ...          0   \n",
              "...            ...     ...     ...     ...      ...    ...  ...        ...   \n",
              "199766          14    True     128       0        0      0  ...          0   \n",
              "199767          18    True     100       0        0      0  ...          0   \n",
              "199768           7    True     100       0        0      0  ...          0   \n",
              "199769           7    True      99       0        0      0  ...          1   \n",
              "199770          14    True      98       0        1      0  ...          0   \n",
              "\n",
              "        War  Horror  Western  Fantasy  Family  History  TV Movie  Music  \\\n",
              "0         0       0        0        0       0        0         0      0   \n",
              "1         0       0        0        0       0        0         0      0   \n",
              "2         0       0        0        0       0        0         0      0   \n",
              "3         0       0        0        0       0        0         0      0   \n",
              "4         0       0        0        0       0        0         0      0   \n",
              "...     ...     ...      ...      ...     ...      ...       ...    ...   \n",
              "199766    0       0        0        0       0        0         1      0   \n",
              "199767    0       0        0        0       0        0         0      0   \n",
              "199768    0       1        0        0       0        0         0      0   \n",
              "199769    1       0        0        0       0        0         0      0   \n",
              "199770    0       1        0        1       0        0         0      0   \n",
              "\n",
              "        Foreign  \n",
              "0             0  \n",
              "1             0  \n",
              "2             0  \n",
              "3             0  \n",
              "4             0  \n",
              "...         ...  \n",
              "199766        0  \n",
              "199767        0  \n",
              "199768        0  \n",
              "199769        0  \n",
              "199770        0  \n",
              "\n",
              "[199771 rows x 27 columns]"
            ],
            "text/html": [
              "\n",
              "  <div id=\"df-e1400c00-6f66-472e-b9c3-541575c98449\">\n",
              "    <div class=\"colab-df-container\">\n",
              "      <div>\n",
              "<style scoped>\n",
              "    .dataframe tbody tr th:only-of-type {\n",
              "        vertical-align: middle;\n",
              "    }\n",
              "\n",
              "    .dataframe tbody tr th {\n",
              "        vertical-align: top;\n",
              "    }\n",
              "\n",
              "    .dataframe thead th {\n",
              "        text-align: right;\n",
              "    }\n",
              "</style>\n",
              "<table border=\"1\" class=\"dataframe\">\n",
              "  <thead>\n",
              "    <tr style=\"text-align: right;\">\n",
              "      <th></th>\n",
              "      <th>userID</th>\n",
              "      <th>movieID</th>\n",
              "      <th>ratings</th>\n",
              "      <th>age</th>\n",
              "      <th>occupation</th>\n",
              "      <th>gender</th>\n",
              "      <th>length</th>\n",
              "      <th>Comedy</th>\n",
              "      <th>Mystery</th>\n",
              "      <th>Crime</th>\n",
              "      <th>...</th>\n",
              "      <th>Adventure</th>\n",
              "      <th>War</th>\n",
              "      <th>Horror</th>\n",
              "      <th>Western</th>\n",
              "      <th>Fantasy</th>\n",
              "      <th>Family</th>\n",
              "      <th>History</th>\n",
              "      <th>TV Movie</th>\n",
              "      <th>Music</th>\n",
              "      <th>Foreign</th>\n",
              "    </tr>\n",
              "  </thead>\n",
              "  <tbody>\n",
              "    <tr>\n",
              "      <th>0</th>\n",
              "      <td>340626</td>\n",
              "      <td>acapulco_+prima+spiaggia...+a+sinistra+1983</td>\n",
              "      <td>4</td>\n",
              "      <td>27</td>\n",
              "      <td>11</td>\n",
              "      <td>False</td>\n",
              "      <td>0</td>\n",
              "      <td>1</td>\n",
              "      <td>0</td>\n",
              "      <td>0</td>\n",
              "      <td>...</td>\n",
              "      <td>0</td>\n",
              "      <td>0</td>\n",
              "      <td>0</td>\n",
              "      <td>0</td>\n",
              "      <td>0</td>\n",
              "      <td>0</td>\n",
              "      <td>0</td>\n",
              "      <td>0</td>\n",
              "      <td>0</td>\n",
              "      <td>0</td>\n",
              "    </tr>\n",
              "    <tr>\n",
              "      <th>1</th>\n",
              "      <td>120833</td>\n",
              "      <td>acapulco_+prima+spiaggia...+a+sinistra+1983</td>\n",
              "      <td>3</td>\n",
              "      <td>53</td>\n",
              "      <td>7</td>\n",
              "      <td>True</td>\n",
              "      <td>0</td>\n",
              "      <td>1</td>\n",
              "      <td>0</td>\n",
              "      <td>0</td>\n",
              "      <td>...</td>\n",
              "      <td>0</td>\n",
              "      <td>0</td>\n",
              "      <td>0</td>\n",
              "      <td>0</td>\n",
              "      <td>0</td>\n",
              "      <td>0</td>\n",
              "      <td>0</td>\n",
              "      <td>0</td>\n",
              "      <td>0</td>\n",
              "      <td>0</td>\n",
              "    </tr>\n",
              "    <tr>\n",
              "      <th>2</th>\n",
              "      <td>125301</td>\n",
              "      <td>acapulco_+prima+spiaggia...+a+sinistra+1983</td>\n",
              "      <td>4</td>\n",
              "      <td>29</td>\n",
              "      <td>7</td>\n",
              "      <td>True</td>\n",
              "      <td>0</td>\n",
              "      <td>1</td>\n",
              "      <td>0</td>\n",
              "      <td>0</td>\n",
              "      <td>...</td>\n",
              "      <td>0</td>\n",
              "      <td>0</td>\n",
              "      <td>0</td>\n",
              "      <td>0</td>\n",
              "      <td>0</td>\n",
              "      <td>0</td>\n",
              "      <td>0</td>\n",
              "      <td>0</td>\n",
              "      <td>0</td>\n",
              "      <td>0</td>\n",
              "    </tr>\n",
              "    <tr>\n",
              "      <th>3</th>\n",
              "      <td>26447</td>\n",
              "      <td>otello+1986</td>\n",
              "      <td>3</td>\n",
              "      <td>27</td>\n",
              "      <td>7</td>\n",
              "      <td>True</td>\n",
              "      <td>0</td>\n",
              "      <td>0</td>\n",
              "      <td>0</td>\n",
              "      <td>0</td>\n",
              "      <td>...</td>\n",
              "      <td>0</td>\n",
              "      <td>0</td>\n",
              "      <td>0</td>\n",
              "      <td>0</td>\n",
              "      <td>0</td>\n",
              "      <td>0</td>\n",
              "      <td>0</td>\n",
              "      <td>0</td>\n",
              "      <td>0</td>\n",
              "      <td>0</td>\n",
              "    </tr>\n",
              "    <tr>\n",
              "      <th>4</th>\n",
              "      <td>294309</td>\n",
              "      <td>otello+1986</td>\n",
              "      <td>4</td>\n",
              "      <td>34</td>\n",
              "      <td>4</td>\n",
              "      <td>True</td>\n",
              "      <td>0</td>\n",
              "      <td>0</td>\n",
              "      <td>0</td>\n",
              "      <td>0</td>\n",
              "      <td>...</td>\n",
              "      <td>0</td>\n",
              "      <td>0</td>\n",
              "      <td>0</td>\n",
              "      <td>0</td>\n",
              "      <td>0</td>\n",
              "      <td>0</td>\n",
              "      <td>0</td>\n",
              "      <td>0</td>\n",
              "      <td>0</td>\n",
              "      <td>0</td>\n",
              "    </tr>\n",
              "    <tr>\n",
              "      <th>...</th>\n",
              "      <td>...</td>\n",
              "      <td>...</td>\n",
              "      <td>...</td>\n",
              "      <td>...</td>\n",
              "      <td>...</td>\n",
              "      <td>...</td>\n",
              "      <td>...</td>\n",
              "      <td>...</td>\n",
              "      <td>...</td>\n",
              "      <td>...</td>\n",
              "      <td>...</td>\n",
              "      <td>...</td>\n",
              "      <td>...</td>\n",
              "      <td>...</td>\n",
              "      <td>...</td>\n",
              "      <td>...</td>\n",
              "      <td>...</td>\n",
              "      <td>...</td>\n",
              "      <td>...</td>\n",
              "      <td>...</td>\n",
              "      <td>...</td>\n",
              "    </tr>\n",
              "    <tr>\n",
              "      <th>199766</th>\n",
              "      <td>119698</td>\n",
              "      <td>lucy+2003</td>\n",
              "      <td>3</td>\n",
              "      <td>31</td>\n",
              "      <td>14</td>\n",
              "      <td>True</td>\n",
              "      <td>128</td>\n",
              "      <td>0</td>\n",
              "      <td>0</td>\n",
              "      <td>0</td>\n",
              "      <td>...</td>\n",
              "      <td>0</td>\n",
              "      <td>0</td>\n",
              "      <td>0</td>\n",
              "      <td>0</td>\n",
              "      <td>0</td>\n",
              "      <td>0</td>\n",
              "      <td>0</td>\n",
              "      <td>1</td>\n",
              "      <td>0</td>\n",
              "      <td>0</td>\n",
              "    </tr>\n",
              "    <tr>\n",
              "      <th>199767</th>\n",
              "      <td>389538</td>\n",
              "      <td>the+fraternity+2002</td>\n",
              "      <td>3</td>\n",
              "      <td>28</td>\n",
              "      <td>18</td>\n",
              "      <td>True</td>\n",
              "      <td>100</td>\n",
              "      <td>0</td>\n",
              "      <td>0</td>\n",
              "      <td>0</td>\n",
              "      <td>...</td>\n",
              "      <td>0</td>\n",
              "      <td>0</td>\n",
              "      <td>0</td>\n",
              "      <td>0</td>\n",
              "      <td>0</td>\n",
              "      <td>0</td>\n",
              "      <td>0</td>\n",
              "      <td>0</td>\n",
              "      <td>0</td>\n",
              "      <td>0</td>\n",
              "    </tr>\n",
              "    <tr>\n",
              "      <th>199768</th>\n",
              "      <td>419919</td>\n",
              "      <td>the+blood+spattered+bride+1972</td>\n",
              "      <td>3</td>\n",
              "      <td>33</td>\n",
              "      <td>7</td>\n",
              "      <td>True</td>\n",
              "      <td>100</td>\n",
              "      <td>0</td>\n",
              "      <td>0</td>\n",
              "      <td>0</td>\n",
              "      <td>...</td>\n",
              "      <td>0</td>\n",
              "      <td>0</td>\n",
              "      <td>1</td>\n",
              "      <td>0</td>\n",
              "      <td>0</td>\n",
              "      <td>0</td>\n",
              "      <td>0</td>\n",
              "      <td>0</td>\n",
              "      <td>0</td>\n",
              "      <td>0</td>\n",
              "    </tr>\n",
              "    <tr>\n",
              "      <th>199769</th>\n",
              "      <td>48011</td>\n",
              "      <td>destroyer+1943</td>\n",
              "      <td>4</td>\n",
              "      <td>30</td>\n",
              "      <td>7</td>\n",
              "      <td>True</td>\n",
              "      <td>99</td>\n",
              "      <td>0</td>\n",
              "      <td>0</td>\n",
              "      <td>0</td>\n",
              "      <td>...</td>\n",
              "      <td>1</td>\n",
              "      <td>1</td>\n",
              "      <td>0</td>\n",
              "      <td>0</td>\n",
              "      <td>0</td>\n",
              "      <td>0</td>\n",
              "      <td>0</td>\n",
              "      <td>0</td>\n",
              "      <td>0</td>\n",
              "      <td>0</td>\n",
              "    </tr>\n",
              "    <tr>\n",
              "      <th>199770</th>\n",
              "      <td>200610</td>\n",
              "      <td>digging+up+the+marrow+2015</td>\n",
              "      <td>4</td>\n",
              "      <td>33</td>\n",
              "      <td>14</td>\n",
              "      <td>True</td>\n",
              "      <td>98</td>\n",
              "      <td>0</td>\n",
              "      <td>1</td>\n",
              "      <td>0</td>\n",
              "      <td>...</td>\n",
              "      <td>0</td>\n",
              "      <td>0</td>\n",
              "      <td>1</td>\n",
              "      <td>0</td>\n",
              "      <td>1</td>\n",
              "      <td>0</td>\n",
              "      <td>0</td>\n",
              "      <td>0</td>\n",
              "      <td>0</td>\n",
              "      <td>0</td>\n",
              "    </tr>\n",
              "  </tbody>\n",
              "</table>\n",
              "<p>199771 rows × 27 columns</p>\n",
              "</div>\n",
              "      <button class=\"colab-df-convert\" onclick=\"convertToInteractive('df-e1400c00-6f66-472e-b9c3-541575c98449')\"\n",
              "              title=\"Convert this dataframe to an interactive table.\"\n",
              "              style=\"display:none;\">\n",
              "        \n",
              "  <svg xmlns=\"http://www.w3.org/2000/svg\" height=\"24px\"viewBox=\"0 0 24 24\"\n",
              "       width=\"24px\">\n",
              "    <path d=\"M0 0h24v24H0V0z\" fill=\"none\"/>\n",
              "    <path d=\"M18.56 5.44l.94 2.06.94-2.06 2.06-.94-2.06-.94-.94-2.06-.94 2.06-2.06.94zm-11 1L8.5 8.5l.94-2.06 2.06-.94-2.06-.94L8.5 2.5l-.94 2.06-2.06.94zm10 10l.94 2.06.94-2.06 2.06-.94-2.06-.94-.94-2.06-.94 2.06-2.06.94z\"/><path d=\"M17.41 7.96l-1.37-1.37c-.4-.4-.92-.59-1.43-.59-.52 0-1.04.2-1.43.59L10.3 9.45l-7.72 7.72c-.78.78-.78 2.05 0 2.83L4 21.41c.39.39.9.59 1.41.59.51 0 1.02-.2 1.41-.59l7.78-7.78 2.81-2.81c.8-.78.8-2.07 0-2.86zM5.41 20L4 18.59l7.72-7.72 1.47 1.35L5.41 20z\"/>\n",
              "  </svg>\n",
              "      </button>\n",
              "      \n",
              "  <style>\n",
              "    .colab-df-container {\n",
              "      display:flex;\n",
              "      flex-wrap:wrap;\n",
              "      gap: 12px;\n",
              "    }\n",
              "\n",
              "    .colab-df-convert {\n",
              "      background-color: #E8F0FE;\n",
              "      border: none;\n",
              "      border-radius: 50%;\n",
              "      cursor: pointer;\n",
              "      display: none;\n",
              "      fill: #1967D2;\n",
              "      height: 32px;\n",
              "      padding: 0 0 0 0;\n",
              "      width: 32px;\n",
              "    }\n",
              "\n",
              "    .colab-df-convert:hover {\n",
              "      background-color: #E2EBFA;\n",
              "      box-shadow: 0px 1px 2px rgba(60, 64, 67, 0.3), 0px 1px 3px 1px rgba(60, 64, 67, 0.15);\n",
              "      fill: #174EA6;\n",
              "    }\n",
              "\n",
              "    [theme=dark] .colab-df-convert {\n",
              "      background-color: #3B4455;\n",
              "      fill: #D2E3FC;\n",
              "    }\n",
              "\n",
              "    [theme=dark] .colab-df-convert:hover {\n",
              "      background-color: #434B5C;\n",
              "      box-shadow: 0px 1px 3px 1px rgba(0, 0, 0, 0.15);\n",
              "      filter: drop-shadow(0px 1px 2px rgba(0, 0, 0, 0.3));\n",
              "      fill: #FFFFFF;\n",
              "    }\n",
              "  </style>\n",
              "\n",
              "      <script>\n",
              "        const buttonEl =\n",
              "          document.querySelector('#df-e1400c00-6f66-472e-b9c3-541575c98449 button.colab-df-convert');\n",
              "        buttonEl.style.display =\n",
              "          google.colab.kernel.accessAllowed ? 'block' : 'none';\n",
              "\n",
              "        async function convertToInteractive(key) {\n",
              "          const element = document.querySelector('#df-e1400c00-6f66-472e-b9c3-541575c98449');\n",
              "          const dataTable =\n",
              "            await google.colab.kernel.invokeFunction('convertToInteractive',\n",
              "                                                     [key], {});\n",
              "          if (!dataTable) return;\n",
              "\n",
              "          const docLinkHtml = 'Like what you see? Visit the ' +\n",
              "            '<a target=\"_blank\" href=https://colab.research.google.com/notebooks/data_table.ipynb>data table notebook</a>'\n",
              "            + ' to learn more about interactive tables.';\n",
              "          element.innerHTML = '';\n",
              "          dataTable['output_type'] = 'display_data';\n",
              "          await google.colab.output.renderOutput(dataTable, element);\n",
              "          const docLink = document.createElement('div');\n",
              "          docLink.innerHTML = docLinkHtml;\n",
              "          element.appendChild(docLink);\n",
              "        }\n",
              "      </script>\n",
              "    </div>\n",
              "  </div>\n",
              "  "
            ]
          },
          "metadata": {},
          "execution_count": 36
        }
      ]
    },
    {
      "cell_type": "code",
      "source": [
        "ratings.dtypes"
      ],
      "metadata": {
        "colab": {
          "base_uri": "https://localhost:8080/"
        },
        "id": "RjMXu4QGAe12",
        "outputId": "5ee1345f-c977-48ce-b528-836c4ba27c3d"
      },
      "execution_count": null,
      "outputs": [
        {
          "output_type": "execute_result",
          "data": {
            "text/plain": [
              "userID             object\n",
              "movieID            object\n",
              "ratings             int64\n",
              "age                 int64\n",
              "occupation           int8\n",
              "gender               bool\n",
              "length              int64\n",
              "Comedy               int8\n",
              "Mystery              int8\n",
              "Crime                int8\n",
              "Drama                int8\n",
              "Romance              int8\n",
              "Documentary          int8\n",
              "Thriller             int8\n",
              "Action               int8\n",
              "Animation            int8\n",
              "Science Fiction      int8\n",
              "Adventure            int8\n",
              "War                  int8\n",
              "Horror               int8\n",
              "Western              int8\n",
              "Fantasy              int8\n",
              "Family               int8\n",
              "History              int8\n",
              "TV Movie             int8\n",
              "Music                int8\n",
              "Foreign              int8\n",
              "dtype: object"
            ]
          },
          "metadata": {},
          "execution_count": 37
        }
      ]
    },
    {
      "cell_type": "code",
      "source": [
        "ratings.isna().sum()"
      ],
      "metadata": {
        "colab": {
          "base_uri": "https://localhost:8080/"
        },
        "id": "zQMkN7q5Io_k",
        "outputId": "d3c86334-f913-42bb-982d-32529bd4a717"
      },
      "execution_count": null,
      "outputs": [
        {
          "output_type": "execute_result",
          "data": {
            "text/plain": [
              "userID             0\n",
              "movieID            0\n",
              "ratings            0\n",
              "age                0\n",
              "occupation         0\n",
              "gender             0\n",
              "length             0\n",
              "Comedy             0\n",
              "Mystery            0\n",
              "Crime              0\n",
              "Drama              0\n",
              "Romance            0\n",
              "Documentary        0\n",
              "Thriller           0\n",
              "Action             0\n",
              "Animation          0\n",
              "Science Fiction    0\n",
              "Adventure          0\n",
              "War                0\n",
              "Horror             0\n",
              "Western            0\n",
              "Fantasy            0\n",
              "Family             0\n",
              "History            0\n",
              "TV Movie           0\n",
              "Music              0\n",
              "Foreign            0\n",
              "dtype: int64"
            ]
          },
          "metadata": {},
          "execution_count": 38
        }
      ]
    },
    {
      "cell_type": "markdown",
      "source": [
        "# Create Tensorflow Datasets"
      ],
      "metadata": {
        "id": "X2VjD9JYtz9l"
      }
    },
    {
      "cell_type": "code",
      "source": [
        "ratings = tf.data.Dataset.from_tensor_slices(dict(ratings))\n",
        "movies = tf.data.Dataset.from_tensor_slices(dict(movies))"
      ],
      "metadata": {
        "id": "AtmLrTA_-JKL"
      },
      "execution_count": null,
      "outputs": []
    },
    {
      "cell_type": "code",
      "source": [
        "type(ratings)"
      ],
      "metadata": {
        "colab": {
          "base_uri": "https://localhost:8080/"
        },
        "id": "3TRuZcgTOxNr",
        "outputId": "159b3bfa-45bd-44fd-918e-3ad1ed7c43dc"
      },
      "execution_count": null,
      "outputs": [
        {
          "output_type": "execute_result",
          "data": {
            "text/plain": [
              "tensorflow.python.data.ops.dataset_ops.TensorSliceDataset"
            ]
          },
          "metadata": {},
          "execution_count": 40
        }
      ]
    },
    {
      "cell_type": "code",
      "source": [
        "# = ratings.map(lambda x: {\n",
        "    #\"movie_title\": x[\"movieID\"],\n",
        "    #\"user_id\": x[\"userID\"],\n",
        "    #\"user_rating\": x[\"ratings\"],\n",
        "    #\"genres\" : x[\"Comedy\"],\n",
        "    #\"length\" : x[\"length\"],\n",
        "    #\"occupation\" : x[\"occupation\"],\n",
        "    #\"age\" : x[\"age\"],\n",
        "    #\"gender\" : x[\"gender\"]\n",
        "#})\n",
        "\n",
        "#movies = movies.map(lambda x:{\n",
        "    #\"movieID\" : x[\"movieID\"],\n",
        "    #\"length\" : x[\"length\"]\n",
        "#})\n"
      ],
      "metadata": {
        "id": "o_xAZHC97T9u"
      },
      "execution_count": null,
      "outputs": []
    },
    {
      "cell_type": "code",
      "source": [
        "movie_length = np.concatenate(list(movies.map(lambda x: x[\"length\"]).batch(100)))\n",
        "#movie_genre = np.concatenate(list(movies.map(lambda x: x[\"genres\"]).batch(100)))"
      ],
      "metadata": {
        "id": "HAhq_YN5xcdi"
      },
      "execution_count": null,
      "outputs": []
    },
    {
      "cell_type": "code",
      "source": [
        "for x in ratings.take(1).as_numpy_iterator():\n",
        "  pprint.pprint(x)"
      ],
      "metadata": {
        "id": "NXZzfWNxbOM2",
        "colab": {
          "base_uri": "https://localhost:8080/"
        },
        "outputId": "bd6943a8-9ac7-4edb-9bbc-5670ed2fdf0c"
      },
      "execution_count": null,
      "outputs": [
        {
          "output_type": "stream",
          "name": "stdout",
          "text": [
            "{'Action': 0,\n",
            " 'Adventure': 0,\n",
            " 'Animation': 0,\n",
            " 'Comedy': 1,\n",
            " 'Crime': 0,\n",
            " 'Documentary': 0,\n",
            " 'Drama': 0,\n",
            " 'Family': 0,\n",
            " 'Fantasy': 0,\n",
            " 'Foreign': 0,\n",
            " 'History': 0,\n",
            " 'Horror': 0,\n",
            " 'Music': 0,\n",
            " 'Mystery': 0,\n",
            " 'Romance': 0,\n",
            " 'Science Fiction': 0,\n",
            " 'TV Movie': 0,\n",
            " 'Thriller': 0,\n",
            " 'War': 0,\n",
            " 'Western': 0,\n",
            " 'age': 27,\n",
            " 'gender': False,\n",
            " 'length': 0,\n",
            " 'movieID': b'acapulco_+prima+spiaggia...+a+sinistra+1983',\n",
            " 'occupation': 11,\n",
            " 'ratings': 4,\n",
            " 'userID': b'340626'}\n"
          ]
        }
      ]
    },
    {
      "cell_type": "code",
      "source": [
        "for x in movies.take(1).as_numpy_iterator():\n",
        "  pprint.pprint(x)"
      ],
      "metadata": {
        "id": "iQaVb62obOUF",
        "colab": {
          "base_uri": "https://localhost:8080/"
        },
        "outputId": "47056db7-302f-480e-c776-9fc34dc9391f"
      },
      "execution_count": null,
      "outputs": [
        {
          "output_type": "stream",
          "name": "stdout",
          "text": [
            "{'Action': 0,\n",
            " 'Adventure': 0,\n",
            " 'Animation': 0,\n",
            " 'Comedy': 1,\n",
            " 'Crime': 0,\n",
            " 'Documentary': 0,\n",
            " 'Drama': 0,\n",
            " 'Family': 0,\n",
            " 'Fantasy': 0,\n",
            " 'Foreign': 0,\n",
            " 'History': 0,\n",
            " 'Horror': 0,\n",
            " 'Music': 0,\n",
            " 'Mystery': 0,\n",
            " 'Romance': 0,\n",
            " 'Science Fiction': 0,\n",
            " 'TV Movie': 0,\n",
            " 'Thriller': 0,\n",
            " 'War': 0,\n",
            " 'Western': 0,\n",
            " 'length': 98,\n",
            " 'movieID': b'++++++1959'}\n"
          ]
        }
      ]
    },
    {
      "cell_type": "code",
      "source": [
        "movies"
      ],
      "metadata": {
        "colab": {
          "base_uri": "https://localhost:8080/"
        },
        "id": "4zapSjtK_unf",
        "outputId": "7bd4bb95-a2c3-42c9-8da7-e52200a61347"
      },
      "execution_count": null,
      "outputs": [
        {
          "output_type": "execute_result",
          "data": {
            "text/plain": [
              "<TensorSliceDataset element_spec={'movieID': TensorSpec(shape=(), dtype=tf.string, name=None), 'length': TensorSpec(shape=(), dtype=tf.int64, name=None), 'Comedy': TensorSpec(shape=(), dtype=tf.int8, name=None), 'Mystery': TensorSpec(shape=(), dtype=tf.int8, name=None), 'Crime': TensorSpec(shape=(), dtype=tf.int8, name=None), 'Drama': TensorSpec(shape=(), dtype=tf.int8, name=None), 'Romance': TensorSpec(shape=(), dtype=tf.int8, name=None), 'Documentary': TensorSpec(shape=(), dtype=tf.int8, name=None), 'Thriller': TensorSpec(shape=(), dtype=tf.int8, name=None), 'Action': TensorSpec(shape=(), dtype=tf.int8, name=None), 'Animation': TensorSpec(shape=(), dtype=tf.int8, name=None), 'Science Fiction': TensorSpec(shape=(), dtype=tf.int8, name=None), 'Adventure': TensorSpec(shape=(), dtype=tf.int8, name=None), 'War': TensorSpec(shape=(), dtype=tf.int8, name=None), 'Horror': TensorSpec(shape=(), dtype=tf.int8, name=None), 'Western': TensorSpec(shape=(), dtype=tf.int8, name=None), 'Fantasy': TensorSpec(shape=(), dtype=tf.int8, name=None), 'Family': TensorSpec(shape=(), dtype=tf.int8, name=None), 'History': TensorSpec(shape=(), dtype=tf.int8, name=None), 'TV Movie': TensorSpec(shape=(), dtype=tf.int8, name=None), 'Music': TensorSpec(shape=(), dtype=tf.int8, name=None), 'Foreign': TensorSpec(shape=(), dtype=tf.int8, name=None)}>"
            ]
          },
          "metadata": {},
          "execution_count": 45
        }
      ]
    },
    {
      "cell_type": "code",
      "source": [
        "ratings"
      ],
      "metadata": {
        "colab": {
          "base_uri": "https://localhost:8080/"
        },
        "id": "XWO6m_j6A26R",
        "outputId": "3aa900b0-f226-4eaf-c6b6-f83030d8df4e"
      },
      "execution_count": null,
      "outputs": [
        {
          "output_type": "execute_result",
          "data": {
            "text/plain": [
              "<TensorSliceDataset element_spec={'userID': TensorSpec(shape=(), dtype=tf.string, name=None), 'movieID': TensorSpec(shape=(), dtype=tf.string, name=None), 'ratings': TensorSpec(shape=(), dtype=tf.int64, name=None), 'age': TensorSpec(shape=(), dtype=tf.int64, name=None), 'occupation': TensorSpec(shape=(), dtype=tf.int8, name=None), 'gender': TensorSpec(shape=(), dtype=tf.bool, name=None), 'length': TensorSpec(shape=(), dtype=tf.int64, name=None), 'Comedy': TensorSpec(shape=(), dtype=tf.int8, name=None), 'Mystery': TensorSpec(shape=(), dtype=tf.int8, name=None), 'Crime': TensorSpec(shape=(), dtype=tf.int8, name=None), 'Drama': TensorSpec(shape=(), dtype=tf.int8, name=None), 'Romance': TensorSpec(shape=(), dtype=tf.int8, name=None), 'Documentary': TensorSpec(shape=(), dtype=tf.int8, name=None), 'Thriller': TensorSpec(shape=(), dtype=tf.int8, name=None), 'Action': TensorSpec(shape=(), dtype=tf.int8, name=None), 'Animation': TensorSpec(shape=(), dtype=tf.int8, name=None), 'Science Fiction': TensorSpec(shape=(), dtype=tf.int8, name=None), 'Adventure': TensorSpec(shape=(), dtype=tf.int8, name=None), 'War': TensorSpec(shape=(), dtype=tf.int8, name=None), 'Horror': TensorSpec(shape=(), dtype=tf.int8, name=None), 'Western': TensorSpec(shape=(), dtype=tf.int8, name=None), 'Fantasy': TensorSpec(shape=(), dtype=tf.int8, name=None), 'Family': TensorSpec(shape=(), dtype=tf.int8, name=None), 'History': TensorSpec(shape=(), dtype=tf.int8, name=None), 'TV Movie': TensorSpec(shape=(), dtype=tf.int8, name=None), 'Music': TensorSpec(shape=(), dtype=tf.int8, name=None), 'Foreign': TensorSpec(shape=(), dtype=tf.int8, name=None)}>"
            ]
          },
          "metadata": {},
          "execution_count": 46
        }
      ]
    },
    {
      "cell_type": "markdown",
      "source": [
        "# Random split (80% of the ratings in the train set, and 20% in the test set).  In an industrial recommender system, this would most likely be done by time: the data up to time  would be used to predict interactions after.\n",
        "\n"
      ],
      "metadata": {
        "id": "DIbU0CfHv3h-"
      }
    },
    {
      "cell_type": "code",
      "source": [
        "tf.random.set_seed(42)\n",
        "shuffled = ratings.shuffle(200_000, seed=42, reshuffle_each_iteration=False)\n",
        "\n",
        "train = shuffled.take(160_000)\n",
        "test = shuffled.skip(160_000).take(40_000)\n",
        "\n",
        "cached_train = train.shuffle(200_000).batch(8192).cache()\n",
        "cached_test = test.batch(4096).cache()"
      ],
      "metadata": {
        "id": "mcOS3ZUAbOcR"
      },
      "execution_count": null,
      "outputs": []
    },
    {
      "cell_type": "code",
      "source": [
        "movie_titles = movies.batch(1_000)\n",
        "user_ids = ratings.batch(100_000).map(lambda x: x[\"userID\"])#user_id"
      ],
      "metadata": {
        "id": "by1rRRztoAru"
      },
      "execution_count": null,
      "outputs": []
    },
    {
      "cell_type": "code",
      "source": [
        "movie_titles"
      ],
      "metadata": {
        "colab": {
          "base_uri": "https://localhost:8080/"
        },
        "id": "cOHQgXxnCFXX",
        "outputId": "f8376656-eb4a-47d7-d625-2ff3061f47a5"
      },
      "execution_count": null,
      "outputs": [
        {
          "output_type": "execute_result",
          "data": {
            "text/plain": [
              "<BatchDataset element_spec={'movieID': TensorSpec(shape=(None,), dtype=tf.string, name=None), 'length': TensorSpec(shape=(None,), dtype=tf.int64, name=None), 'Comedy': TensorSpec(shape=(None,), dtype=tf.int8, name=None), 'Mystery': TensorSpec(shape=(None,), dtype=tf.int8, name=None), 'Crime': TensorSpec(shape=(None,), dtype=tf.int8, name=None), 'Drama': TensorSpec(shape=(None,), dtype=tf.int8, name=None), 'Romance': TensorSpec(shape=(None,), dtype=tf.int8, name=None), 'Documentary': TensorSpec(shape=(None,), dtype=tf.int8, name=None), 'Thriller': TensorSpec(shape=(None,), dtype=tf.int8, name=None), 'Action': TensorSpec(shape=(None,), dtype=tf.int8, name=None), 'Animation': TensorSpec(shape=(None,), dtype=tf.int8, name=None), 'Science Fiction': TensorSpec(shape=(None,), dtype=tf.int8, name=None), 'Adventure': TensorSpec(shape=(None,), dtype=tf.int8, name=None), 'War': TensorSpec(shape=(None,), dtype=tf.int8, name=None), 'Horror': TensorSpec(shape=(None,), dtype=tf.int8, name=None), 'Western': TensorSpec(shape=(None,), dtype=tf.int8, name=None), 'Fantasy': TensorSpec(shape=(None,), dtype=tf.int8, name=None), 'Family': TensorSpec(shape=(None,), dtype=tf.int8, name=None), 'History': TensorSpec(shape=(None,), dtype=tf.int8, name=None), 'TV Movie': TensorSpec(shape=(None,), dtype=tf.int8, name=None), 'Music': TensorSpec(shape=(None,), dtype=tf.int8, name=None), 'Foreign': TensorSpec(shape=(None,), dtype=tf.int8, name=None)}>"
            ]
          },
          "metadata": {},
          "execution_count": 49
        }
      ]
    },
    {
      "cell_type": "markdown",
      "source": [
        "# Unique user ids and movie titles present in the dataset (to be used in StringLookup)"
      ],
      "metadata": {
        "id": "lF-pVcnS0NBG"
      }
    },
    {
      "cell_type": "code",
      "source": [
        "unique_movie_titles = np.unique(np.concatenate(list(movie_titles.map(lambda x: x[\"movieID\"]))))\n",
        "unique_gender = np.unique(np.concatenate(list(ratings.batch(1_000).map(\n",
        "    lambda x: x[\"gender\"]))))\n",
        "unique_age = np.unique(np.concatenate(list(ratings.batch(1_000).map(\n",
        "    lambda x: x[\"age\"]))))\n",
        "unique_user_occupation_label = np.unique(np.concatenate(list(ratings.batch(1_000).map(\n",
        "    lambda x: x[\"occupation\"]))))\n",
        "unique_user_ids = np.unique(np.concatenate(list(user_ids)))"
      ],
      "metadata": {
        "id": "z2pyFnpX-7ga"
      },
      "execution_count": null,
      "outputs": []
    },
    {
      "cell_type": "code",
      "source": [
        "unique_movie_titles[:10]"
      ],
      "metadata": {
        "colab": {
          "base_uri": "https://localhost:8080/"
        },
        "id": "xdJVZj4T-Ft7",
        "outputId": "2ece8b30-5f34-4854-bf88-fb832399267c"
      },
      "execution_count": null,
      "outputs": [
        {
          "output_type": "execute_result",
          "data": {
            "text/plain": [
              "array([b'++++++1959', b'++++2013', b'+la+mode+1993', b'+laventure+2008',\n",
              "       b'+nos+amours+1983', b'+nous+la+libert+1931',\n",
              "       b'+propos+de+nice+1930', b'...and+god+created+woman+1956',\n",
              "       b'...and+justice+for+all+1979',\n",
              "       b'...and+the+pursuit+of+happiness+1986'], dtype=object)"
            ]
          },
          "metadata": {},
          "execution_count": 51
        }
      ]
    },
    {
      "cell_type": "code",
      "source": [
        "unique_user_ids[:10]"
      ],
      "metadata": {
        "colab": {
          "base_uri": "https://localhost:8080/"
        },
        "id": "vzyBI2EJ8XSJ",
        "outputId": "36dd491d-8b36-4388-e183-fc30a48bc241"
      },
      "execution_count": null,
      "outputs": [
        {
          "output_type": "execute_result",
          "data": {
            "text/plain": [
              "array([b'1', b'10', b'10000', b'100004', b'100006', b'100009', b'10001',\n",
              "       b'100010', b'100016', b'100020'], dtype=object)"
            ]
          },
          "metadata": {},
          "execution_count": 52
        }
      ]
    },
    {
      "cell_type": "code",
      "source": [
        "unique_gender[:]"
      ],
      "metadata": {
        "colab": {
          "base_uri": "https://localhost:8080/"
        },
        "id": "Bomb3qWgT9eo",
        "outputId": "bb7ba8cd-3515-412e-9447-5f015f13369b"
      },
      "execution_count": null,
      "outputs": [
        {
          "output_type": "execute_result",
          "data": {
            "text/plain": [
              "array([False,  True])"
            ]
          },
          "metadata": {},
          "execution_count": 53
        }
      ]
    },
    {
      "cell_type": "code",
      "source": [
        "unique_age[:10]"
      ],
      "metadata": {
        "colab": {
          "base_uri": "https://localhost:8080/"
        },
        "id": "xGpsAAUZUBEM",
        "outputId": "04be5f56-f7e4-44dc-dd7e-42ae5e86360c"
      },
      "execution_count": null,
      "outputs": [
        {
          "output_type": "execute_result",
          "data": {
            "text/plain": [
              "array([ 8,  9, 10, 11, 12, 13, 14, 15, 16, 17])"
            ]
          },
          "metadata": {},
          "execution_count": 54
        }
      ]
    },
    {
      "cell_type": "code",
      "source": [
        "unique_user_occupation_label[:10]"
      ],
      "metadata": {
        "colab": {
          "base_uri": "https://localhost:8080/"
        },
        "id": "CFpBdOt6WHPM",
        "outputId": "e1e73c16-e9ee-4194-9517-b7021782d1d9"
      },
      "execution_count": null,
      "outputs": [
        {
          "output_type": "execute_result",
          "data": {
            "text/plain": [
              "array([0, 1, 2, 3, 4, 5, 6, 7, 8, 9], dtype=int8)"
            ]
          },
          "metadata": {},
          "execution_count": 55
        }
      ]
    },
    {
      "cell_type": "markdown",
      "source": [
        "# Retrieval Model"
      ],
      "metadata": {
        "id": "iSGgDvSRcwyF"
      }
    },
    {
      "cell_type": "code",
      "source": [
        "#filter(lambda v: v==v, unique_genres)"
      ],
      "metadata": {
        "id": "dhX7lLrUrKDD"
      },
      "execution_count": null,
      "outputs": []
    },
    {
      "cell_type": "code",
      "source": [
        "unique_genres"
      ],
      "metadata": {
        "colab": {
          "base_uri": "https://localhost:8080/"
        },
        "id": "h7Tf1JjWw3Q9",
        "outputId": "3242633f-2d76-4244-c4c0-68670bafa038"
      },
      "execution_count": null,
      "outputs": [
        {
          "output_type": "execute_result",
          "data": {
            "text/plain": [
              "array(['Comedy', 'Mystery', 'Crime', 'Drama', 'Romance', 'Documentary',\n",
              "       'Thriller', 'Action', 'Animation', 'Science Fiction', 'Adventure',\n",
              "       'War', 'Horror', 'Western', nan, 'Fantasy', 'Family', 'History',\n",
              "       'TV Movie', 'Music', 'Foreign'], dtype=object)"
            ]
          },
          "metadata": {},
          "execution_count": 57
        }
      ]
    },
    {
      "cell_type": "code",
      "source": [
        "unique_genres = [x for x in unique_genres if str(x) != 'nan']"
      ],
      "metadata": {
        "id": "Zr019Cmu4d53"
      },
      "execution_count": null,
      "outputs": []
    },
    {
      "cell_type": "code",
      "source": [
        "len(unique_genres)"
      ],
      "metadata": {
        "colab": {
          "base_uri": "https://localhost:8080/"
        },
        "id": "uVugs4-j4JrI",
        "outputId": "28c0444b-6bce-4acf-a9ad-8b778ab12f0a"
      },
      "execution_count": null,
      "outputs": [
        {
          "output_type": "execute_result",
          "data": {
            "text/plain": [
              "20"
            ]
          },
          "metadata": {},
          "execution_count": 59
        }
      ]
    },
    {
      "cell_type": "code",
      "source": [
        "unique_val = np.array([0,1])"
      ],
      "metadata": {
        "id": "HNW05KetwQsq"
      },
      "execution_count": null,
      "outputs": []
    },
    {
      "cell_type": "code",
      "source": [
        "#unique_genres = np.array(unique_genres)"
      ],
      "metadata": {
        "id": "Wr9HEHXk5dfb"
      },
      "execution_count": null,
      "outputs": []
    },
    {
      "cell_type": "code",
      "source": [
        "type(unique_genres)"
      ],
      "metadata": {
        "colab": {
          "base_uri": "https://localhost:8080/"
        },
        "id": "oOibNDv8wVkW",
        "outputId": "a1050740-a177-4f78-9c51-c7805331fbe5"
      },
      "execution_count": null,
      "outputs": [
        {
          "output_type": "execute_result",
          "data": {
            "text/plain": [
              "list"
            ]
          },
          "metadata": {},
          "execution_count": 62
        }
      ]
    },
    {
      "cell_type": "code",
      "source": [
        "embedding_dimension = 32\n",
        "\n",
        "class RetievalUserModel(tf.keras.Model):\n",
        "  def __init__(self):\n",
        "    super().__init__()\n",
        "    self.user_embedding = tf.keras.Sequential([\n",
        "    tf.keras.layers.StringLookup(\n",
        "      vocabulary=unique_user_ids, mask_token=None),\n",
        "    # We add an additional embedding to account for unknown tokens.\n",
        "    tf.keras.layers.Embedding(len(unique_user_ids) + 1, embedding_dimension)\n",
        "    ])\n",
        "    self.age_embedding = tf.keras.Sequential([\n",
        "        tf.keras.layers.IntegerLookup(\n",
        "            vocabulary=unique_age, mask_token=None),\n",
        "        tf.keras.layers.Embedding(len(unique_age) + 1, embedding_dimension),\n",
        "    ])\n",
        " \n",
        "    self.occupation_embedding = tf.keras.Sequential([\n",
        "        tf.keras.layers.IntegerLookup(\n",
        "            vocabulary=unique_user_occupation_label, mask_token=None),\n",
        "        tf.keras.layers.Embedding(len(unique_user_occupation_label) + 1, embedding_dimension),\n",
        "    ])\n",
        " \n",
        "    self.gender_embedding = tf.keras.Sequential([\n",
        "        tf.keras.layers.IntegerLookup(\n",
        "            vocabulary=unique_gender, mask_token=None),\n",
        "        tf.keras.layers.Embedding(len(unique_gender) + 1, embedding_dimension),\n",
        "    ])\n",
        "  def call(self, inputs):\n",
        "    return tf.concat([self.user_embedding(inputs[\"user_id\"]),\n",
        "                      self.age_embedding(inputs[\"age\"]),\n",
        "                      self.occupation_embedding(inputs[\"occupation\"]),\n",
        "                      self.gender_embedding(inputs[\"gender\"])\n",
        "                      ], axis=1)\n",
        "\n",
        "class RetievalMovieModel(tf.keras.Model):\n",
        "  def __init__(self,use_genre,use_length):\n",
        "    super().__init__()\n",
        "    self.use_genre = use_genre\n",
        "    self.use_length = use_length\n",
        "    self.title_embedding = tf.keras.Sequential([\n",
        "    tf.keras.layers.StringLookup(\n",
        "      vocabulary=unique_movie_titles, mask_token=None),\n",
        "    tf.keras.layers.Embedding(len(unique_movie_titles) + 1, embedding_dimension)])\n",
        "    if use_length:\n",
        "      self.movie_length_normalizer = tf.keras.layers.Normalization(axis=None)\n",
        "      self.length_embedding = tf.keras.Sequential([self.movie_length_normalizer,tf.keras.layers.Reshape([1])])\n",
        "      self.movie_length_normalizer.adapt(movie_length)\n",
        "    if use_genre:\n",
        "      self.genre_embedding = tf.keras.Sequential([\n",
        "       #tf.keras.layers.IntegerLookup(\n",
        "            #vocabulary=unique_val, mask_token=None),\n",
        "        tf.keras.layers.Embedding(len(unique_genres) + 1, embedding_dimension,input_length = len(unique_val)), #,input_length = len(unique_val)\n",
        "      ])\n",
        "  def call(self, inputs):\n",
        "    if not self.use_genre:\n",
        "      return tf.concat([self.title_embedding(inputs['movieID'])] +\n",
        "                         [self.length_embedding(inputs['length'])],axis=1)\n",
        "    else:\n",
        "      return tf.concat([self.title_embedding(inputs['movieID'])] +\n",
        "                         [self.length_embedding(inputs['length'])] + \n",
        "                     [self.genre_embedding([inputs[k] for k in unique_genres])], #movie_genres\n",
        "                         axis=1)\n",
        "\n",
        "class RecRetModel(tfrs.Model):\n",
        "  def __init__(self, use_genre,use_length):\n",
        "    super().__init__()\n",
        "    self.query_model = tf.keras.Sequential([\n",
        "      RetievalUserModel(),\n",
        "      tf.keras.layers.Dense(32)\n",
        "    ])\n",
        "    self.candidate_model = tf.keras.Sequential([\n",
        "      RetievalMovieModel(use_genre,use_length),\n",
        "      tf.keras.layers.Dense(32)\n",
        "    ])\n",
        "    self.task = tfrs.tasks.Retrieval(\n",
        "        metrics=tfrs.metrics.FactorizedTopK(\n",
        "            candidates=movies.batch(128).map(self.candidate_model),\n",
        "        ),\n",
        "    )\n",
        "  def compute_loss(self, features, training=False):\n",
        "    # We only pass the user id and timestamp features into the query model. This\n",
        "    # is to ensure that the training inputs would have the same keys as the\n",
        "    # query inputs. Otherwise the discrepancy in input structure would cause an\n",
        "    # error when loading the query model after saving it.\n",
        "    query_embeddings = self.query_model({\n",
        "        \"user_id\": features[\"userID\"],\n",
        "        \"age\" : features[\"age\"],\n",
        "        \"occupation\" : features[\"occupation\"],\n",
        "        \"gender\" : features[\"gender\"]\n",
        "    })\n",
        "    movie_embeddings = self.candidate_model({\n",
        "        \"movieID\": features[\"movieID\"],\n",
        "        \"movie_genres\" : [features[k] for k in unique_genres], #[features[k] for k in unique_genres]\n",
        "        \"length\" : features[\"length\"]\n",
        "    })\n",
        "\n",
        "    return self.task(query_embeddings, movie_embeddings)"
      ],
      "metadata": {
        "id": "QJyMc1plFfoq"
      },
      "execution_count": null,
      "outputs": []
    },
    {
      "cell_type": "code",
      "source": [
        "for k in unique_genres: print(type(k))"
      ],
      "metadata": {
        "colab": {
          "base_uri": "https://localhost:8080/"
        },
        "id": "bA6pJzjl4l4O",
        "outputId": "c12fcb20-674a-4bbd-fb8d-e0314b6747a4"
      },
      "execution_count": null,
      "outputs": [
        {
          "output_type": "stream",
          "name": "stdout",
          "text": [
            "<class 'str'>\n",
            "<class 'str'>\n",
            "<class 'str'>\n",
            "<class 'str'>\n",
            "<class 'str'>\n",
            "<class 'str'>\n",
            "<class 'str'>\n",
            "<class 'str'>\n",
            "<class 'str'>\n",
            "<class 'str'>\n",
            "<class 'str'>\n",
            "<class 'str'>\n",
            "<class 'str'>\n",
            "<class 'str'>\n",
            "<class 'str'>\n",
            "<class 'str'>\n",
            "<class 'str'>\n",
            "<class 'str'>\n",
            "<class 'str'>\n",
            "<class 'str'>\n"
          ]
        }
      ]
    },
    {
      "cell_type": "code",
      "source": [
        "cached_train"
      ],
      "metadata": {
        "colab": {
          "base_uri": "https://localhost:8080/"
        },
        "id": "OcZ-UldA32uv",
        "outputId": "ef75c868-464e-4677-ec71-df442750d392"
      },
      "execution_count": null,
      "outputs": [
        {
          "output_type": "execute_result",
          "data": {
            "text/plain": [
              "<CacheDataset element_spec={'userID': TensorSpec(shape=(None,), dtype=tf.string, name=None), 'movieID': TensorSpec(shape=(None,), dtype=tf.string, name=None), 'ratings': TensorSpec(shape=(None,), dtype=tf.int64, name=None), 'age': TensorSpec(shape=(None,), dtype=tf.int64, name=None), 'occupation': TensorSpec(shape=(None,), dtype=tf.int8, name=None), 'gender': TensorSpec(shape=(None,), dtype=tf.bool, name=None), 'length': TensorSpec(shape=(None,), dtype=tf.int64, name=None), 'Comedy': TensorSpec(shape=(None,), dtype=tf.int8, name=None), 'Mystery': TensorSpec(shape=(None,), dtype=tf.int8, name=None), 'Crime': TensorSpec(shape=(None,), dtype=tf.int8, name=None), 'Drama': TensorSpec(shape=(None,), dtype=tf.int8, name=None), 'Romance': TensorSpec(shape=(None,), dtype=tf.int8, name=None), 'Documentary': TensorSpec(shape=(None,), dtype=tf.int8, name=None), 'Thriller': TensorSpec(shape=(None,), dtype=tf.int8, name=None), 'Action': TensorSpec(shape=(None,), dtype=tf.int8, name=None), 'Animation': TensorSpec(shape=(None,), dtype=tf.int8, name=None), 'Science Fiction': TensorSpec(shape=(None,), dtype=tf.int8, name=None), 'Adventure': TensorSpec(shape=(None,), dtype=tf.int8, name=None), 'War': TensorSpec(shape=(None,), dtype=tf.int8, name=None), 'Horror': TensorSpec(shape=(None,), dtype=tf.int8, name=None), 'Western': TensorSpec(shape=(None,), dtype=tf.int8, name=None), 'Fantasy': TensorSpec(shape=(None,), dtype=tf.int8, name=None), 'Family': TensorSpec(shape=(None,), dtype=tf.int8, name=None), 'History': TensorSpec(shape=(None,), dtype=tf.int8, name=None), 'TV Movie': TensorSpec(shape=(None,), dtype=tf.int8, name=None), 'Music': TensorSpec(shape=(None,), dtype=tf.int8, name=None), 'Foreign': TensorSpec(shape=(None,), dtype=tf.int8, name=None)}>"
            ]
          },
          "metadata": {},
          "execution_count": 87
        }
      ]
    },
    {
      "cell_type": "code",
      "source": [
        "model_1 = RecRetModel(use_genre = True, use_length = True)\n",
        "model_1.compile(optimizer=tf.keras.optimizers.Adagrad(learning_rate=0.1))\n",
        "model_1.fit(cached_train, epochs=3)"
      ],
      "metadata": {
        "colab": {
          "base_uri": "https://localhost:8080/",
          "height": 835
        },
        "id": "5FHDEcIo2mup",
        "outputId": "50b34b50-7f9c-48a0-c4cc-8de0330f7b01"
      },
      "execution_count": null,
      "outputs": [
        {
          "output_type": "stream",
          "name": "stderr",
          "text": [
            "WARNING:tensorflow:Layers in a Sequential model should only have a single input tensor. Received: inputs={'movieID': <tf.Tensor 'args_21:0' shape=(None,) dtype=string>, 'length': <tf.Tensor 'args_20:0' shape=(None,) dtype=int64>, 'Comedy': <tf.Tensor 'args_3:0' shape=(None,) dtype=int8>, 'Mystery': <tf.Tensor 'args_13:0' shape=(None,) dtype=int8>, 'Crime': <tf.Tensor 'args_4:0' shape=(None,) dtype=int8>, 'Drama': <tf.Tensor 'args_6:0' shape=(None,) dtype=int8>, 'Romance': <tf.Tensor 'args_14:0' shape=(None,) dtype=int8>, 'Documentary': <tf.Tensor 'args_5:0' shape=(None,) dtype=int8>, 'Thriller': <tf.Tensor 'args_17:0' shape=(None,) dtype=int8>, 'Action': <tf.Tensor 'args_0:0' shape=(None,) dtype=int8>, 'Animation': <tf.Tensor 'args_2:0' shape=(None,) dtype=int8>, 'Science Fiction': <tf.Tensor 'args_15:0' shape=(None,) dtype=int8>, 'Adventure': <tf.Tensor 'args_1:0' shape=(None,) dtype=int8>, 'War': <tf.Tensor 'args_18:0' shape=(None,) dtype=int8>, 'Horror': <tf.Tensor 'args_11:0' shape=(None,) dtype=int8>, 'Western': <tf.Tensor 'args_19:0' shape=(None,) dtype=int8>, 'Fantasy': <tf.Tensor 'args_8:0' shape=(None,) dtype=int8>, 'Family': <tf.Tensor 'args_7:0' shape=(None,) dtype=int8>, 'History': <tf.Tensor 'args_10:0' shape=(None,) dtype=int8>, 'TV Movie': <tf.Tensor 'args_16:0' shape=(None,) dtype=int8>, 'Music': <tf.Tensor 'args_12:0' shape=(None,) dtype=int8>, 'Foreign': <tf.Tensor 'args_9:0' shape=(None,) dtype=int8>}. Consider rewriting this model with the Functional API.\n"
          ]
        },
        {
          "output_type": "error",
          "ename": "ValueError",
          "evalue": "ignored",
          "traceback": [
            "\u001b[0;31m---------------------------------------------------------------------------\u001b[0m",
            "\u001b[0;31mValueError\u001b[0m                                Traceback (most recent call last)",
            "\u001b[0;32m<ipython-input-88-725b60783167>\u001b[0m in \u001b[0;36m<module>\u001b[0;34m\u001b[0m\n\u001b[0;32m----> 1\u001b[0;31m \u001b[0mmodel_1\u001b[0m \u001b[0;34m=\u001b[0m \u001b[0mRecRetModel\u001b[0m\u001b[0;34m(\u001b[0m\u001b[0muse_genre\u001b[0m \u001b[0;34m=\u001b[0m \u001b[0;32mTrue\u001b[0m\u001b[0;34m,\u001b[0m \u001b[0muse_length\u001b[0m \u001b[0;34m=\u001b[0m \u001b[0;32mTrue\u001b[0m\u001b[0;34m)\u001b[0m\u001b[0;34m\u001b[0m\u001b[0;34m\u001b[0m\u001b[0m\n\u001b[0m\u001b[1;32m      2\u001b[0m \u001b[0mmodel_1\u001b[0m\u001b[0;34m.\u001b[0m\u001b[0mcompile\u001b[0m\u001b[0;34m(\u001b[0m\u001b[0moptimizer\u001b[0m\u001b[0;34m=\u001b[0m\u001b[0mtf\u001b[0m\u001b[0;34m.\u001b[0m\u001b[0mkeras\u001b[0m\u001b[0;34m.\u001b[0m\u001b[0moptimizers\u001b[0m\u001b[0;34m.\u001b[0m\u001b[0mAdagrad\u001b[0m\u001b[0;34m(\u001b[0m\u001b[0mlearning_rate\u001b[0m\u001b[0;34m=\u001b[0m\u001b[0;36m0.1\u001b[0m\u001b[0;34m)\u001b[0m\u001b[0;34m)\u001b[0m\u001b[0;34m\u001b[0m\u001b[0;34m\u001b[0m\u001b[0m\n\u001b[1;32m      3\u001b[0m \u001b[0mmodel_1\u001b[0m\u001b[0;34m.\u001b[0m\u001b[0mfit\u001b[0m\u001b[0;34m(\u001b[0m\u001b[0mcached_train\u001b[0m\u001b[0;34m,\u001b[0m \u001b[0mepochs\u001b[0m\u001b[0;34m=\u001b[0m\u001b[0;36m3\u001b[0m\u001b[0;34m)\u001b[0m\u001b[0;34m\u001b[0m\u001b[0;34m\u001b[0m\u001b[0m\n",
            "\u001b[0;32m<ipython-input-85-435c048c6bfb>\u001b[0m in \u001b[0;36m__init__\u001b[0;34m(self, use_genre, use_length)\u001b[0m\n\u001b[1;32m     76\u001b[0m     self.task = tfrs.tasks.Retrieval(\n\u001b[1;32m     77\u001b[0m         metrics=tfrs.metrics.FactorizedTopK(\n\u001b[0;32m---> 78\u001b[0;31m             \u001b[0mcandidates\u001b[0m\u001b[0;34m=\u001b[0m\u001b[0mmovies\u001b[0m\u001b[0;34m.\u001b[0m\u001b[0mbatch\u001b[0m\u001b[0;34m(\u001b[0m\u001b[0;36m128\u001b[0m\u001b[0;34m)\u001b[0m\u001b[0;34m.\u001b[0m\u001b[0mmap\u001b[0m\u001b[0;34m(\u001b[0m\u001b[0mself\u001b[0m\u001b[0;34m.\u001b[0m\u001b[0mcandidate_model\u001b[0m\u001b[0;34m)\u001b[0m\u001b[0;34m,\u001b[0m\u001b[0;34m\u001b[0m\u001b[0;34m\u001b[0m\u001b[0m\n\u001b[0m\u001b[1;32m     79\u001b[0m         ),\n\u001b[1;32m     80\u001b[0m     )\n",
            "\u001b[0;32m/usr/local/lib/python3.7/dist-packages/tensorflow/python/data/ops/dataset_ops.py\u001b[0m in \u001b[0;36mmap\u001b[0;34m(self, map_func, num_parallel_calls, deterministic, name)\u001b[0m\n\u001b[1;32m   2200\u001b[0m         warnings.warn(\"The `deterministic` argument has no effect unless the \"\n\u001b[1;32m   2201\u001b[0m                       \"`num_parallel_calls` argument is specified.\")\n\u001b[0;32m-> 2202\u001b[0;31m       \u001b[0;32mreturn\u001b[0m \u001b[0mMapDataset\u001b[0m\u001b[0;34m(\u001b[0m\u001b[0mself\u001b[0m\u001b[0;34m,\u001b[0m \u001b[0mmap_func\u001b[0m\u001b[0;34m,\u001b[0m \u001b[0mpreserve_cardinality\u001b[0m\u001b[0;34m=\u001b[0m\u001b[0;32mTrue\u001b[0m\u001b[0;34m,\u001b[0m \u001b[0mname\u001b[0m\u001b[0;34m=\u001b[0m\u001b[0mname\u001b[0m\u001b[0;34m)\u001b[0m\u001b[0;34m\u001b[0m\u001b[0;34m\u001b[0m\u001b[0m\n\u001b[0m\u001b[1;32m   2203\u001b[0m     \u001b[0;32melse\u001b[0m\u001b[0;34m:\u001b[0m\u001b[0;34m\u001b[0m\u001b[0;34m\u001b[0m\u001b[0m\n\u001b[1;32m   2204\u001b[0m       return ParallelMapDataset(\n",
            "\u001b[0;32m/usr/local/lib/python3.7/dist-packages/tensorflow/python/data/ops/dataset_ops.py\u001b[0m in \u001b[0;36m__init__\u001b[0;34m(self, input_dataset, map_func, use_inter_op_parallelism, preserve_cardinality, use_legacy_function, name)\u001b[0m\n\u001b[1;32m   5402\u001b[0m         \u001b[0mself\u001b[0m\u001b[0;34m.\u001b[0m\u001b[0m_transformation_name\u001b[0m\u001b[0;34m(\u001b[0m\u001b[0;34m)\u001b[0m\u001b[0;34m,\u001b[0m\u001b[0;34m\u001b[0m\u001b[0;34m\u001b[0m\u001b[0m\n\u001b[1;32m   5403\u001b[0m         \u001b[0mdataset\u001b[0m\u001b[0;34m=\u001b[0m\u001b[0minput_dataset\u001b[0m\u001b[0;34m,\u001b[0m\u001b[0;34m\u001b[0m\u001b[0;34m\u001b[0m\u001b[0m\n\u001b[0;32m-> 5404\u001b[0;31m         use_legacy_function=use_legacy_function)\n\u001b[0m\u001b[1;32m   5405\u001b[0m     \u001b[0mself\u001b[0m\u001b[0;34m.\u001b[0m\u001b[0m_name\u001b[0m \u001b[0;34m=\u001b[0m \u001b[0mname\u001b[0m\u001b[0;34m\u001b[0m\u001b[0;34m\u001b[0m\u001b[0m\n\u001b[1;32m   5406\u001b[0m     variant_tensor = gen_dataset_ops.map_dataset(\n",
            "\u001b[0;32m/usr/local/lib/python3.7/dist-packages/tensorflow/python/data/ops/structured_function.py\u001b[0m in \u001b[0;36m__init__\u001b[0;34m(self, func, transformation_name, dataset, input_classes, input_shapes, input_types, input_structure, add_to_graph, use_legacy_function, defun_kwargs)\u001b[0m\n\u001b[1;32m    269\u001b[0m         \u001b[0mfn_factory\u001b[0m \u001b[0;34m=\u001b[0m \u001b[0mtrace_tf_function\u001b[0m\u001b[0;34m(\u001b[0m\u001b[0mdefun_kwargs\u001b[0m\u001b[0;34m)\u001b[0m\u001b[0;34m\u001b[0m\u001b[0;34m\u001b[0m\u001b[0m\n\u001b[1;32m    270\u001b[0m \u001b[0;34m\u001b[0m\u001b[0m\n\u001b[0;32m--> 271\u001b[0;31m     \u001b[0mself\u001b[0m\u001b[0;34m.\u001b[0m\u001b[0m_function\u001b[0m \u001b[0;34m=\u001b[0m \u001b[0mfn_factory\u001b[0m\u001b[0;34m(\u001b[0m\u001b[0;34m)\u001b[0m\u001b[0;34m\u001b[0m\u001b[0;34m\u001b[0m\u001b[0m\n\u001b[0m\u001b[1;32m    272\u001b[0m     \u001b[0;31m# There is no graph to add in eager mode.\u001b[0m\u001b[0;34m\u001b[0m\u001b[0;34m\u001b[0m\u001b[0;34m\u001b[0m\u001b[0m\n\u001b[1;32m    273\u001b[0m     \u001b[0madd_to_graph\u001b[0m \u001b[0;34m&=\u001b[0m \u001b[0;32mnot\u001b[0m \u001b[0mcontext\u001b[0m\u001b[0;34m.\u001b[0m\u001b[0mexecuting_eagerly\u001b[0m\u001b[0;34m(\u001b[0m\u001b[0;34m)\u001b[0m\u001b[0;34m\u001b[0m\u001b[0;34m\u001b[0m\u001b[0m\n",
            "\u001b[0;32m/usr/local/lib/python3.7/dist-packages/tensorflow/python/eager/function.py\u001b[0m in \u001b[0;36mget_concrete_function\u001b[0;34m(self, *args, **kwargs)\u001b[0m\n\u001b[1;32m   2609\u001b[0m     \"\"\"\n\u001b[1;32m   2610\u001b[0m     graph_function = self._get_concrete_function_garbage_collected(\n\u001b[0;32m-> 2611\u001b[0;31m         *args, **kwargs)\n\u001b[0m\u001b[1;32m   2612\u001b[0m     \u001b[0mgraph_function\u001b[0m\u001b[0;34m.\u001b[0m\u001b[0m_garbage_collector\u001b[0m\u001b[0;34m.\u001b[0m\u001b[0mrelease\u001b[0m\u001b[0;34m(\u001b[0m\u001b[0;34m)\u001b[0m  \u001b[0;31m# pylint: disable=protected-access\u001b[0m\u001b[0;34m\u001b[0m\u001b[0;34m\u001b[0m\u001b[0m\n\u001b[1;32m   2613\u001b[0m     \u001b[0;32mreturn\u001b[0m \u001b[0mgraph_function\u001b[0m\u001b[0;34m\u001b[0m\u001b[0;34m\u001b[0m\u001b[0m\n",
            "\u001b[0;32m/usr/local/lib/python3.7/dist-packages/tensorflow/python/eager/function.py\u001b[0m in \u001b[0;36m_get_concrete_function_garbage_collected\u001b[0;34m(self, *args, **kwargs)\u001b[0m\n\u001b[1;32m   2574\u001b[0m       \u001b[0margs\u001b[0m\u001b[0;34m,\u001b[0m \u001b[0mkwargs\u001b[0m \u001b[0;34m=\u001b[0m \u001b[0;32mNone\u001b[0m\u001b[0;34m,\u001b[0m \u001b[0;32mNone\u001b[0m\u001b[0;34m\u001b[0m\u001b[0;34m\u001b[0m\u001b[0m\n\u001b[1;32m   2575\u001b[0m     \u001b[0;32mwith\u001b[0m \u001b[0mself\u001b[0m\u001b[0;34m.\u001b[0m\u001b[0m_lock\u001b[0m\u001b[0;34m:\u001b[0m\u001b[0;34m\u001b[0m\u001b[0;34m\u001b[0m\u001b[0m\n\u001b[0;32m-> 2576\u001b[0;31m       \u001b[0mgraph_function\u001b[0m\u001b[0;34m,\u001b[0m \u001b[0m_\u001b[0m \u001b[0;34m=\u001b[0m \u001b[0mself\u001b[0m\u001b[0;34m.\u001b[0m\u001b[0m_maybe_define_function\u001b[0m\u001b[0;34m(\u001b[0m\u001b[0margs\u001b[0m\u001b[0;34m,\u001b[0m \u001b[0mkwargs\u001b[0m\u001b[0;34m)\u001b[0m\u001b[0;34m\u001b[0m\u001b[0;34m\u001b[0m\u001b[0m\n\u001b[0m\u001b[1;32m   2577\u001b[0m       \u001b[0mseen_names\u001b[0m \u001b[0;34m=\u001b[0m \u001b[0mset\u001b[0m\u001b[0;34m(\u001b[0m\u001b[0;34m)\u001b[0m\u001b[0;34m\u001b[0m\u001b[0;34m\u001b[0m\u001b[0m\n\u001b[1;32m   2578\u001b[0m       captured = object_identity.ObjectIdentitySet(\n",
            "\u001b[0;32m/usr/local/lib/python3.7/dist-packages/tensorflow/python/eager/function.py\u001b[0m in \u001b[0;36m_maybe_define_function\u001b[0;34m(self, args, kwargs)\u001b[0m\n\u001b[1;32m   2758\u001b[0m             \u001b[0;31m# Only get placeholders for arguments, not captures\u001b[0m\u001b[0;34m\u001b[0m\u001b[0;34m\u001b[0m\u001b[0;34m\u001b[0m\u001b[0m\n\u001b[1;32m   2759\u001b[0m             \u001b[0margs\u001b[0m\u001b[0;34m,\u001b[0m \u001b[0mkwargs\u001b[0m \u001b[0;34m=\u001b[0m \u001b[0mplaceholder_dict\u001b[0m\u001b[0;34m[\u001b[0m\u001b[0;34m\"args\"\u001b[0m\u001b[0;34m]\u001b[0m\u001b[0;34m\u001b[0m\u001b[0;34m\u001b[0m\u001b[0m\n\u001b[0;32m-> 2760\u001b[0;31m           \u001b[0mgraph_function\u001b[0m \u001b[0;34m=\u001b[0m \u001b[0mself\u001b[0m\u001b[0;34m.\u001b[0m\u001b[0m_create_graph_function\u001b[0m\u001b[0;34m(\u001b[0m\u001b[0margs\u001b[0m\u001b[0;34m,\u001b[0m \u001b[0mkwargs\u001b[0m\u001b[0;34m)\u001b[0m\u001b[0;34m\u001b[0m\u001b[0;34m\u001b[0m\u001b[0m\n\u001b[0m\u001b[1;32m   2761\u001b[0m \u001b[0;34m\u001b[0m\u001b[0m\n\u001b[1;32m   2762\u001b[0m           \u001b[0mgraph_capture_container\u001b[0m \u001b[0;34m=\u001b[0m \u001b[0mgraph_function\u001b[0m\u001b[0;34m.\u001b[0m\u001b[0mgraph\u001b[0m\u001b[0;34m.\u001b[0m\u001b[0m_capture_func_lib\u001b[0m  \u001b[0;31m# pylint: disable=protected-access\u001b[0m\u001b[0;34m\u001b[0m\u001b[0;34m\u001b[0m\u001b[0m\n",
            "\u001b[0;32m/usr/local/lib/python3.7/dist-packages/tensorflow/python/eager/function.py\u001b[0m in \u001b[0;36m_create_graph_function\u001b[0;34m(self, args, kwargs)\u001b[0m\n\u001b[1;32m   2677\u001b[0m             \u001b[0mautograph_options\u001b[0m\u001b[0;34m=\u001b[0m\u001b[0mself\u001b[0m\u001b[0;34m.\u001b[0m\u001b[0m_autograph_options\u001b[0m\u001b[0;34m,\u001b[0m\u001b[0;34m\u001b[0m\u001b[0;34m\u001b[0m\u001b[0m\n\u001b[1;32m   2678\u001b[0m             \u001b[0marg_names\u001b[0m\u001b[0;34m=\u001b[0m\u001b[0marg_names\u001b[0m\u001b[0;34m,\u001b[0m\u001b[0;34m\u001b[0m\u001b[0;34m\u001b[0m\u001b[0m\n\u001b[0;32m-> 2679\u001b[0;31m             capture_by_value=self._capture_by_value),\n\u001b[0m\u001b[1;32m   2680\u001b[0m         \u001b[0mself\u001b[0m\u001b[0;34m.\u001b[0m\u001b[0m_function_attributes\u001b[0m\u001b[0;34m,\u001b[0m\u001b[0;34m\u001b[0m\u001b[0;34m\u001b[0m\u001b[0m\n\u001b[1;32m   2681\u001b[0m         \u001b[0mspec\u001b[0m\u001b[0;34m=\u001b[0m\u001b[0mself\u001b[0m\u001b[0;34m.\u001b[0m\u001b[0mfunction_spec\u001b[0m\u001b[0;34m,\u001b[0m\u001b[0;34m\u001b[0m\u001b[0;34m\u001b[0m\u001b[0m\n",
            "\u001b[0;32m/usr/local/lib/python3.7/dist-packages/tensorflow/python/framework/func_graph.py\u001b[0m in \u001b[0;36mfunc_graph_from_py_func\u001b[0;34m(name, python_func, args, kwargs, signature, func_graph, autograph, autograph_options, add_control_dependencies, arg_names, op_return_value, collections, capture_by_value, acd_record_initial_resource_uses)\u001b[0m\n\u001b[1;32m   1245\u001b[0m         \u001b[0m_\u001b[0m\u001b[0;34m,\u001b[0m \u001b[0moriginal_func\u001b[0m \u001b[0;34m=\u001b[0m \u001b[0mtf_decorator\u001b[0m\u001b[0;34m.\u001b[0m\u001b[0munwrap\u001b[0m\u001b[0;34m(\u001b[0m\u001b[0mpython_func\u001b[0m\u001b[0;34m)\u001b[0m\u001b[0;34m\u001b[0m\u001b[0;34m\u001b[0m\u001b[0m\n\u001b[1;32m   1246\u001b[0m \u001b[0;34m\u001b[0m\u001b[0m\n\u001b[0;32m-> 1247\u001b[0;31m       \u001b[0mfunc_outputs\u001b[0m \u001b[0;34m=\u001b[0m \u001b[0mpython_func\u001b[0m\u001b[0;34m(\u001b[0m\u001b[0;34m*\u001b[0m\u001b[0mfunc_args\u001b[0m\u001b[0;34m,\u001b[0m \u001b[0;34m**\u001b[0m\u001b[0mfunc_kwargs\u001b[0m\u001b[0;34m)\u001b[0m\u001b[0;34m\u001b[0m\u001b[0;34m\u001b[0m\u001b[0m\n\u001b[0m\u001b[1;32m   1248\u001b[0m \u001b[0;34m\u001b[0m\u001b[0m\n\u001b[1;32m   1249\u001b[0m       \u001b[0;31m# invariant: `func_outputs` contains only Tensors, CompositeTensors,\u001b[0m\u001b[0;34m\u001b[0m\u001b[0;34m\u001b[0m\u001b[0;34m\u001b[0m\u001b[0m\n",
            "\u001b[0;32m/usr/local/lib/python3.7/dist-packages/tensorflow/python/data/ops/structured_function.py\u001b[0m in \u001b[0;36mwrapped_fn\u001b[0;34m(*args)\u001b[0m\n\u001b[1;32m    246\u001b[0m           attributes=defun_kwargs)\n\u001b[1;32m    247\u001b[0m       \u001b[0;32mdef\u001b[0m \u001b[0mwrapped_fn\u001b[0m\u001b[0;34m(\u001b[0m\u001b[0;34m*\u001b[0m\u001b[0margs\u001b[0m\u001b[0;34m)\u001b[0m\u001b[0;34m:\u001b[0m  \u001b[0;31m# pylint: disable=missing-docstring\u001b[0m\u001b[0;34m\u001b[0m\u001b[0;34m\u001b[0m\u001b[0m\n\u001b[0;32m--> 248\u001b[0;31m         \u001b[0mret\u001b[0m \u001b[0;34m=\u001b[0m \u001b[0mwrapper_helper\u001b[0m\u001b[0;34m(\u001b[0m\u001b[0;34m*\u001b[0m\u001b[0margs\u001b[0m\u001b[0;34m)\u001b[0m\u001b[0;34m\u001b[0m\u001b[0;34m\u001b[0m\u001b[0m\n\u001b[0m\u001b[1;32m    249\u001b[0m         \u001b[0mret\u001b[0m \u001b[0;34m=\u001b[0m \u001b[0mstructure\u001b[0m\u001b[0;34m.\u001b[0m\u001b[0mto_tensor_list\u001b[0m\u001b[0;34m(\u001b[0m\u001b[0mself\u001b[0m\u001b[0;34m.\u001b[0m\u001b[0m_output_structure\u001b[0m\u001b[0;34m,\u001b[0m \u001b[0mret\u001b[0m\u001b[0;34m)\u001b[0m\u001b[0;34m\u001b[0m\u001b[0;34m\u001b[0m\u001b[0m\n\u001b[1;32m    250\u001b[0m         \u001b[0;32mreturn\u001b[0m \u001b[0;34m[\u001b[0m\u001b[0mops\u001b[0m\u001b[0;34m.\u001b[0m\u001b[0mconvert_to_tensor\u001b[0m\u001b[0;34m(\u001b[0m\u001b[0mt\u001b[0m\u001b[0;34m)\u001b[0m \u001b[0;32mfor\u001b[0m \u001b[0mt\u001b[0m \u001b[0;32min\u001b[0m \u001b[0mret\u001b[0m\u001b[0;34m]\u001b[0m\u001b[0;34m\u001b[0m\u001b[0;34m\u001b[0m\u001b[0m\n",
            "\u001b[0;32m/usr/local/lib/python3.7/dist-packages/tensorflow/python/data/ops/structured_function.py\u001b[0m in \u001b[0;36mwrapper_helper\u001b[0;34m(*args)\u001b[0m\n\u001b[1;32m    175\u001b[0m       \u001b[0;32mif\u001b[0m \u001b[0;32mnot\u001b[0m \u001b[0m_should_unpack\u001b[0m\u001b[0;34m(\u001b[0m\u001b[0mnested_args\u001b[0m\u001b[0;34m)\u001b[0m\u001b[0;34m:\u001b[0m\u001b[0;34m\u001b[0m\u001b[0;34m\u001b[0m\u001b[0m\n\u001b[1;32m    176\u001b[0m         \u001b[0mnested_args\u001b[0m \u001b[0;34m=\u001b[0m \u001b[0;34m(\u001b[0m\u001b[0mnested_args\u001b[0m\u001b[0;34m,\u001b[0m\u001b[0;34m)\u001b[0m\u001b[0;34m\u001b[0m\u001b[0;34m\u001b[0m\u001b[0m\n\u001b[0;32m--> 177\u001b[0;31m       \u001b[0mret\u001b[0m \u001b[0;34m=\u001b[0m \u001b[0mautograph\u001b[0m\u001b[0;34m.\u001b[0m\u001b[0mtf_convert\u001b[0m\u001b[0;34m(\u001b[0m\u001b[0mself\u001b[0m\u001b[0;34m.\u001b[0m\u001b[0m_func\u001b[0m\u001b[0;34m,\u001b[0m \u001b[0mag_ctx\u001b[0m\u001b[0;34m)\u001b[0m\u001b[0;34m(\u001b[0m\u001b[0;34m*\u001b[0m\u001b[0mnested_args\u001b[0m\u001b[0;34m)\u001b[0m\u001b[0;34m\u001b[0m\u001b[0;34m\u001b[0m\u001b[0m\n\u001b[0m\u001b[1;32m    178\u001b[0m       \u001b[0;32mif\u001b[0m \u001b[0m_should_pack\u001b[0m\u001b[0;34m(\u001b[0m\u001b[0mret\u001b[0m\u001b[0;34m)\u001b[0m\u001b[0;34m:\u001b[0m\u001b[0;34m\u001b[0m\u001b[0;34m\u001b[0m\u001b[0m\n\u001b[1;32m    179\u001b[0m         \u001b[0mret\u001b[0m \u001b[0;34m=\u001b[0m \u001b[0mtuple\u001b[0m\u001b[0;34m(\u001b[0m\u001b[0mret\u001b[0m\u001b[0;34m)\u001b[0m\u001b[0;34m\u001b[0m\u001b[0;34m\u001b[0m\u001b[0m\n",
            "\u001b[0;32m/usr/local/lib/python3.7/dist-packages/tensorflow/python/autograph/impl/api.py\u001b[0m in \u001b[0;36mwrapper\u001b[0;34m(*args, **kwargs)\u001b[0m\n\u001b[1;32m    687\u001b[0m       \u001b[0;32mtry\u001b[0m\u001b[0;34m:\u001b[0m\u001b[0;34m\u001b[0m\u001b[0;34m\u001b[0m\u001b[0m\n\u001b[1;32m    688\u001b[0m         \u001b[0;32mwith\u001b[0m \u001b[0mconversion_ctx\u001b[0m\u001b[0;34m:\u001b[0m\u001b[0;34m\u001b[0m\u001b[0;34m\u001b[0m\u001b[0m\n\u001b[0;32m--> 689\u001b[0;31m           \u001b[0;32mreturn\u001b[0m \u001b[0mconverted_call\u001b[0m\u001b[0;34m(\u001b[0m\u001b[0mf\u001b[0m\u001b[0;34m,\u001b[0m \u001b[0margs\u001b[0m\u001b[0;34m,\u001b[0m \u001b[0mkwargs\u001b[0m\u001b[0;34m,\u001b[0m \u001b[0moptions\u001b[0m\u001b[0;34m=\u001b[0m\u001b[0moptions\u001b[0m\u001b[0;34m)\u001b[0m\u001b[0;34m\u001b[0m\u001b[0;34m\u001b[0m\u001b[0m\n\u001b[0m\u001b[1;32m    690\u001b[0m       \u001b[0;32mexcept\u001b[0m \u001b[0mException\u001b[0m \u001b[0;32mas\u001b[0m \u001b[0me\u001b[0m\u001b[0;34m:\u001b[0m  \u001b[0;31m# pylint:disable=broad-except\u001b[0m\u001b[0;34m\u001b[0m\u001b[0;34m\u001b[0m\u001b[0m\n\u001b[1;32m    691\u001b[0m         \u001b[0;32mif\u001b[0m \u001b[0mhasattr\u001b[0m\u001b[0;34m(\u001b[0m\u001b[0me\u001b[0m\u001b[0;34m,\u001b[0m \u001b[0;34m'ag_error_metadata'\u001b[0m\u001b[0;34m)\u001b[0m\u001b[0;34m:\u001b[0m\u001b[0;34m\u001b[0m\u001b[0;34m\u001b[0m\u001b[0m\n",
            "\u001b[0;32m/usr/local/lib/python3.7/dist-packages/tensorflow/python/autograph/impl/api.py\u001b[0m in \u001b[0;36mconverted_call\u001b[0;34m(f, args, kwargs, caller_fn_scope, options)\u001b[0m\n\u001b[1;32m    375\u001b[0m \u001b[0;34m\u001b[0m\u001b[0m\n\u001b[1;32m    376\u001b[0m   \u001b[0;32mif\u001b[0m \u001b[0;32mnot\u001b[0m \u001b[0moptions\u001b[0m\u001b[0;34m.\u001b[0m\u001b[0muser_requested\u001b[0m \u001b[0;32mand\u001b[0m \u001b[0mconversion\u001b[0m\u001b[0;34m.\u001b[0m\u001b[0mis_allowlisted\u001b[0m\u001b[0;34m(\u001b[0m\u001b[0mf\u001b[0m\u001b[0;34m)\u001b[0m\u001b[0;34m:\u001b[0m\u001b[0;34m\u001b[0m\u001b[0;34m\u001b[0m\u001b[0m\n\u001b[0;32m--> 377\u001b[0;31m     \u001b[0;32mreturn\u001b[0m \u001b[0m_call_unconverted\u001b[0m\u001b[0;34m(\u001b[0m\u001b[0mf\u001b[0m\u001b[0;34m,\u001b[0m \u001b[0margs\u001b[0m\u001b[0;34m,\u001b[0m \u001b[0mkwargs\u001b[0m\u001b[0;34m,\u001b[0m \u001b[0moptions\u001b[0m\u001b[0;34m)\u001b[0m\u001b[0;34m\u001b[0m\u001b[0;34m\u001b[0m\u001b[0m\n\u001b[0m\u001b[1;32m    378\u001b[0m \u001b[0;34m\u001b[0m\u001b[0m\n\u001b[1;32m    379\u001b[0m   \u001b[0;31m# internal_convert_user_code is for example turned off when issuing a dynamic\u001b[0m\u001b[0;34m\u001b[0m\u001b[0;34m\u001b[0m\u001b[0;34m\u001b[0m\u001b[0m\n",
            "\u001b[0;32m/usr/local/lib/python3.7/dist-packages/tensorflow/python/autograph/impl/api.py\u001b[0m in \u001b[0;36m_call_unconverted\u001b[0;34m(f, args, kwargs, options, update_cache)\u001b[0m\n\u001b[1;32m    456\u001b[0m \u001b[0;34m\u001b[0m\u001b[0m\n\u001b[1;32m    457\u001b[0m   \u001b[0;32mif\u001b[0m \u001b[0mkwargs\u001b[0m \u001b[0;32mis\u001b[0m \u001b[0;32mnot\u001b[0m \u001b[0;32mNone\u001b[0m\u001b[0;34m:\u001b[0m\u001b[0;34m\u001b[0m\u001b[0;34m\u001b[0m\u001b[0m\n\u001b[0;32m--> 458\u001b[0;31m     \u001b[0;32mreturn\u001b[0m \u001b[0mf\u001b[0m\u001b[0;34m(\u001b[0m\u001b[0;34m*\u001b[0m\u001b[0margs\u001b[0m\u001b[0;34m,\u001b[0m \u001b[0;34m**\u001b[0m\u001b[0mkwargs\u001b[0m\u001b[0;34m)\u001b[0m\u001b[0;34m\u001b[0m\u001b[0;34m\u001b[0m\u001b[0m\n\u001b[0m\u001b[1;32m    459\u001b[0m   \u001b[0;32mreturn\u001b[0m \u001b[0mf\u001b[0m\u001b[0;34m(\u001b[0m\u001b[0;34m*\u001b[0m\u001b[0margs\u001b[0m\u001b[0;34m)\u001b[0m\u001b[0;34m\u001b[0m\u001b[0;34m\u001b[0m\u001b[0m\n\u001b[1;32m    460\u001b[0m \u001b[0;34m\u001b[0m\u001b[0m\n",
            "\u001b[0;32m/usr/local/lib/python3.7/dist-packages/keras/utils/traceback_utils.py\u001b[0m in \u001b[0;36merror_handler\u001b[0;34m(*args, **kwargs)\u001b[0m\n\u001b[1;32m     68\u001b[0m             \u001b[0;31m# To get the full stack trace, call:\u001b[0m\u001b[0;34m\u001b[0m\u001b[0;34m\u001b[0m\u001b[0;34m\u001b[0m\u001b[0m\n\u001b[1;32m     69\u001b[0m             \u001b[0;31m# `tf.debugging.disable_traceback_filtering()`\u001b[0m\u001b[0;34m\u001b[0m\u001b[0;34m\u001b[0m\u001b[0;34m\u001b[0m\u001b[0m\n\u001b[0;32m---> 70\u001b[0;31m             \u001b[0;32mraise\u001b[0m \u001b[0me\u001b[0m\u001b[0;34m.\u001b[0m\u001b[0mwith_traceback\u001b[0m\u001b[0;34m(\u001b[0m\u001b[0mfiltered_tb\u001b[0m\u001b[0;34m)\u001b[0m \u001b[0;32mfrom\u001b[0m \u001b[0;32mNone\u001b[0m\u001b[0;34m\u001b[0m\u001b[0;34m\u001b[0m\u001b[0m\n\u001b[0m\u001b[1;32m     71\u001b[0m         \u001b[0;32mfinally\u001b[0m\u001b[0;34m:\u001b[0m\u001b[0;34m\u001b[0m\u001b[0;34m\u001b[0m\u001b[0m\n\u001b[1;32m     72\u001b[0m             \u001b[0;32mdel\u001b[0m \u001b[0mfiltered_tb\u001b[0m\u001b[0;34m\u001b[0m\u001b[0;34m\u001b[0m\u001b[0m\n",
            "\u001b[0;32m/tmp/__autograph_generated_filekg7a6jn5.py\u001b[0m in \u001b[0;36mtf__call\u001b[0;34m(self, inputs)\u001b[0m\n\u001b[1;32m     33\u001b[0m                         \u001b[0mdo_return\u001b[0m \u001b[0;34m=\u001b[0m \u001b[0;32mFalse\u001b[0m\u001b[0;34m\u001b[0m\u001b[0;34m\u001b[0m\u001b[0m\n\u001b[1;32m     34\u001b[0m                         \u001b[0;32mraise\u001b[0m\u001b[0;34m\u001b[0m\u001b[0;34m\u001b[0m\u001b[0m\n\u001b[0;32m---> 35\u001b[0;31m                 \u001b[0mag__\u001b[0m\u001b[0;34m.\u001b[0m\u001b[0mif_stmt\u001b[0m\u001b[0;34m(\u001b[0m\u001b[0mag__\u001b[0m\u001b[0;34m.\u001b[0m\u001b[0mnot_\u001b[0m\u001b[0;34m(\u001b[0m\u001b[0mag__\u001b[0m\u001b[0;34m.\u001b[0m\u001b[0mld\u001b[0m\u001b[0;34m(\u001b[0m\u001b[0mself\u001b[0m\u001b[0;34m)\u001b[0m\u001b[0;34m.\u001b[0m\u001b[0muse_genre\u001b[0m\u001b[0;34m)\u001b[0m\u001b[0;34m,\u001b[0m \u001b[0mif_body\u001b[0m\u001b[0;34m,\u001b[0m \u001b[0melse_body\u001b[0m\u001b[0;34m,\u001b[0m \u001b[0mget_state\u001b[0m\u001b[0;34m,\u001b[0m \u001b[0mset_state\u001b[0m\u001b[0;34m,\u001b[0m \u001b[0;34m(\u001b[0m\u001b[0;34m'do_return'\u001b[0m\u001b[0;34m,\u001b[0m \u001b[0;34m'retval_'\u001b[0m\u001b[0;34m)\u001b[0m\u001b[0;34m,\u001b[0m \u001b[0;36m2\u001b[0m\u001b[0;34m)\u001b[0m\u001b[0;34m\u001b[0m\u001b[0;34m\u001b[0m\u001b[0m\n\u001b[0m\u001b[1;32m     36\u001b[0m                 \u001b[0;32mreturn\u001b[0m \u001b[0mfscope\u001b[0m\u001b[0;34m.\u001b[0m\u001b[0mret\u001b[0m\u001b[0;34m(\u001b[0m\u001b[0mretval_\u001b[0m\u001b[0;34m,\u001b[0m \u001b[0mdo_return\u001b[0m\u001b[0;34m)\u001b[0m\u001b[0;34m\u001b[0m\u001b[0;34m\u001b[0m\u001b[0m\n\u001b[1;32m     37\u001b[0m         \u001b[0;32mreturn\u001b[0m \u001b[0mtf__call\u001b[0m\u001b[0;34m\u001b[0m\u001b[0;34m\u001b[0m\u001b[0m\n",
            "\u001b[0;32m/tmp/__autograph_generated_filekg7a6jn5.py\u001b[0m in \u001b[0;36melse_body\u001b[0;34m()\u001b[0m\n\u001b[1;32m     29\u001b[0m                     \u001b[0;32mtry\u001b[0m\u001b[0;34m:\u001b[0m\u001b[0;34m\u001b[0m\u001b[0;34m\u001b[0m\u001b[0m\n\u001b[1;32m     30\u001b[0m                         \u001b[0mdo_return\u001b[0m \u001b[0;34m=\u001b[0m \u001b[0;32mTrue\u001b[0m\u001b[0;34m\u001b[0m\u001b[0;34m\u001b[0m\u001b[0m\n\u001b[0;32m---> 31\u001b[0;31m                         \u001b[0mretval_\u001b[0m \u001b[0;34m=\u001b[0m \u001b[0mag__\u001b[0m\u001b[0;34m.\u001b[0m\u001b[0mconverted_call\u001b[0m\u001b[0;34m(\u001b[0m\u001b[0mag__\u001b[0m\u001b[0;34m.\u001b[0m\u001b[0mld\u001b[0m\u001b[0;34m(\u001b[0m\u001b[0mtf\u001b[0m\u001b[0;34m)\u001b[0m\u001b[0;34m.\u001b[0m\u001b[0mconcat\u001b[0m\u001b[0;34m,\u001b[0m \u001b[0;34m(\u001b[0m\u001b[0;34m(\u001b[0m\u001b[0;34m(\u001b[0m\u001b[0;34m[\u001b[0m\u001b[0mag__\u001b[0m\u001b[0;34m.\u001b[0m\u001b[0mconverted_call\u001b[0m\u001b[0;34m(\u001b[0m\u001b[0mag__\u001b[0m\u001b[0;34m.\u001b[0m\u001b[0mld\u001b[0m\u001b[0;34m(\u001b[0m\u001b[0mself\u001b[0m\u001b[0;34m)\u001b[0m\u001b[0;34m.\u001b[0m\u001b[0mtitle_embedding\u001b[0m\u001b[0;34m,\u001b[0m \u001b[0;34m(\u001b[0m\u001b[0mag__\u001b[0m\u001b[0;34m.\u001b[0m\u001b[0mld\u001b[0m\u001b[0;34m(\u001b[0m\u001b[0minputs\u001b[0m\u001b[0;34m)\u001b[0m\u001b[0;34m[\u001b[0m\u001b[0;34m'movieID'\u001b[0m\u001b[0;34m]\u001b[0m\u001b[0;34m,\u001b[0m\u001b[0;34m)\u001b[0m\u001b[0;34m,\u001b[0m \u001b[0;32mNone\u001b[0m\u001b[0;34m,\u001b[0m \u001b[0mfscope\u001b[0m\u001b[0;34m)\u001b[0m\u001b[0;34m]\u001b[0m \u001b[0;34m+\u001b[0m \u001b[0;34m[\u001b[0m\u001b[0mag__\u001b[0m\u001b[0;34m.\u001b[0m\u001b[0mconverted_call\u001b[0m\u001b[0;34m(\u001b[0m\u001b[0mag__\u001b[0m\u001b[0;34m.\u001b[0m\u001b[0mld\u001b[0m\u001b[0;34m(\u001b[0m\u001b[0mself\u001b[0m\u001b[0;34m)\u001b[0m\u001b[0;34m.\u001b[0m\u001b[0mlength_embedding\u001b[0m\u001b[0;34m,\u001b[0m \u001b[0;34m(\u001b[0m\u001b[0mag__\u001b[0m\u001b[0;34m.\u001b[0m\u001b[0mld\u001b[0m\u001b[0;34m(\u001b[0m\u001b[0minputs\u001b[0m\u001b[0;34m)\u001b[0m\u001b[0;34m[\u001b[0m\u001b[0;34m'length'\u001b[0m\u001b[0;34m]\u001b[0m\u001b[0;34m,\u001b[0m\u001b[0;34m)\u001b[0m\u001b[0;34m,\u001b[0m \u001b[0;32mNone\u001b[0m\u001b[0;34m,\u001b[0m \u001b[0mfscope\u001b[0m\u001b[0;34m)\u001b[0m\u001b[0;34m]\u001b[0m\u001b[0;34m)\u001b[0m \u001b[0;34m+\u001b[0m \u001b[0;34m[\u001b[0m\u001b[0mag__\u001b[0m\u001b[0;34m.\u001b[0m\u001b[0mconverted_call\u001b[0m\u001b[0;34m(\u001b[0m\u001b[0mag__\u001b[0m\u001b[0;34m.\u001b[0m\u001b[0mld\u001b[0m\u001b[0;34m(\u001b[0m\u001b[0mself\u001b[0m\u001b[0;34m)\u001b[0m\u001b[0;34m.\u001b[0m\u001b[0mgenre_embedding\u001b[0m\u001b[0;34m,\u001b[0m \u001b[0;34m(\u001b[0m\u001b[0;34m[\u001b[0m\u001b[0mag__\u001b[0m\u001b[0;34m.\u001b[0m\u001b[0mld\u001b[0m\u001b[0;34m(\u001b[0m\u001b[0minputs\u001b[0m\u001b[0;34m)\u001b[0m\u001b[0;34m[\u001b[0m\u001b[0mag__\u001b[0m\u001b[0;34m.\u001b[0m\u001b[0mld\u001b[0m\u001b[0;34m(\u001b[0m\u001b...\n\u001b[0m\u001b[1;32m     32\u001b[0m                     \u001b[0;32mexcept\u001b[0m\u001b[0;34m:\u001b[0m\u001b[0;34m\u001b[0m\u001b[0;34m\u001b[0m\u001b[0m\n\u001b[1;32m     33\u001b[0m                         \u001b[0mdo_return\u001b[0m \u001b[0;34m=\u001b[0m \u001b[0;32mFalse\u001b[0m\u001b[0;34m\u001b[0m\u001b[0;34m\u001b[0m\u001b[0m\n",
            "\u001b[0;31mValueError\u001b[0m: Exception encountered when calling layer \"retieval_movie_model_6\" \"                 f\"(type RetievalMovieModel).\n\nin user code:\n\n    File \"<ipython-input-77-134a17da7569>\", line 62, in call  *\n        [self.genre_embedding([inputs[k] for k in unique_genres])], #movie_genres\n    File \"/usr/local/lib/python3.7/dist-packages/keras/utils/traceback_utils.py\", line 70, in error_handler  **\n        raise e.with_traceback(filtered_tb) from None\n    File \"/usr/local/lib/python3.7/dist-packages/keras/engine/input_spec.py\", line 217, in assert_input_compatibility\n        f'Layer \"{layer_name}\" expects {len(input_spec)} input(s),'\n\n    ValueError: Layer \"sequential_60\" expects 1 input(s), but it received 20 input tensors. Inputs received: [<tf.Tensor 'args_3:0' shape=(None,) dtype=int8>, <tf.Tensor 'args_13:0' shape=(None,) dtype=int8>, <tf.Tensor 'args_4:0' shape=(None,) dtype=int8>, <tf.Tensor 'args_6:0' shape=(None,) dtype=int8>, <tf.Tensor 'args_14:0' shape=(None,) dtype=int8>, <tf.Tensor 'args_5:0' shape=(None,) dtype=int8>, <tf.Tensor 'args_17:0' shape=(None,) dtype=int8>, <tf.Tensor 'args_0:0' shape=(None,) dtype=int8>, <tf.Tensor 'args_2:0' shape=(None,) dtype=int8>, <tf.Tensor 'args_15:0' shape=(None,) dtype=int8>, <tf.Tensor 'args_1:0' shape=(None,) dtype=int8>, <tf.Tensor 'args_18:0' shape=(None,) dtype=int8>, <tf.Tensor 'args_11:0' shape=(None,) dtype=int8>, <tf.Tensor 'args_19:0' shape=(None,) dtype=int8>, <tf.Tensor 'args_8:0' shape=(None,) dtype=int8>, <tf.Tensor 'args_7:0' shape=(None,) dtype=int8>, <tf.Tensor 'args_10:0' shape=(None,) dtype=int8>, <tf.Tensor 'args_16:0' shape=(None,) dtype=int8>, <tf.Tensor 'args_12:0' shape=(None,) dtype=int8>, <tf.Tensor 'args_9:0' shape=(None,) dtype=int8>]\n\n\nCall arguments received by layer \"retieval_movie_model_6\" \"                 f\"(type RetievalMovieModel):\n  • inputs={'movieID': 'tf.Tensor(shape=(None,), dtype=string)', 'length': 'tf.Tensor(shape=(None,), dtype=int64)', 'Comedy': 'tf.Tensor(shape=(None,), dtype=int8)', 'Mystery': 'tf.Tensor(shape=(None,), dtype=int8)', 'Crime': 'tf.Tensor(shape=(None,), dtype=int8)', 'Drama': 'tf.Tensor(shape=(None,), dtype=int8)', 'Romance': 'tf.Tensor(shape=(None,), dtype=int8)', 'Documentary': 'tf.Tensor(shape=(None,), dtype=int8)', 'Thriller': 'tf.Tensor(shape=(None,), dtype=int8)', 'Action': 'tf.Tensor(shape=(None,), dtype=int8)', 'Animation': 'tf.Tensor(shape=(None,), dtype=int8)', 'Science Fiction': 'tf.Tensor(shape=(None,), dtype=int8)', 'Adventure': 'tf.Tensor(shape=(None,), dtype=int8)', 'War': 'tf.Tensor(shape=(None,), dtype=int8)', 'Horror': 'tf.Tensor(shape=(None,), dtype=int8)', 'Western': 'tf.Tensor(shape=(None,), dtype=int8)', 'Fantasy': 'tf.Tensor(shape=(None,), dtype=int8)', 'Family': 'tf.Tensor(shape=(None,), dtype=int8)', 'History': 'tf.Tensor(shape=(None,), dtype=int8)', 'TV Movie': 'tf.Tensor(shape=(None,), dtype=int8)', 'Music': 'tf.Tensor(shape=(None,), dtype=int8)', 'Foreign': 'tf.Tensor(shape=(None,), dtype=int8)'}"
          ]
        }
      ]
    },
    {
      "cell_type": "code",
      "source": [
        "model_1.evaluate(cached_test, return_dict=True)"
      ],
      "metadata": {
        "colab": {
          "base_uri": "https://localhost:8080/"
        },
        "id": "ANnEZELb2zHN",
        "outputId": "76f8f124-8127-4e7d-b759-c835fb646fdb"
      },
      "execution_count": null,
      "outputs": [
        {
          "output_type": "stream",
          "name": "stderr",
          "text": [
            "WARNING:tensorflow:Layers in a Sequential model should only have a single input tensor. Received: inputs={'user_id': <tf.Tensor 'IteratorGetNext:6' shape=(None,) dtype=string>, 'age': <tf.Tensor 'IteratorGetNext:0' shape=(None,) dtype=int64>, 'occupation': <tf.Tensor 'IteratorGetNext:5' shape=(None,) dtype=int8>, 'gender': <tf.Tensor 'IteratorGetNext:1' shape=(None,) dtype=bool>}. Consider rewriting this model with the Functional API.\n",
            "WARNING:tensorflow:Layers in a Sequential model should only have a single input tensor. Received: inputs={'movieID': <tf.Tensor 'IteratorGetNext:4' shape=(None,) dtype=string>, 'genres': <tf.Tensor 'IteratorGetNext:2' shape=(None,) dtype=string>, 'length': <tf.Tensor 'IteratorGetNext:3' shape=(None,) dtype=int64>}. Consider rewriting this model with the Functional API.\n"
          ]
        },
        {
          "output_type": "stream",
          "name": "stdout",
          "text": [
            "10/10 [==============================] - 81s 8s/step - factorized_top_k/top_1_categorical_accuracy: 7.5432e-05 - factorized_top_k/top_5_categorical_accuracy: 3.2687e-04 - factorized_top_k/top_10_categorical_accuracy: 6.5374e-04 - factorized_top_k/top_50_categorical_accuracy: 0.0038 - factorized_top_k/top_100_categorical_accuracy: 0.0075 - loss: 36572.2273 - regularization_loss: 0.0000e+00 - total_loss: 36572.2273\n"
          ]
        },
        {
          "output_type": "execute_result",
          "data": {
            "text/plain": [
              "{'factorized_top_k/top_1_categorical_accuracy': 7.543184619862586e-05,\n",
              " 'factorized_top_k/top_5_categorical_accuracy': 0.00032687134807929397,\n",
              " 'factorized_top_k/top_10_categorical_accuracy': 0.0006537426961585879,\n",
              " 'factorized_top_k/top_50_categorical_accuracy': 0.003796736244112253,\n",
              " 'factorized_top_k/top_100_categorical_accuracy': 0.007492896635085344,\n",
              " 'loss': 26638.298828125,\n",
              " 'regularization_loss': 0,\n",
              " 'total_loss': 26638.298828125}"
            ]
          },
          "metadata": {},
          "execution_count": 50
        }
      ]
    },
    {
      "cell_type": "code",
      "source": [
        "embedding_dimension = 32\n",
        "\n",
        "user_model = tf.keras.Sequential([\n",
        "  tf.keras.layers.StringLookup(\n",
        "      vocabulary=unique_user_ids, mask_token=None),\n",
        "  # We add an additional embedding to account for unknown tokens.\n",
        "  tf.keras.layers.Embedding(len(unique_user_ids) + 1, embedding_dimension)\n",
        "])\n",
        "\n",
        "movie_model = tf.keras.Sequential([\n",
        "  tf.keras.layers.StringLookup(\n",
        "      vocabulary=unique_movie_titles, mask_token=None),\n",
        "  tf.keras.layers.Embedding(len(unique_movie_titles) + 1, embedding_dimension)\n",
        "])\n",
        "\n",
        "metrics = tfrs.metrics.FactorizedTopK(\n",
        "  candidates=movies.batch(128).map(movie_model)\n",
        ")\n",
        "\n",
        "task = tfrs.tasks.Retrieval(\n",
        "  metrics=metrics\n",
        ")\n",
        "\n",
        "class RecRetModel(tfrs.Model):\n",
        "\n",
        "  def __init__(self, user_model, movie_model):\n",
        "    super().__init__()\n",
        "    self.movie_model: tf.keras.Model = movie_model\n",
        "    self.user_model: tf.keras.Model = user_model\n",
        "    self.task: tf.keras.layers.Layer = task\n",
        "\n",
        "  def compute_loss(self, features: Dict[Text, tf.Tensor], training=False) -> tf.Tensor:\n",
        "    # We pick out the user features and pass them into the user model.\n",
        "    user_embeddings = self.user_model(features[\"user_id\"])\n",
        "    # And pick out the movie features and pass them into the movie model,\n",
        "    # getting embeddings back.\n",
        "    positive_movie_embeddings = self.movie_model(features[\"movie_title\"])\n",
        "\n",
        "    # The task computes the loss and the metrics.\n",
        "    return self.task(user_embeddings, positive_movie_embeddings)"
      ],
      "metadata": {
        "id": "CRYvv2rDoNV-"
      },
      "execution_count": null,
      "outputs": []
    },
    {
      "cell_type": "code",
      "source": [
        "model_1 = RecRetModel(user_model, movie_model)\n",
        "model_1.compile(optimizer=tf.keras.optimizers.Adagrad(learning_rate=0.1))\n",
        "model_1.fit(cached_train, epochs=3)"
      ],
      "metadata": {
        "colab": {
          "base_uri": "https://localhost:8080/"
        },
        "id": "ACzCWvCtc6Cv",
        "outputId": "564c3c59-7674-4696-8f71-73a8eb90d4b1"
      },
      "execution_count": null,
      "outputs": [
        {
          "metadata": {
            "tags": null
          },
          "name": "stdout",
          "output_type": "stream",
          "text": [
            "Epoch 1/3\n",
            "20/20 [==============================] - 291s 14s/step - factorized_top_k/top_1_categorical_accuracy: 2.2500e-04 - factorized_top_k/top_5_categorical_accuracy: 0.0058 - factorized_top_k/top_10_categorical_accuracy: 0.0116 - factorized_top_k/top_50_categorical_accuracy: 0.0317 - factorized_top_k/top_100_categorical_accuracy: 0.0406 - loss: 70260.2042 - regularization_loss: 0.0000e+00 - total_loss: 70260.2042\n",
            "Epoch 2/3\n",
            "20/20 [==============================] - 279s 14s/step - factorized_top_k/top_1_categorical_accuracy: 0.0038 - factorized_top_k/top_5_categorical_accuracy: 0.2146 - factorized_top_k/top_10_categorical_accuracy: 0.2495 - factorized_top_k/top_50_categorical_accuracy: 0.3444 - factorized_top_k/top_100_categorical_accuracy: 0.4518 - loss: 69567.0978 - regularization_loss: 0.0000e+00 - total_loss: 69567.0978\n",
            "Epoch 3/3\n",
            "20/20 [==============================] - 278s 14s/step - factorized_top_k/top_1_categorical_accuracy: 0.0092 - factorized_top_k/top_5_categorical_accuracy: 0.3168 - factorized_top_k/top_10_categorical_accuracy: 0.3250 - factorized_top_k/top_50_categorical_accuracy: 0.4159 - factorized_top_k/top_100_categorical_accuracy: 0.5968 - loss: 65060.9634 - regularization_loss: 0.0000e+00 - total_loss: 65060.9634\n"
          ]
        },
        {
          "output_type": "execute_result",
          "data": {
            "text/plain": [
              "<keras.callbacks.History at 0x7fba672ac3d0>"
            ]
          },
          "metadata": {},
          "execution_count": 17
        }
      ]
    },
    {
      "cell_type": "code",
      "source": [
        "model_1.evaluate(cached_test, return_dict=True)"
      ],
      "metadata": {
        "colab": {
          "base_uri": "https://localhost:8080/"
        },
        "id": "iJEpu8mkc6Fn",
        "outputId": "ba500329-22f2-45af-99ee-1b76cab29469"
      },
      "execution_count": null,
      "outputs": [
        {
          "output_type": "stream",
          "name": "stdout",
          "text": [
            "10/10 [==============================] - 74s 7s/step - factorized_top_k/top_1_categorical_accuracy: 0.0010 - factorized_top_k/top_5_categorical_accuracy: 0.0082 - factorized_top_k/top_10_categorical_accuracy: 0.0161 - factorized_top_k/top_50_categorical_accuracy: 0.0700 - factorized_top_k/top_100_categorical_accuracy: 0.1056 - loss: 32687.0472 - regularization_loss: 0.0000e+00 - total_loss: 32687.0472\n"
          ]
        },
        {
          "output_type": "execute_result",
          "data": {
            "text/plain": [
              "{'factorized_top_k/top_1_categorical_accuracy': 0.001025000005029142,\n",
              " 'factorized_top_k/top_5_categorical_accuracy': 0.008200000040233135,\n",
              " 'factorized_top_k/top_10_categorical_accuracy': 0.01614999957382679,\n",
              " 'factorized_top_k/top_50_categorical_accuracy': 0.0700249969959259,\n",
              " 'factorized_top_k/top_100_categorical_accuracy': 0.10557500272989273,\n",
              " 'loss': 25402.27734375,\n",
              " 'regularization_loss': 0,\n",
              " 'total_loss': 25402.27734375}"
            ]
          },
          "metadata": {},
          "execution_count": 18
        }
      ]
    },
    {
      "cell_type": "code",
      "source": [
        "# Getting a list of 100 possible movies from the model. \n",
        "\n",
        "# Create a model that takes in raw query features, and\n",
        "index = tfrs.layers.factorized_top_k.BruteForce(model_1.user_model, k=100)\n",
        "# recommends movies out of the entire movies dataset.\n",
        "index.index_from_dataset(\n",
        "  tf.data.Dataset.zip((movies.batch(200), movies.batch(200).map(model_1.movie_model)))\n",
        ")"
      ],
      "metadata": {
        "id": "L4vl5r7dipzI"
      },
      "execution_count": null,
      "outputs": []
    },
    {
      "cell_type": "code",
      "source": [
        "# Get recommendations.\n",
        "_, titles = index(tf.constant([\"42\"]))\n",
        "print(f\"Recommendations for user 42: {titles[0, :]}\")"
      ],
      "metadata": {
        "colab": {
          "base_uri": "https://localhost:8080/"
        },
        "id": "ANbRNkpiiuHm",
        "outputId": "f61f7915-6330-408a-bdbb-bf72b6bb3d84"
      },
      "execution_count": null,
      "outputs": [
        {
          "output_type": "stream",
          "name": "stdout",
          "text": [
            "Recommendations for user 42: [b'whisper+of+the+heart+1995' b'batman+begins+2005' b'shrek+2001'\n",
            " b'shutter+island+2010' b'ong-bak+the+thai+warrior+2003'\n",
            " b'blade+runner+1982' b'harry+potter+and+the+order+of+the+phoenix+2007'\n",
            " b'pirates+of+the+caribbean+the+curse+of+the+black+pearl+2003' b'up+2009'\n",
            " b'forrest+gump+1994' b'the+lord+of+the+rings+the+return+of+the+king+2003'\n",
            " b'aliens+1986' b'harry+potter+and+the+deathly+hallows+part+2+2011'\n",
            " b'dial+m+for+murder+1954' b'the+dark+knight+rises+2012'\n",
            " b'monsters_+inc.+2001' b'megamind+2010' b'inglourious+basterds+2009'\n",
            " b'wreck-it+ralph+2012' b'harry+potter+and+the+philosophers+stone+2001'\n",
            " b'iron+man+2+2010' b'penguins+of+madagascar+2014' b'casino+royale+2006'\n",
            " b'raiders+of+the+lost+ark+1981' b'the+jungle+book+1967'\n",
            " b'dragon+ball+z+broly+-+second+coming+1994' b'seventh+son+2014'\n",
            " b'peter+pan+1953' b'the+dark+knight+2008' b'the+fifth+element+1997'\n",
            " b'despicable+me+2010' b'monty+python+and+the+holy+grail+1975'\n",
            " b'shrek+forever+after+2010' b'mr.++mrs.+smith+2005'\n",
            " b'anchors+aweigh+1945' b'the+hobbit+the+desolation+of+smaug+2013'\n",
            " b'cinderella+1950' b'insurgent+2015' b'pinocchio+1940'\n",
            " b'a+bugs+life+1998' b'the+great+debaters+2007' b'dumb+and+dumber+1994'\n",
            " b'gattaca+1997' b'true+lies+1994' b'it+follows+2015'\n",
            " b'beauty+and+the+beast+1991' b'toy+story+2+1999' b'bolt+2008'\n",
            " b'the+day+the+earth+stood+still+1951' b'the+terminator+1984'\n",
            " b'snow+white+and+the+seven+dwarfs+1937' b'fury+2014' b'shrek+2+2004'\n",
            " b'star+wars+episode+iii+-+revenge+of+the+sith+2005'\n",
            " b'the+gods+must+be+crazy+1980'\n",
            " b'the+lord+of+the+rings+the+two+towers+2002'\n",
            " b'the+hobbit+the+battle+of+the+five+armies+2014' b'the+godfather+1972'\n",
            " b'dawn+of+the+planet+of+the+apes+2014' b'the+princess+and+the+frog+2009'\n",
            " b'the+black+cauldron+1985' b'sal_+or+the+120+days+of+sodom+1975'\n",
            " b'interstellar+2014' b'mulan+1998' b'the+kingdom+2007' b'the+mummy+1999'\n",
            " b'forbidden+planet+1956' b'ice+age+dawn+of+the+dinosaurs+2009'\n",
            " b'maleficent+2014' b'north+by+northwest+1959' b'safety+last+1923'\n",
            " b'rosemarys+baby+1968' b'toy+story+3+2010' b'miracle+2004'\n",
            " b'pirates+of+the+caribbean+dead+mans+chest+2006'\n",
            " b'nausica+of+the+valley+of+the+wind+1984' b'troy+2004'\n",
            " b'trainspotting+1996' b'harry+potter+and+the+chamber+of+secrets+2002'\n",
            " b'bull+durham+1988' b'three+days+of+the+condor+1975' b'tracers+2015'\n",
            " b'threads+1984' b'rendition+2007' b'spirit+stallion+of+the+cimarron+2002'\n",
            " b'ida+2013' b'big+hero+6+2014' b'marley+2012' b'thx+1138+1971'\n",
            " b'harry+potter+and+the+prisoner+of+azkaban+2004'\n",
            " b'quantum+of+solace+2008' b'unforgiven+1992' b'brave+2012'\n",
            " b'hercules+1997' b'men+in+black+ii+2002'\n",
            " b'pirates+of+the+caribbean+on+stranger+tides+2011'\n",
            " b'life+is+beautiful+1997' b'one+hundred+and+one+dalmatians+1961'\n",
            " b'winchester+73+1950' b'a+grand+day+out+1990']\n"
          ]
        }
      ]
    },
    {
      "cell_type": "code",
      "source": [
        "# Save the index (model).\n",
        "tf.saved_model.save(index, '/content/gdrive/MyDrive/COMP_585_share/modeltf')"
      ],
      "metadata": {
        "colab": {
          "base_uri": "https://localhost:8080/"
        },
        "id": "aYHAaZtgi4A-",
        "outputId": "18145ca3-69c5-4b1d-f7fb-c59f467ebcb1"
      },
      "execution_count": null,
      "outputs": [
        {
          "output_type": "stream",
          "name": "stderr",
          "text": [
            "WARNING:absl:Found untraced functions such as query_with_exclusions while saving (showing 1 of 1). These functions will not be directly callable after loading.\n"
          ]
        }
      ]
    },
    {
      "cell_type": "markdown",
      "source": [
        "# Ranking Model"
      ],
      "metadata": {
        "id": "djyLEMmrh0Uv"
      }
    },
    {
      "cell_type": "code",
      "source": [
        "class RankingModel(tf.keras.Model):\n",
        "\n",
        "  def __init__(self):\n",
        "    super().__init__()\n",
        "    embedding_dimension = 32\n",
        "\n",
        "    # Compute embeddings for users.\n",
        "    self.user_embeddings = tf.keras.Sequential([\n",
        "      tf.keras.layers.StringLookup(\n",
        "        vocabulary=unique_user_ids, mask_token=None),\n",
        "      tf.keras.layers.Embedding(len(unique_user_ids) + 1, embedding_dimension)\n",
        "    ])\n",
        "\n",
        "    # Compute embeddings for movies.\n",
        "    self.movie_embeddings = tf.keras.Sequential([\n",
        "      tf.keras.layers.StringLookup(\n",
        "        vocabulary=unique_movie_titles, mask_token=None),\n",
        "      tf.keras.layers.Embedding(len(unique_movie_titles) + 1, embedding_dimension)\n",
        "    ])\n",
        "\n",
        "    # Compute predictions.\n",
        "    self.ratings = tf.keras.Sequential([\n",
        "      # Learn multiple dense layers.\n",
        "      tf.keras.layers.Dense(256, activation=\"relu\"),\n",
        "      tf.keras.layers.Dense(64, activation=\"relu\"),\n",
        "      # Make rating predictions in the final layer.\n",
        "      tf.keras.layers.Dense(1)\n",
        "  ])\n",
        "\n",
        "  def call(self, inputs):\n",
        "\n",
        "    user_id, movie_title = inputs\n",
        "\n",
        "    user_embedding = self.user_embeddings(user_id)\n",
        "    movie_embedding = self.movie_embeddings(movie_title)\n",
        "\n",
        "    return self.ratings(tf.concat([user_embedding, movie_embedding], axis=1))\n",
        "\n",
        "\n",
        "class RecRankModel(tfrs.models.Model):\n",
        "\n",
        "  def __init__(self):\n",
        "    super().__init__()\n",
        "    self.ranking_model: tf.keras.Model = RankingModel()\n",
        "    self.task: tf.keras.layers.Layer = tfrs.tasks.Ranking(\n",
        "      loss = tf.keras.losses.MeanSquaredError(),\n",
        "      metrics=[tf.keras.metrics.RootMeanSquaredError()]\n",
        "    )\n",
        "\n",
        "  def call(self, features: Dict[str, tf.Tensor]) -> tf.Tensor:\n",
        "    return self.ranking_model(\n",
        "        (features[\"user_id\"], features[\"movie_title\"]))\n",
        "\n",
        "  def compute_loss(self, features: Dict[Text, tf.Tensor], training=False) -> tf.Tensor:\n",
        "    labels = features.pop(\"user_rating\")\n",
        "\n",
        "    rating_predictions = self(features)\n",
        "\n",
        "    # The task computes the loss and the metrics.\n",
        "    return self.task(labels=labels, predictions=rating_predictions)\n"
      ],
      "metadata": {
        "id": "vjRs9eT_qae6"
      },
      "execution_count": null,
      "outputs": []
    },
    {
      "cell_type": "code",
      "source": [
        "model_2 = RecRankModel()\n",
        "model_2.compile(optimizer=tf.keras.optimizers.Adagrad(learning_rate=0.1))"
      ],
      "metadata": {
        "id": "ZZUpUTs3qoDu"
      },
      "execution_count": null,
      "outputs": []
    },
    {
      "cell_type": "code",
      "source": [
        "cached_train = train.shuffle(200_000).batch(8192).cache()\n",
        "cached_test = test.batch(4096).cache()"
      ],
      "metadata": {
        "id": "QFbsKSb9qoGp"
      },
      "execution_count": null,
      "outputs": []
    },
    {
      "cell_type": "code",
      "source": [
        "model_2.fit(cached_train, epochs=3)"
      ],
      "metadata": {
        "colab": {
          "base_uri": "https://localhost:8080/"
        },
        "id": "oxq1609GqoJ4",
        "outputId": "d7f48321-890d-4785-97e9-959ed4f48278"
      },
      "execution_count": null,
      "outputs": [
        {
          "output_type": "stream",
          "name": "stdout",
          "text": [
            "Epoch 1/3\n",
            "20/20 [==============================] - 4s 65ms/step - root_mean_squared_error: 1.5831 - loss: 2.3693 - regularization_loss: 0.0000e+00 - total_loss: 2.3693\n",
            "Epoch 2/3\n",
            "20/20 [==============================] - 1s 38ms/step - root_mean_squared_error: 0.7439 - loss: 0.5526 - regularization_loss: 0.0000e+00 - total_loss: 0.5526\n",
            "Epoch 3/3\n",
            "20/20 [==============================] - 1s 38ms/step - root_mean_squared_error: 0.7410 - loss: 0.5483 - regularization_loss: 0.0000e+00 - total_loss: 0.5483\n"
          ]
        },
        {
          "output_type": "execute_result",
          "data": {
            "text/plain": [
              "<keras.callbacks.History at 0x7fba65395d50>"
            ]
          },
          "metadata": {},
          "execution_count": 25
        }
      ]
    },
    {
      "cell_type": "code",
      "source": [
        "model_2.evaluate(cached_test, return_dict=True)"
      ],
      "metadata": {
        "colab": {
          "base_uri": "https://localhost:8080/"
        },
        "id": "xwuEfRTlMJRS",
        "outputId": "0b051994-e2f6-4687-a345-faebea0e83e8"
      },
      "execution_count": null,
      "outputs": [
        {
          "output_type": "stream",
          "name": "stdout",
          "text": [
            "10/10 [==============================] - 3s 22ms/step - root_mean_squared_error: 0.7398 - loss: 0.5500 - regularization_loss: 0.0000e+00 - total_loss: 0.5500\n"
          ]
        },
        {
          "output_type": "execute_result",
          "data": {
            "text/plain": [
              "{'root_mean_squared_error': 0.7398211359977722,\n",
              " 'loss': 0.5707481503486633,\n",
              " 'regularization_loss': 0,\n",
              " 'total_loss': 0.5707481503486633}"
            ]
          },
          "metadata": {},
          "execution_count": 26
        }
      ]
    },
    {
      "cell_type": "code",
      "source": [
        "test_ratings = {}\n",
        "test_movie_titles = [\"zulu+dawn+1979\", \"the+little+mermaid+1989\", \"shrek+2+2004\"]\n",
        "for movie_title in test_movie_titles:\n",
        "  test_ratings[movie_title] = model_2({\n",
        "      \"user_id\": np.array([\"42\"]),\n",
        "      \"movie_title\": np.array([movie_title])\n",
        "  })\n",
        "\n",
        "print(\"Ratings:\")\n",
        "for title, score in sorted(test_ratings.items(), key=lambda x: x[1], reverse=True):\n",
        "  print(f\"{title}: {score}\")"
      ],
      "metadata": {
        "colab": {
          "base_uri": "https://localhost:8080/"
        },
        "id": "gy5xJZKzDqfM",
        "outputId": "524bf669-7167-4ef9-8b89-7d4733aa6773"
      },
      "execution_count": null,
      "outputs": [
        {
          "output_type": "stream",
          "name": "stdout",
          "text": [
            "Ratings:\n",
            "zulu+dawn+1979: [[3.7354789]]\n",
            "shrek+2+2004: [[3.716161]]\n",
            "the+little+mermaid+1989: [[3.71266]]\n"
          ]
        }
      ]
    },
    {
      "cell_type": "code",
      "source": [
        "# Save the index.\n",
        "tf.saved_model.save(model_2, '/content/gdrive/MyDrive/COMP_585_share/modeltf_rank')"
      ],
      "metadata": {
        "colab": {
          "base_uri": "https://localhost:8080/"
        },
        "id": "z9lp5kDe_7RC",
        "outputId": "58797cd5-9995-4751-cc8b-ec2d382ed2aa"
      },
      "execution_count": null,
      "outputs": [
        {
          "output_type": "stream",
          "name": "stderr",
          "text": [
            "WARNING:absl:Found untraced functions such as ranking_layer_call_fn, ranking_layer_call_and_return_conditional_losses while saving (showing 2 of 2). These functions will not be directly callable after loading.\n"
          ]
        }
      ]
    },
    {
      "cell_type": "markdown",
      "source": [
        "# Using the 2 steps (Retrieval -> Ranking)"
      ],
      "metadata": {
        "id": "bo1JlE4dk0Ge"
      }
    },
    {
      "cell_type": "code",
      "source": [
        "# Load it back; can also be done in TensorFlow Serving.\n",
        "loaded_retrieval = tf.saved_model.load('/content/gdrive/MyDrive/COMP_585_share/modeltf')\n",
        "\n",
        "# Pass a user id in, get top predicted movie titles back.\n",
        "scores, titles = loaded_retrieval([\"42\"])\n",
        "\n",
        "print(f\"Recommendations: {titles[0][:]}\")"
      ],
      "metadata": {
        "id": "mchA3p6TljXe"
      },
      "execution_count": null,
      "outputs": []
    },
    {
      "cell_type": "code",
      "source": [
        "# Load it back; can also be done in TensorFlow Serving.\n",
        "loaded_rank = tf.saved_model.load('/content/gdrive/MyDrive/COMP_585_share/modeltf_rank')"
      ],
      "metadata": {
        "id": "cJMSaHtyl1RQ"
      },
      "execution_count": null,
      "outputs": []
    },
    {
      "cell_type": "code",
      "source": [
        "pred_ratings = np.zeros((100,))\n",
        "\n",
        "for i in range(100):\n",
        "  # Pass a user id in, movie id and perform predictions:\n",
        "  pred_ratings[i] = loaded_rank({\"user_id\": np.array([\"42\"]), \"movie_title\":[titles[0][i].numpy()]}).numpy()[0][0]\n",
        "\n",
        "order = np.argsort(-pred_ratings)[0:20]\n"
      ],
      "metadata": {
        "id": "BElrESjFnCqv"
      },
      "execution_count": null,
      "outputs": []
    },
    {
      "cell_type": "code",
      "source": [
        "pred_movies = titles[0].numpy()[list(order)]\n",
        "pred_movies"
      ],
      "metadata": {
        "colab": {
          "base_uri": "https://localhost:8080/"
        },
        "id": "vz2tT6xutavR",
        "outputId": "97b5e83c-383f-4017-9fca-344a49a9e7ab"
      },
      "execution_count": null,
      "outputs": [
        {
          "data": {
            "text/plain": [
              "array([b'interstellar+2014', b'raiders+of+the+lost+ark+1981',\n",
              "       b'harry+potter+and+the+deathly+hallows+part+2+2011',\n",
              "       b'the+lord+of+the+rings+the+two+towers+2002',\n",
              "       b'the+godfather+1972', b'the+jungle+book+1967',\n",
              "       b'the+dark+knight+2008', b'blade+runner+1982',\n",
              "       b'the+dark+knight+rises+2012', b'forrest+gump+1994',\n",
              "       b'the+lord+of+the+rings+the+return+of+the+king+2003',\n",
              "       b'winchester+73+1950', b'a+grand+day+out+1990', b'up+2009',\n",
              "       b'the+fifth+element+1997', b'forbidden+planet+1956',\n",
              "       b'pirates+of+the+caribbean+the+curse+of+the+black+pearl+2003',\n",
              "       b'the+terminator+1984',\n",
              "       b'harry+potter+and+the+prisoner+of+azkaban+2004', b'aliens+1986'],\n",
              "      dtype=object)"
            ]
          },
          "execution_count": 32,
          "metadata": {},
          "output_type": "execute_result"
        },
        {
          "output_type": "execute_result",
          "data": {
            "text/plain": [
              "array([b'interstellar+2014', b'raiders+of+the+lost+ark+1981',\n",
              "       b'harry+potter+and+the+deathly+hallows+part+2+2011',\n",
              "       b'the+lord+of+the+rings+the+two+towers+2002',\n",
              "       b'the+godfather+1972', b'the+jungle+book+1967',\n",
              "       b'the+dark+knight+2008', b'blade+runner+1982',\n",
              "       b'the+dark+knight+rises+2012', b'forrest+gump+1994',\n",
              "       b'the+lord+of+the+rings+the+return+of+the+king+2003',\n",
              "       b'winchester+73+1950', b'a+grand+day+out+1990', b'up+2009',\n",
              "       b'the+fifth+element+1997', b'forbidden+planet+1956',\n",
              "       b'pirates+of+the+caribbean+the+curse+of+the+black+pearl+2003',\n",
              "       b'the+terminator+1984',\n",
              "       b'harry+potter+and+the+prisoner+of+azkaban+2004', b'aliens+1986'],\n",
              "      dtype=object)"
            ]
          },
          "metadata": {},
          "execution_count": 32
        }
      ]
    }
  ]
}