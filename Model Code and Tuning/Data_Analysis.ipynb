{
  "nbformat": 4,
  "nbformat_minor": 0,
  "metadata": {
    "colab": {
      "provenance": []
    },
    "kernelspec": {
      "name": "python3",
      "display_name": "Python 3"
    },
    "language_info": {
      "name": "python"
    }
  },
  "cells": [
    {
      "cell_type": "code",
      "execution_count": 1,
      "metadata": {
        "colab": {
          "base_uri": "https://localhost:8080/"
        },
        "id": "HkS6SfdSaGbV",
        "outputId": "53cbefc5-682e-4d21-d77b-45317bb8e759"
      },
      "outputs": [
        {
          "output_type": "stream",
          "name": "stdout",
          "text": [
            "\u001b[?25l\r\u001b[K     |███▊                            | 10 kB 16.7 MB/s eta 0:00:01\r\u001b[K     |███████▍                        | 20 kB 3.2 MB/s eta 0:00:01\r\u001b[K     |███████████                     | 30 kB 4.6 MB/s eta 0:00:01\r\u001b[K     |██████████████▊                 | 40 kB 4.2 MB/s eta 0:00:01\r\u001b[K     |██████████████████▍             | 51 kB 4.5 MB/s eta 0:00:01\r\u001b[K     |██████████████████████          | 61 kB 5.3 MB/s eta 0:00:01\r\u001b[K     |█████████████████████████▊      | 71 kB 5.4 MB/s eta 0:00:01\r\u001b[K     |█████████████████████████████▍  | 81 kB 6.0 MB/s eta 0:00:01\r\u001b[K     |████████████████████████████████| 89 kB 2.2 MB/s \n",
            "\u001b[?25h"
          ]
        }
      ],
      "source": [
        "!pip install -q tensorflow-recommenders"
      ]
    },
    {
      "cell_type": "code",
      "source": [
        "import tensorflow as tf\n",
        "print(tf.__version__)"
      ],
      "metadata": {
        "colab": {
          "base_uri": "https://localhost:8080/"
        },
        "id": "TcCTt9gvaJ9C",
        "outputId": "d63232bb-142d-4058-e9e9-c50f156b1648"
      },
      "execution_count": 2,
      "outputs": [
        {
          "output_type": "stream",
          "name": "stdout",
          "text": [
            "2.9.2\n"
          ]
        }
      ]
    },
    {
      "cell_type": "code",
      "source": [
        "import os\n",
        "import pprint\n",
        "import tempfile\n",
        "\n",
        "from typing import Dict, Text\n",
        "\n",
        "import numpy as np\n",
        "import tensorflow as tf\n",
        "import tensorflow_datasets as tfds\n",
        "\n",
        "import tensorflow_recommenders as tfrs\n",
        "import pandas as pd\n",
        "import sys\n",
        "from datetime import datetime"
      ],
      "metadata": {
        "id": "oiH7fwbFaLrp"
      },
      "execution_count": 3,
      "outputs": []
    },
    {
      "cell_type": "code",
      "source": [
        "if 'google.colab' in str(get_ipython()):\n",
        "\n",
        "  # To run in Gogogle Colab\n",
        "\n",
        "  #@title Mount your Google Drive\n",
        "\n",
        "  %matplotlib inline\n",
        "  %load_ext autoreload\n",
        "  %autoreload 2\n",
        "\n",
        "  from google.colab import drive\n",
        "  #drive.mount('/content/gdrive')\n",
        "  drive.mount(\"/content/gdrive\", force_remount=True)\n",
        "\n",
        "  folder = \"/content/drive/MyDrive/585_project\" #@param {type:\"string\"}\n",
        "  !ln -Ts $folder /content/IFT6759 2> /dev/null\n",
        "\n",
        "  # Add the assignment folder to Python path\n",
        "  if '/content/COMP585' not in sys.path:\n",
        "      sys.path.insert(0, '/content/COMP585')"
      ],
      "metadata": {
        "colab": {
          "base_uri": "https://localhost:8080/"
        },
        "id": "6BKdI3K3akeD",
        "outputId": "7abe918a-35ef-402b-fc9f-d556a4b25694"
      },
      "execution_count": 4,
      "outputs": [
        {
          "output_type": "stream",
          "name": "stdout",
          "text": [
            "Mounted at /content/gdrive\n"
          ]
        }
      ]
    },
    {
      "cell_type": "code",
      "source": [
        "users = pd.read_csv('/content/gdrive/MyDrive/585_project/user_data.csv', sep=';')"
      ],
      "metadata": {
        "id": "au8xhaZ2ae-D"
      },
      "execution_count": 39,
      "outputs": []
    },
    {
      "cell_type": "code",
      "source": [
        "users['gender'].value_counts()"
      ],
      "metadata": {
        "colab": {
          "base_uri": "https://localhost:8080/"
        },
        "id": "9bNowWPHa_t_",
        "outputId": "74df6d6e-454b-4752-ebdf-2361dc2ce9e5"
      },
      "execution_count": 6,
      "outputs": [
        {
          "output_type": "execute_result",
          "data": {
            "text/plain": [
              "M    829960\n",
              "F    170040\n",
              "Name: gender, dtype: int64"
            ]
          },
          "metadata": {},
          "execution_count": 6
        }
      ]
    },
    {
      "cell_type": "code",
      "source": [
        "users['gender'].value_counts().plot(kind='bar')"
      ],
      "metadata": {
        "colab": {
          "base_uri": "https://localhost:8080/",
          "height": 281
        },
        "id": "wJ8nmDXnasV_",
        "outputId": "8e9078d5-7fe1-4324-c3d9-c5ffb350c650"
      },
      "execution_count": 7,
      "outputs": [
        {
          "output_type": "execute_result",
          "data": {
            "text/plain": [
              "<matplotlib.axes._subplots.AxesSubplot at 0x7fcea116c340>"
            ]
          },
          "metadata": {},
          "execution_count": 7
        },
        {
          "output_type": "display_data",
          "data": {
            "text/plain": [
              "<Figure size 432x288 with 1 Axes>"
            ],
            "image/png": "[encoded data removed]"
          },
          "metadata": {
            "needs_background": "light"
          }
        }
      ]
    },
    {
      "cell_type": "code",
      "source": [
        "users['gender'].value_counts(normalize=True)"
      ],
      "metadata": {
        "colab": {
          "base_uri": "https://localhost:8080/"
        },
        "id": "z4p7LBjubwTh",
        "outputId": "699c22d1-f6f2-4de7-f82d-575991f6c4bd"
      },
      "execution_count": 8,
      "outputs": [
        {
          "output_type": "execute_result",
          "data": {
            "text/plain": [
              "M    0.82996\n",
              "F    0.17004\n",
              "Name: gender, dtype: float64"
            ]
          },
          "metadata": {},
          "execution_count": 8
        }
      ]
    },
    {
      "cell_type": "code",
      "source": [
        "users['gender'].value_counts(normalize=True).plot(kind='bar')"
      ],
      "metadata": {
        "colab": {
          "base_uri": "https://localhost:8080/",
          "height": 281
        },
        "id": "JlsKnsMwbzKT",
        "outputId": "f3f87399-13dc-4a27-fb32-858581c893a0"
      },
      "execution_count": 9,
      "outputs": [
        {
          "output_type": "execute_result",
          "data": {
            "text/plain": [
              "<matplotlib.axes._subplots.AxesSubplot at 0x7fcea10d3d00>"
            ]
          },
          "metadata": {},
          "execution_count": 9
        },
        {
          "output_type": "display_data",
          "data": {
            "text/plain": [
              "<Figure size 432x288 with 1 Axes>"
            ],
            "image/png": "[encoded data removed]"
          },
          "metadata": {
            "needs_background": "light"
          }
        }
      ]
    },
    {
      "cell_type": "code",
      "source": [
        "candidates = pd.read_csv('/content/gdrive/MyDrive/585_project/candidates.csv', sep=',')"
      ],
      "metadata": {
        "id": "H7mAMtZrDARi"
      },
      "execution_count": 11,
      "outputs": []
    },
    {
      "cell_type": "code",
      "source": [
        "candidates"
      ],
      "metadata": {
        "colab": {
          "base_uri": "https://localhost:8080/",
          "height": 505
        },
        "id": "V4JREaFiDP_8",
        "outputId": "3a712f50-8cf7-4a7b-99a0-92e567197911"
      },
      "execution_count": 12,
      "outputs": [
        {
          "output_type": "execute_result",
          "data": {
            "text/plain": [
              "       Unnamed: 0                                   movieID  length_binned  \\\n",
              "0               5                      +nous+la+libert+1931            2.0   \n",
              "1               7             ...and+god+created+woman+1956            2.0   \n",
              "2               8               ...and+justice+for+all+1979            2.0   \n",
              "3              18                     10+items+or+less+2006            1.0   \n",
              "4              22                  10+rillington+place+1971            2.0   \n",
              "...           ...                                       ...            ...   \n",
              "10099       25495                      zorba+the+greek+1964            3.0   \n",
              "10100       25497                                zorro+1975            3.0   \n",
              "10101       25501  zu+warriors+from+the+magic+mountain+1983            2.0   \n",
              "10102       25502                                 zulu+1964            3.0   \n",
              "10103       25503                                 zulu+2013            2.0   \n",
              "\n",
              "       year_binned  vote_average  popularity original_language  Comedy  \\\n",
              "0                1           7.4    1.209032                fr     1.0   \n",
              "1                1           6.2    3.282390                fr     0.0   \n",
              "2                2           7.1    6.291512                en     0.0   \n",
              "3                3           6.6    3.898236                en     1.0   \n",
              "4                2           6.9    2.999880                en     0.0   \n",
              "...            ...           ...         ...               ...     ...   \n",
              "10099            1           7.0    4.813635                el     0.0   \n",
              "10100            2           7.0    2.823599                fr     1.0   \n",
              "10101            2           6.6    1.401607                cn     1.0   \n",
              "10102            1           7.4   11.604242                en     0.0   \n",
              "10103            4           6.7    6.826661                en     0.0   \n",
              "\n",
              "       Mystery  Crime  ...  Adventure  War  Horror  Western  Fantasy  Family  \\\n",
              "0          0.0    0.0  ...        0.0  0.0     0.0      0.0      0.0     0.0   \n",
              "1          0.0    0.0  ...        0.0  0.0     0.0      0.0      0.0     0.0   \n",
              "2          1.0    1.0  ...        0.0  0.0     0.0      0.0      0.0     0.0   \n",
              "3          0.0    0.0  ...        0.0  0.0     0.0      0.0      0.0     0.0   \n",
              "4          0.0    1.0  ...        0.0  0.0     0.0      0.0      0.0     0.0   \n",
              "...        ...    ...  ...        ...  ...     ...      ...      ...     ...   \n",
              "10099      0.0    0.0  ...        1.0  0.0     0.0      0.0      0.0     0.0   \n",
              "10100      0.0    0.0  ...        1.0  0.0     0.0      1.0      0.0     0.0   \n",
              "10101      1.0    0.0  ...        0.0  0.0     0.0      0.0      1.0     0.0   \n",
              "10102      0.0    0.0  ...        0.0  1.0     0.0      0.0      0.0     0.0   \n",
              "10103      0.0    1.0  ...        0.0  0.0     0.0      0.0      0.0     0.0   \n",
              "\n",
              "       History  TV Movie  Music  Foreign  \n",
              "0          0.0       0.0    0.0      0.0  \n",
              "1          0.0       0.0    0.0      0.0  \n",
              "2          0.0       0.0    0.0      0.0  \n",
              "3          0.0       0.0    0.0      0.0  \n",
              "4          0.0       0.0    0.0      0.0  \n",
              "...        ...       ...    ...      ...  \n",
              "10099      0.0       0.0    0.0      0.0  \n",
              "10100      0.0       0.0    0.0      0.0  \n",
              "10101      0.0       0.0    0.0      0.0  \n",
              "10102      1.0       0.0    0.0      0.0  \n",
              "10103      0.0       0.0    0.0      0.0  \n",
              "\n",
              "[10104 rows x 27 columns]"
            ],
            "text/html": [
              "\n",
              "  <div id=\"df-f7137f0d-e8cc-4851-8e43-f1fe881cce2b\">\n",
              "    <div class=\"colab-df-container\">\n",
              "      <div>\n",
              "<style scoped>\n",
              "    .dataframe tbody tr th:only-of-type {\n",
              "        vertical-align: middle;\n",
              "    }\n",
              "\n",
              "    .dataframe tbody tr th {\n",
              "        vertical-align: top;\n",
              "    }\n",
              "\n",
              "    .dataframe thead th {\n",
              "        text-align: right;\n",
              "    }\n",
              "</style>\n",
              "<table border=\"1\" class=\"dataframe\">\n",
              "  <thead>\n",
              "    <tr style=\"text-align: right;\">\n",
              "      <th></th>\n",
              "      <th>Unnamed: 0</th>\n",
              "      <th>movieID</th>\n",
              "      <th>length_binned</th>\n",
              "      <th>year_binned</th>\n",
              "      <th>vote_average</th>\n",
              "      <th>popularity</th>\n",
              "      <th>original_language</th>\n",
              "      <th>Comedy</th>\n",
              "      <th>Mystery</th>\n",
              "      <th>Crime</th>\n",
              "      <th>...</th>\n",
              "      <th>Adventure</th>\n",
              "      <th>War</th>\n",
              "      <th>Horror</th>\n",
              "      <th>Western</th>\n",
              "      <th>Fantasy</th>\n",
              "      <th>Family</th>\n",
              "      <th>History</th>\n",
              "      <th>TV Movie</th>\n",
              "      <th>Music</th>\n",
              "      <th>Foreign</th>\n",
              "    </tr>\n",
              "  </thead>\n",
              "  <tbody>\n",
              "    <tr>\n",
              "      <th>0</th>\n",
              "      <td>5</td>\n",
              "      <td>+nous+la+libert+1931</td>\n",
              "      <td>2.0</td>\n",
              "      <td>1</td>\n",
              "      <td>7.4</td>\n",
              "      <td>1.209032</td>\n",
              "      <td>fr</td>\n",
              "      <td>1.0</td>\n",
              "      <td>0.0</td>\n",
              "      <td>0.0</td>\n",
              "      <td>...</td>\n",
              "      <td>0.0</td>\n",
              "      <td>0.0</td>\n",
              "      <td>0.0</td>\n",
              "      <td>0.0</td>\n",
              "      <td>0.0</td>\n",
              "      <td>0.0</td>\n",
              "      <td>0.0</td>\n",
              "      <td>0.0</td>\n",
              "      <td>0.0</td>\n",
              "      <td>0.0</td>\n",
              "    </tr>\n",
              "    <tr>\n",
              "      <th>1</th>\n",
              "      <td>7</td>\n",
              "      <td>...and+god+created+woman+1956</td>\n",
              "      <td>2.0</td>\n",
              "      <td>1</td>\n",
              "      <td>6.2</td>\n",
              "      <td>3.282390</td>\n",
              "      <td>fr</td>\n",
              "      <td>0.0</td>\n",
              "      <td>0.0</td>\n",
              "      <td>0.0</td>\n",
              "      <td>...</td>\n",
              "      <td>0.0</td>\n",
              "      <td>0.0</td>\n",
              "      <td>0.0</td>\n",
              "      <td>0.0</td>\n",
              "      <td>0.0</td>\n",
              "      <td>0.0</td>\n",
              "      <td>0.0</td>\n",
              "      <td>0.0</td>\n",
              "      <td>0.0</td>\n",
              "      <td>0.0</td>\n",
              "    </tr>\n",
              "    <tr>\n",
              "      <th>2</th>\n",
              "      <td>8</td>\n",
              "      <td>...and+justice+for+all+1979</td>\n",
              "      <td>2.0</td>\n",
              "      <td>2</td>\n",
              "      <td>7.1</td>\n",
              "      <td>6.291512</td>\n",
              "      <td>en</td>\n",
              "      <td>0.0</td>\n",
              "      <td>1.0</td>\n",
              "      <td>1.0</td>\n",
              "      <td>...</td>\n",
              "      <td>0.0</td>\n",
              "      <td>0.0</td>\n",
              "      <td>0.0</td>\n",
              "      <td>0.0</td>\n",
              "      <td>0.0</td>\n",
              "      <td>0.0</td>\n",
              "      <td>0.0</td>\n",
              "      <td>0.0</td>\n",
              "      <td>0.0</td>\n",
              "      <td>0.0</td>\n",
              "    </tr>\n",
              "    <tr>\n",
              "      <th>3</th>\n",
              "      <td>18</td>\n",
              "      <td>10+items+or+less+2006</td>\n",
              "      <td>1.0</td>\n",
              "      <td>3</td>\n",
              "      <td>6.6</td>\n",
              "      <td>3.898236</td>\n",
              "      <td>en</td>\n",
              "      <td>1.0</td>\n",
              "      <td>0.0</td>\n",
              "      <td>0.0</td>\n",
              "      <td>...</td>\n",
              "      <td>0.0</td>\n",
              "      <td>0.0</td>\n",
              "      <td>0.0</td>\n",
              "      <td>0.0</td>\n",
              "      <td>0.0</td>\n",
              "      <td>0.0</td>\n",
              "      <td>0.0</td>\n",
              "      <td>0.0</td>\n",
              "      <td>0.0</td>\n",
              "      <td>0.0</td>\n",
              "    </tr>\n",
              "    <tr>\n",
              "      <th>4</th>\n",
              "      <td>22</td>\n",
              "      <td>10+rillington+place+1971</td>\n",
              "      <td>2.0</td>\n",
              "      <td>2</td>\n",
              "      <td>6.9</td>\n",
              "      <td>2.999880</td>\n",
              "      <td>en</td>\n",
              "      <td>0.0</td>\n",
              "      <td>0.0</td>\n",
              "      <td>1.0</td>\n",
              "      <td>...</td>\n",
              "      <td>0.0</td>\n",
              "      <td>0.0</td>\n",
              "      <td>0.0</td>\n",
              "      <td>0.0</td>\n",
              "      <td>0.0</td>\n",
              "      <td>0.0</td>\n",
              "      <td>0.0</td>\n",
              "      <td>0.0</td>\n",
              "      <td>0.0</td>\n",
              "      <td>0.0</td>\n",
              "    </tr>\n",
              "    <tr>\n",
              "      <th>...</th>\n",
              "      <td>...</td>\n",
              "      <td>...</td>\n",
              "      <td>...</td>\n",
              "      <td>...</td>\n",
              "      <td>...</td>\n",
              "      <td>...</td>\n",
              "      <td>...</td>\n",
              "      <td>...</td>\n",
              "      <td>...</td>\n",
              "      <td>...</td>\n",
              "      <td>...</td>\n",
              "      <td>...</td>\n",
              "      <td>...</td>\n",
              "      <td>...</td>\n",
              "      <td>...</td>\n",
              "      <td>...</td>\n",
              "      <td>...</td>\n",
              "      <td>...</td>\n",
              "      <td>...</td>\n",
              "      <td>...</td>\n",
              "      <td>...</td>\n",
              "    </tr>\n",
              "    <tr>\n",
              "      <th>10099</th>\n",
              "      <td>25495</td>\n",
              "      <td>zorba+the+greek+1964</td>\n",
              "      <td>3.0</td>\n",
              "      <td>1</td>\n",
              "      <td>7.0</td>\n",
              "      <td>4.813635</td>\n",
              "      <td>el</td>\n",
              "      <td>0.0</td>\n",
              "      <td>0.0</td>\n",
              "      <td>0.0</td>\n",
              "      <td>...</td>\n",
              "      <td>1.0</td>\n",
              "      <td>0.0</td>\n",
              "      <td>0.0</td>\n",
              "      <td>0.0</td>\n",
              "      <td>0.0</td>\n",
              "      <td>0.0</td>\n",
              "      <td>0.0</td>\n",
              "      <td>0.0</td>\n",
              "      <td>0.0</td>\n",
              "      <td>0.0</td>\n",
              "    </tr>\n",
              "    <tr>\n",
              "      <th>10100</th>\n",
              "      <td>25497</td>\n",
              "      <td>zorro+1975</td>\n",
              "      <td>3.0</td>\n",
              "      <td>2</td>\n",
              "      <td>7.0</td>\n",
              "      <td>2.823599</td>\n",
              "      <td>fr</td>\n",
              "      <td>1.0</td>\n",
              "      <td>0.0</td>\n",
              "      <td>0.0</td>\n",
              "      <td>...</td>\n",
              "      <td>1.0</td>\n",
              "      <td>0.0</td>\n",
              "      <td>0.0</td>\n",
              "      <td>1.0</td>\n",
              "      <td>0.0</td>\n",
              "      <td>0.0</td>\n",
              "      <td>0.0</td>\n",
              "      <td>0.0</td>\n",
              "      <td>0.0</td>\n",
              "      <td>0.0</td>\n",
              "    </tr>\n",
              "    <tr>\n",
              "      <th>10101</th>\n",
              "      <td>25501</td>\n",
              "      <td>zu+warriors+from+the+magic+mountain+1983</td>\n",
              "      <td>2.0</td>\n",
              "      <td>2</td>\n",
              "      <td>6.6</td>\n",
              "      <td>1.401607</td>\n",
              "      <td>cn</td>\n",
              "      <td>1.0</td>\n",
              "      <td>1.0</td>\n",
              "      <td>0.0</td>\n",
              "      <td>...</td>\n",
              "      <td>0.0</td>\n",
              "      <td>0.0</td>\n",
              "      <td>0.0</td>\n",
              "      <td>0.0</td>\n",
              "      <td>1.0</td>\n",
              "      <td>0.0</td>\n",
              "      <td>0.0</td>\n",
              "      <td>0.0</td>\n",
              "      <td>0.0</td>\n",
              "      <td>0.0</td>\n",
              "    </tr>\n",
              "    <tr>\n",
              "      <th>10102</th>\n",
              "      <td>25502</td>\n",
              "      <td>zulu+1964</td>\n",
              "      <td>3.0</td>\n",
              "      <td>1</td>\n",
              "      <td>7.4</td>\n",
              "      <td>11.604242</td>\n",
              "      <td>en</td>\n",
              "      <td>0.0</td>\n",
              "      <td>0.0</td>\n",
              "      <td>0.0</td>\n",
              "      <td>...</td>\n",
              "      <td>0.0</td>\n",
              "      <td>1.0</td>\n",
              "      <td>0.0</td>\n",
              "      <td>0.0</td>\n",
              "      <td>0.0</td>\n",
              "      <td>0.0</td>\n",
              "      <td>1.0</td>\n",
              "      <td>0.0</td>\n",
              "      <td>0.0</td>\n",
              "      <td>0.0</td>\n",
              "    </tr>\n",
              "    <tr>\n",
              "      <th>10103</th>\n",
              "      <td>25503</td>\n",
              "      <td>zulu+2013</td>\n",
              "      <td>2.0</td>\n",
              "      <td>4</td>\n",
              "      <td>6.7</td>\n",
              "      <td>6.826661</td>\n",
              "      <td>en</td>\n",
              "      <td>0.0</td>\n",
              "      <td>0.0</td>\n",
              "      <td>1.0</td>\n",
              "      <td>...</td>\n",
              "      <td>0.0</td>\n",
              "      <td>0.0</td>\n",
              "      <td>0.0</td>\n",
              "      <td>0.0</td>\n",
              "      <td>0.0</td>\n",
              "      <td>0.0</td>\n",
              "      <td>0.0</td>\n",
              "      <td>0.0</td>\n",
              "      <td>0.0</td>\n",
              "      <td>0.0</td>\n",
              "    </tr>\n",
              "  </tbody>\n",
              "</table>\n",
              "<p>10104 rows × 27 columns</p>\n",
              "</div>\n",
              "      <button class=\"colab-df-convert\" onclick=\"convertToInteractive('df-f7137f0d-e8cc-4851-8e43-f1fe881cce2b')\"\n",
              "              title=\"Convert this dataframe to an interactive table.\"\n",
              "              style=\"display:none;\">\n",
              "        \n",
              "  <svg xmlns=\"http://www.w3.org/2000/svg\" height=\"24px\"viewBox=\"0 0 24 24\"\n",
              "       width=\"24px\">\n",
              "    <path d=\"M0 0h24v24H0V0z\" fill=\"none\"/>\n",
              "    <path d=\"M18.56 5.44l.94 2.06.94-2.06 2.06-.94-2.06-.94-.94-2.06-.94 2.06-2.06.94zm-11 1L8.5 8.5l.94-2.06 2.06-.94-2.06-.94L8.5 2.5l-.94 2.06-2.06.94zm10 10l.94 2.06.94-2.06 2.06-.94-2.06-.94-.94-2.06-.94 2.06-2.06.94z\"/><path d=\"M17.41 7.96l-1.37-1.37c-.4-.4-.92-.59-1.43-.59-.52 0-1.04.2-1.43.59L10.3 9.45l-7.72 7.72c-.78.78-.78 2.05 0 2.83L4 21.41c.39.39.9.59 1.41.59.51 0 1.02-.2 1.41-.59l7.78-7.78 2.81-2.81c.8-.78.8-2.07 0-2.86zM5.41 20L4 18.59l7.72-7.72 1.47 1.35L5.41 20z\"/>\n",
              "  </svg>\n",
              "      </button>\n",
              "      \n",
              "  <style>\n",
              "    .colab-df-container {\n",
              "      display:flex;\n",
              "      flex-wrap:wrap;\n",
              "      gap: 12px;\n",
              "    }\n",
              "\n",
              "    .colab-df-convert {\n",
              "      background-color: #E8F0FE;\n",
              "      border: none;\n",
              "      border-radius: 50%;\n",
              "      cursor: pointer;\n",
              "      display: none;\n",
              "      fill: #1967D2;\n",
              "      height: 32px;\n",
              "      padding: 0 0 0 0;\n",
              "      width: 32px;\n",
              "    }\n",
              "\n",
              "    .colab-df-convert:hover {\n",
              "      background-color: #E2EBFA;\n",
              "      box-shadow: 0px 1px 2px rgba(60, 64, 67, 0.3), 0px 1px 3px 1px rgba(60, 64, 67, 0.15);\n",
              "      fill: #174EA6;\n",
              "    }\n",
              "\n",
              "    [theme=dark] .colab-df-convert {\n",
              "      background-color: #3B4455;\n",
              "      fill: #D2E3FC;\n",
              "    }\n",
              "\n",
              "    [theme=dark] .colab-df-convert:hover {\n",
              "      background-color: #434B5C;\n",
              "      box-shadow: 0px 1px 3px 1px rgba(0, 0, 0, 0.15);\n",
              "      filter: drop-shadow(0px 1px 2px rgba(0, 0, 0, 0.3));\n",
              "      fill: #FFFFFF;\n",
              "    }\n",
              "  </style>\n",
              "\n",
              "      <script>\n",
              "        const buttonEl =\n",
              "          document.querySelector('#df-f7137f0d-e8cc-4851-8e43-f1fe881cce2b button.colab-df-convert');\n",
              "        buttonEl.style.display =\n",
              "          google.colab.kernel.accessAllowed ? 'block' : 'none';\n",
              "\n",
              "        async function convertToInteractive(key) {\n",
              "          const element = document.querySelector('#df-f7137f0d-e8cc-4851-8e43-f1fe881cce2b');\n",
              "          const dataTable =\n",
              "            await google.colab.kernel.invokeFunction('convertToInteractive',\n",
              "                                                     [key], {});\n",
              "          if (!dataTable) return;\n",
              "\n",
              "          const docLinkHtml = 'Like what you see? Visit the ' +\n",
              "            '<a target=\"_blank\" href=https://colab.research.google.com/notebooks/data_table.ipynb>data table notebook</a>'\n",
              "            + ' to learn more about interactive tables.';\n",
              "          element.innerHTML = '';\n",
              "          dataTable['output_type'] = 'display_data';\n",
              "          await google.colab.output.renderOutput(dataTable, element);\n",
              "          const docLink = document.createElement('div');\n",
              "          docLink.innerHTML = docLinkHtml;\n",
              "          element.appendChild(docLink);\n",
              "        }\n",
              "      </script>\n",
              "    </div>\n",
              "  </div>\n",
              "  "
            ]
          },
          "metadata": {},
          "execution_count": 12
        }
      ]
    },
    {
      "cell_type": "code",
      "source": [
        "list1 = candidates.columns.values.tolist()"
      ],
      "metadata": {
        "id": "KRQCIQ81FQta"
      },
      "execution_count": 19,
      "outputs": []
    },
    {
      "cell_type": "code",
      "source": [
        "list2 = list1[7:]\n",
        "list2"
      ],
      "metadata": {
        "colab": {
          "base_uri": "https://localhost:8080/"
        },
        "id": "S3090Zs9F01q",
        "outputId": "82ccdebb-2466-4da8-ef98-0a0e35ba6481"
      },
      "execution_count": 22,
      "outputs": [
        {
          "output_type": "execute_result",
          "data": {
            "text/plain": [
              "['Comedy',\n",
              " 'Mystery',\n",
              " 'Crime',\n",
              " 'Drama',\n",
              " 'Romance',\n",
              " 'Documentary',\n",
              " 'Thriller',\n",
              " 'Action',\n",
              " 'Animation',\n",
              " 'Science Fiction',\n",
              " 'Adventure',\n",
              " 'War',\n",
              " 'Horror',\n",
              " 'Western',\n",
              " 'Fantasy',\n",
              " 'Family',\n",
              " 'History',\n",
              " 'TV Movie',\n",
              " 'Music',\n",
              " 'Foreign']"
            ]
          },
          "metadata": {},
          "execution_count": 22
        }
      ]
    },
    {
      "cell_type": "code",
      "source": [
        "for i in list2:\n",
        "  print(i, \":\" ,round(candidates[i].value_counts()[1]/10105,2))"
      ],
      "metadata": {
        "colab": {
          "base_uri": "https://localhost:8080/"
        },
        "id": "Xw31JXYoFCHL",
        "outputId": "f733d818-4f75-44f7-99b9-4e63af89c58e"
      },
      "execution_count": 49,
      "outputs": [
        {
          "output_type": "stream",
          "name": "stdout",
          "text": [
            "Comedy : 0.3\n",
            "Mystery : 0.07\n",
            "Crime : 0.15\n",
            "Drama : 0.6\n",
            "Romance : 0.19\n",
            "Documentary : 0.06\n",
            "Thriller : 0.19\n",
            "Action : 0.17\n",
            "Animation : 0.06\n",
            "Science Fiction : 0.07\n",
            "Adventure : 0.1\n",
            "War : 0.04\n",
            "Horror : 0.07\n",
            "Western : 0.02\n",
            "Fantasy : 0.06\n",
            "Family : 0.07\n",
            "History : 0.05\n",
            "TV Movie : 0.01\n",
            "Music : 0.04\n",
            "Foreign : 0.02\n"
          ]
        }
      ]
    },
    {
      "cell_type": "code",
      "source": [
        "j = []\n",
        "for i in list2:\n",
        "  j.append(candidates[i].value_counts()[1])"
      ],
      "metadata": {
        "id": "vNkl3nVoMg9g"
      },
      "execution_count": 29,
      "outputs": []
    },
    {
      "cell_type": "code",
      "source": [
        "j"
      ],
      "metadata": {
        "colab": {
          "base_uri": "https://localhost:8080/"
        },
        "id": "_QG7ppfbMn2S",
        "outputId": "570d8636-9c4b-46c8-9554-b34843e321a3"
      },
      "execution_count": 30,
      "outputs": [
        {
          "output_type": "execute_result",
          "data": {
            "text/plain": [
              "[3041,\n",
              " 723,\n",
              " 1472,\n",
              " 6064,\n",
              " 1915,\n",
              " 602,\n",
              " 1959,\n",
              " 1686,\n",
              " 581,\n",
              " 688,\n",
              " 1025,\n",
              " 444,\n",
              " 752,\n",
              " 246,\n",
              " 646,\n",
              " 676,\n",
              " 537,\n",
              " 73,\n",
              " 441,\n",
              " 194]"
            ]
          },
          "metadata": {},
          "execution_count": 30
        }
      ]
    },
    {
      "cell_type": "code",
      "source": [
        "import matplotlib.pyplot as plt\n",
        "fig = plt.figure()\n",
        "ax = fig.add_axes([0,0,3.5,1])\n",
        "ax.bar(list2,j)\n",
        "plt.show()"
      ],
      "metadata": {
        "colab": {
          "base_uri": "https://localhost:8080/",
          "height": 336
        },
        "id": "h0TnQsEQFUdm",
        "outputId": "efdcf4c5-5438-44cf-84ff-a0377a1bc4b7"
      },
      "execution_count": 37,
      "outputs": [
        {
          "output_type": "display_data",
          "data": {
            "text/plain": [
              "<Figure size 432x288 with 1 Axes>"
            ],
            "image/png": "[encoded data removed]"
          },
          "metadata": {
            "needs_background": "light"
          }
        }
      ]
    },
    {
      "cell_type": "code",
      "source": [
        "movies = pd.read_csv('/content/gdrive/MyDrive/585_project/data_movie.csv', sep=',')"
      ],
      "metadata": {
        "id": "V0CCYCz2Ns4N"
      },
      "execution_count": 41,
      "outputs": []
    },
    {
      "cell_type": "code",
      "source": [
        "movies = movies[['movieID','genres','length']]"
      ],
      "metadata": {
        "id": "QQC-zSGLOHoQ"
      },
      "execution_count": 42,
      "outputs": []
    },
    {
      "cell_type": "code",
      "source": [
        "movies['genres'] = movies.apply(lambda row : eval(row['genres']), axis = 1)"
      ],
      "metadata": {
        "id": "3FYLTfj3OKRi"
      },
      "execution_count": 43,
      "outputs": []
    },
    {
      "cell_type": "code",
      "source": [
        "movies['genres'] = movies['genres'].apply(lambda row : [d['name'] for d in row if 'id' in d])"
      ],
      "metadata": {
        "id": "nJ2c99Q0OQ6J"
      },
      "execution_count": 44,
      "outputs": []
    },
    {
      "cell_type": "code",
      "source": [
        "movies = pd.concat([\n",
        "        movies.drop(\"genres\", 1),\n",
        "        movies.genres.apply(lambda x: pd.Series(1, x)).fillna(0)\n",
        "    ], axis=1)"
      ],
      "metadata": {
        "colab": {
          "base_uri": "https://localhost:8080/"
        },
        "id": "JnuMnjLSOSW9",
        "outputId": "8f2ec95d-6b84-48e2-c1d3-ac46aa240976"
      },
      "execution_count": 46,
      "outputs": [
        {
          "output_type": "stream",
          "name": "stderr",
          "text": [
            "<ipython-input-46-033b6a001634>:2: FutureWarning: In a future version of pandas all arguments of DataFrame.drop except for the argument 'labels' will be keyword-only\n",
            "  movies.drop(\"genres\", 1),\n"
          ]
        }
      ]
    },
    {
      "cell_type": "code",
      "source": [
        "movies"
      ],
      "metadata": {
        "colab": {
          "base_uri": "https://localhost:8080/",
          "height": 424
        },
        "id": "WHOEymIGOXkJ",
        "outputId": "318ae751-5488-42a0-b46b-f55c1b00999d"
      },
      "execution_count": 47,
      "outputs": [
        {
          "output_type": "execute_result",
          "data": {
            "text/plain": [
              "                movieID  length  Comedy  Mystery  Crime  Drama  Romance  \\\n",
              "0            ++++++1959      98     1.0      0.0    0.0    0.0      0.0   \n",
              "1              ++++2013      90     0.0      1.0    1.0    1.0      0.0   \n",
              "2         +la+mode+1993      82     1.0      0.0    0.0    0.0      0.0   \n",
              "3       +laventure+2008     104     0.0      0.0    0.0    1.0      0.0   \n",
              "4      +nos+amours+1983     102     0.0      0.0    0.0    1.0      1.0   \n",
              "...                 ...     ...     ...      ...    ...    ...      ...   \n",
              "25502         zulu+1964     138     0.0      0.0    0.0    1.0      0.0   \n",
              "25503         zulu+2013     110     0.0      0.0    1.0    1.0      0.0   \n",
              "25504    zulu+dawn+1979     117     0.0      0.0    0.0    1.0      0.0   \n",
              "25505      zus++zo+2001     106     1.0      0.0    0.0    0.0      0.0   \n",
              "25506   zuzu+angel+2006     108     0.0      0.0    0.0    1.0      0.0   \n",
              "\n",
              "       Documentary  Thriller  Action  ...  Adventure  War  Horror  Western  \\\n",
              "0              0.0       0.0     0.0  ...        0.0  0.0     0.0      0.0   \n",
              "1              0.0       0.0     0.0  ...        0.0  0.0     0.0      0.0   \n",
              "2              0.0       0.0     0.0  ...        0.0  0.0     0.0      0.0   \n",
              "3              0.0       0.0     0.0  ...        0.0  0.0     0.0      0.0   \n",
              "4              0.0       0.0     0.0  ...        0.0  0.0     0.0      0.0   \n",
              "...            ...       ...     ...  ...        ...  ...     ...      ...   \n",
              "25502          0.0       0.0     1.0  ...        0.0  1.0     0.0      0.0   \n",
              "25503          0.0       1.0     0.0  ...        0.0  0.0     0.0      0.0   \n",
              "25504          0.0       0.0     0.0  ...        1.0  1.0     0.0      0.0   \n",
              "25505          0.0       0.0     0.0  ...        0.0  0.0     0.0      0.0   \n",
              "25506          0.0       0.0     0.0  ...        0.0  0.0     0.0      0.0   \n",
              "\n",
              "       Fantasy  Family  History  TV Movie  Music  Foreign  \n",
              "0          0.0     0.0      0.0       0.0    0.0      0.0  \n",
              "1          0.0     0.0      0.0       0.0    0.0      0.0  \n",
              "2          0.0     0.0      0.0       0.0    0.0      0.0  \n",
              "3          0.0     0.0      0.0       0.0    0.0      0.0  \n",
              "4          0.0     0.0      0.0       0.0    0.0      0.0  \n",
              "...        ...     ...      ...       ...    ...      ...  \n",
              "25502      0.0     0.0      1.0       0.0    0.0      0.0  \n",
              "25503      0.0     0.0      0.0       0.0    0.0      0.0  \n",
              "25504      0.0     0.0      1.0       0.0    0.0      0.0  \n",
              "25505      0.0     0.0      0.0       0.0    0.0      0.0  \n",
              "25506      0.0     0.0      0.0       0.0    0.0      0.0  \n",
              "\n",
              "[25507 rows x 22 columns]"
            ],
            "text/html": [
              "\n",
              "  <div id=\"df-3085a305-203e-45b2-a747-7d64f54c0b37\">\n",
              "    <div class=\"colab-df-container\">\n",
              "      <div>\n",
              "<style scoped>\n",
              "    .dataframe tbody tr th:only-of-type {\n",
              "        vertical-align: middle;\n",
              "    }\n",
              "\n",
              "    .dataframe tbody tr th {\n",
              "        vertical-align: top;\n",
              "    }\n",
              "\n",
              "    .dataframe thead th {\n",
              "        text-align: right;\n",
              "    }\n",
              "</style>\n",
              "<table border=\"1\" class=\"dataframe\">\n",
              "  <thead>\n",
              "    <tr style=\"text-align: right;\">\n",
              "      <th></th>\n",
              "      <th>movieID</th>\n",
              "      <th>length</th>\n",
              "      <th>Comedy</th>\n",
              "      <th>Mystery</th>\n",
              "      <th>Crime</th>\n",
              "      <th>Drama</th>\n",
              "      <th>Romance</th>\n",
              "      <th>Documentary</th>\n",
              "      <th>Thriller</th>\n",
              "      <th>Action</th>\n",
              "      <th>...</th>\n",
              "      <th>Adventure</th>\n",
              "      <th>War</th>\n",
              "      <th>Horror</th>\n",
              "      <th>Western</th>\n",
              "      <th>Fantasy</th>\n",
              "      <th>Family</th>\n",
              "      <th>History</th>\n",
              "      <th>TV Movie</th>\n",
              "      <th>Music</th>\n",
              "      <th>Foreign</th>\n",
              "    </tr>\n",
              "  </thead>\n",
              "  <tbody>\n",
              "    <tr>\n",
              "      <th>0</th>\n",
              "      <td>++++++1959</td>\n",
              "      <td>98</td>\n",
              "      <td>1.0</td>\n",
              "      <td>0.0</td>\n",
              "      <td>0.0</td>\n",
              "      <td>0.0</td>\n",
              "      <td>0.0</td>\n",
              "      <td>0.0</td>\n",
              "      <td>0.0</td>\n",
              "      <td>0.0</td>\n",
              "      <td>...</td>\n",
              "      <td>0.0</td>\n",
              "      <td>0.0</td>\n",
              "      <td>0.0</td>\n",
              "      <td>0.0</td>\n",
              "      <td>0.0</td>\n",
              "      <td>0.0</td>\n",
              "      <td>0.0</td>\n",
              "      <td>0.0</td>\n",
              "      <td>0.0</td>\n",
              "      <td>0.0</td>\n",
              "    </tr>\n",
              "    <tr>\n",
              "      <th>1</th>\n",
              "      <td>++++2013</td>\n",
              "      <td>90</td>\n",
              "      <td>0.0</td>\n",
              "      <td>1.0</td>\n",
              "      <td>1.0</td>\n",
              "      <td>1.0</td>\n",
              "      <td>0.0</td>\n",
              "      <td>0.0</td>\n",
              "      <td>0.0</td>\n",
              "      <td>0.0</td>\n",
              "      <td>...</td>\n",
              "      <td>0.0</td>\n",
              "      <td>0.0</td>\n",
              "      <td>0.0</td>\n",
              "      <td>0.0</td>\n",
              "      <td>0.0</td>\n",
              "      <td>0.0</td>\n",
              "      <td>0.0</td>\n",
              "      <td>0.0</td>\n",
              "      <td>0.0</td>\n",
              "      <td>0.0</td>\n",
              "    </tr>\n",
              "    <tr>\n",
              "      <th>2</th>\n",
              "      <td>+la+mode+1993</td>\n",
              "      <td>82</td>\n",
              "      <td>1.0</td>\n",
              "      <td>0.0</td>\n",
              "      <td>0.0</td>\n",
              "      <td>0.0</td>\n",
              "      <td>0.0</td>\n",
              "      <td>0.0</td>\n",
              "      <td>0.0</td>\n",
              "      <td>0.0</td>\n",
              "      <td>...</td>\n",
              "      <td>0.0</td>\n",
              "      <td>0.0</td>\n",
              "      <td>0.0</td>\n",
              "      <td>0.0</td>\n",
              "      <td>0.0</td>\n",
              "      <td>0.0</td>\n",
              "      <td>0.0</td>\n",
              "      <td>0.0</td>\n",
              "      <td>0.0</td>\n",
              "      <td>0.0</td>\n",
              "    </tr>\n",
              "    <tr>\n",
              "      <th>3</th>\n",
              "      <td>+laventure+2008</td>\n",
              "      <td>104</td>\n",
              "      <td>0.0</td>\n",
              "      <td>0.0</td>\n",
              "      <td>0.0</td>\n",
              "      <td>1.0</td>\n",
              "      <td>0.0</td>\n",
              "      <td>0.0</td>\n",
              "      <td>0.0</td>\n",
              "      <td>0.0</td>\n",
              "      <td>...</td>\n",
              "      <td>0.0</td>\n",
              "      <td>0.0</td>\n",
              "      <td>0.0</td>\n",
              "      <td>0.0</td>\n",
              "      <td>0.0</td>\n",
              "      <td>0.0</td>\n",
              "      <td>0.0</td>\n",
              "      <td>0.0</td>\n",
              "      <td>0.0</td>\n",
              "      <td>0.0</td>\n",
              "    </tr>\n",
              "    <tr>\n",
              "      <th>4</th>\n",
              "      <td>+nos+amours+1983</td>\n",
              "      <td>102</td>\n",
              "      <td>0.0</td>\n",
              "      <td>0.0</td>\n",
              "      <td>0.0</td>\n",
              "      <td>1.0</td>\n",
              "      <td>1.0</td>\n",
              "      <td>0.0</td>\n",
              "      <td>0.0</td>\n",
              "      <td>0.0</td>\n",
              "      <td>...</td>\n",
              "      <td>0.0</td>\n",
              "      <td>0.0</td>\n",
              "      <td>0.0</td>\n",
              "      <td>0.0</td>\n",
              "      <td>0.0</td>\n",
              "      <td>0.0</td>\n",
              "      <td>0.0</td>\n",
              "      <td>0.0</td>\n",
              "      <td>0.0</td>\n",
              "      <td>0.0</td>\n",
              "    </tr>\n",
              "    <tr>\n",
              "      <th>...</th>\n",
              "      <td>...</td>\n",
              "      <td>...</td>\n",
              "      <td>...</td>\n",
              "      <td>...</td>\n",
              "      <td>...</td>\n",
              "      <td>...</td>\n",
              "      <td>...</td>\n",
              "      <td>...</td>\n",
              "      <td>...</td>\n",
              "      <td>...</td>\n",
              "      <td>...</td>\n",
              "      <td>...</td>\n",
              "      <td>...</td>\n",
              "      <td>...</td>\n",
              "      <td>...</td>\n",
              "      <td>...</td>\n",
              "      <td>...</td>\n",
              "      <td>...</td>\n",
              "      <td>...</td>\n",
              "      <td>...</td>\n",
              "      <td>...</td>\n",
              "    </tr>\n",
              "    <tr>\n",
              "      <th>25502</th>\n",
              "      <td>zulu+1964</td>\n",
              "      <td>138</td>\n",
              "      <td>0.0</td>\n",
              "      <td>0.0</td>\n",
              "      <td>0.0</td>\n",
              "      <td>1.0</td>\n",
              "      <td>0.0</td>\n",
              "      <td>0.0</td>\n",
              "      <td>0.0</td>\n",
              "      <td>1.0</td>\n",
              "      <td>...</td>\n",
              "      <td>0.0</td>\n",
              "      <td>1.0</td>\n",
              "      <td>0.0</td>\n",
              "      <td>0.0</td>\n",
              "      <td>0.0</td>\n",
              "      <td>0.0</td>\n",
              "      <td>1.0</td>\n",
              "      <td>0.0</td>\n",
              "      <td>0.0</td>\n",
              "      <td>0.0</td>\n",
              "    </tr>\n",
              "    <tr>\n",
              "      <th>25503</th>\n",
              "      <td>zulu+2013</td>\n",
              "      <td>110</td>\n",
              "      <td>0.0</td>\n",
              "      <td>0.0</td>\n",
              "      <td>1.0</td>\n",
              "      <td>1.0</td>\n",
              "      <td>0.0</td>\n",
              "      <td>0.0</td>\n",
              "      <td>1.0</td>\n",
              "      <td>0.0</td>\n",
              "      <td>...</td>\n",
              "      <td>0.0</td>\n",
              "      <td>0.0</td>\n",
              "      <td>0.0</td>\n",
              "      <td>0.0</td>\n",
              "      <td>0.0</td>\n",
              "      <td>0.0</td>\n",
              "      <td>0.0</td>\n",
              "      <td>0.0</td>\n",
              "      <td>0.0</td>\n",
              "      <td>0.0</td>\n",
              "    </tr>\n",
              "    <tr>\n",
              "      <th>25504</th>\n",
              "      <td>zulu+dawn+1979</td>\n",
              "      <td>117</td>\n",
              "      <td>0.0</td>\n",
              "      <td>0.0</td>\n",
              "      <td>0.0</td>\n",
              "      <td>1.0</td>\n",
              "      <td>0.0</td>\n",
              "      <td>0.0</td>\n",
              "      <td>0.0</td>\n",
              "      <td>0.0</td>\n",
              "      <td>...</td>\n",
              "      <td>1.0</td>\n",
              "      <td>1.0</td>\n",
              "      <td>0.0</td>\n",
              "      <td>0.0</td>\n",
              "      <td>0.0</td>\n",
              "      <td>0.0</td>\n",
              "      <td>1.0</td>\n",
              "      <td>0.0</td>\n",
              "      <td>0.0</td>\n",
              "      <td>0.0</td>\n",
              "    </tr>\n",
              "    <tr>\n",
              "      <th>25505</th>\n",
              "      <td>zus++zo+2001</td>\n",
              "      <td>106</td>\n",
              "      <td>1.0</td>\n",
              "      <td>0.0</td>\n",
              "      <td>0.0</td>\n",
              "      <td>0.0</td>\n",
              "      <td>0.0</td>\n",
              "      <td>0.0</td>\n",
              "      <td>0.0</td>\n",
              "      <td>0.0</td>\n",
              "      <td>...</td>\n",
              "      <td>0.0</td>\n",
              "      <td>0.0</td>\n",
              "      <td>0.0</td>\n",
              "      <td>0.0</td>\n",
              "      <td>0.0</td>\n",
              "      <td>0.0</td>\n",
              "      <td>0.0</td>\n",
              "      <td>0.0</td>\n",
              "      <td>0.0</td>\n",
              "      <td>0.0</td>\n",
              "    </tr>\n",
              "    <tr>\n",
              "      <th>25506</th>\n",
              "      <td>zuzu+angel+2006</td>\n",
              "      <td>108</td>\n",
              "      <td>0.0</td>\n",
              "      <td>0.0</td>\n",
              "      <td>0.0</td>\n",
              "      <td>1.0</td>\n",
              "      <td>0.0</td>\n",
              "      <td>0.0</td>\n",
              "      <td>0.0</td>\n",
              "      <td>0.0</td>\n",
              "      <td>...</td>\n",
              "      <td>0.0</td>\n",
              "      <td>0.0</td>\n",
              "      <td>0.0</td>\n",
              "      <td>0.0</td>\n",
              "      <td>0.0</td>\n",
              "      <td>0.0</td>\n",
              "      <td>0.0</td>\n",
              "      <td>0.0</td>\n",
              "      <td>0.0</td>\n",
              "      <td>0.0</td>\n",
              "    </tr>\n",
              "  </tbody>\n",
              "</table>\n",
              "<p>25507 rows × 22 columns</p>\n",
              "</div>\n",
              "      <button class=\"colab-df-convert\" onclick=\"convertToInteractive('df-3085a305-203e-45b2-a747-7d64f54c0b37')\"\n",
              "              title=\"Convert this dataframe to an interactive table.\"\n",
              "              style=\"display:none;\">\n",
              "        \n",
              "  <svg xmlns=\"http://www.w3.org/2000/svg\" height=\"24px\"viewBox=\"0 0 24 24\"\n",
              "       width=\"24px\">\n",
              "    <path d=\"M0 0h24v24H0V0z\" fill=\"none\"/>\n",
              "    <path d=\"M18.56 5.44l.94 2.06.94-2.06 2.06-.94-2.06-.94-.94-2.06-.94 2.06-2.06.94zm-11 1L8.5 8.5l.94-2.06 2.06-.94-2.06-.94L8.5 2.5l-.94 2.06-2.06.94zm10 10l.94 2.06.94-2.06 2.06-.94-2.06-.94-.94-2.06-.94 2.06-2.06.94z\"/><path d=\"M17.41 7.96l-1.37-1.37c-.4-.4-.92-.59-1.43-.59-.52 0-1.04.2-1.43.59L10.3 9.45l-7.72 7.72c-.78.78-.78 2.05 0 2.83L4 21.41c.39.39.9.59 1.41.59.51 0 1.02-.2 1.41-.59l7.78-7.78 2.81-2.81c.8-.78.8-2.07 0-2.86zM5.41 20L4 18.59l7.72-7.72 1.47 1.35L5.41 20z\"/>\n",
              "  </svg>\n",
              "      </button>\n",
              "      \n",
              "  <style>\n",
              "    .colab-df-container {\n",
              "      display:flex;\n",
              "      flex-wrap:wrap;\n",
              "      gap: 12px;\n",
              "    }\n",
              "\n",
              "    .colab-df-convert {\n",
              "      background-color: #E8F0FE;\n",
              "      border: none;\n",
              "      border-radius: 50%;\n",
              "      cursor: pointer;\n",
              "      display: none;\n",
              "      fill: #1967D2;\n",
              "      height: 32px;\n",
              "      padding: 0 0 0 0;\n",
              "      width: 32px;\n",
              "    }\n",
              "\n",
              "    .colab-df-convert:hover {\n",
              "      background-color: #E2EBFA;\n",
              "      box-shadow: 0px 1px 2px rgba(60, 64, 67, 0.3), 0px 1px 3px 1px rgba(60, 64, 67, 0.15);\n",
              "      fill: #174EA6;\n",
              "    }\n",
              "\n",
              "    [theme=dark] .colab-df-convert {\n",
              "      background-color: #3B4455;\n",
              "      fill: #D2E3FC;\n",
              "    }\n",
              "\n",
              "    [theme=dark] .colab-df-convert:hover {\n",
              "      background-color: #434B5C;\n",
              "      box-shadow: 0px 1px 3px 1px rgba(0, 0, 0, 0.15);\n",
              "      filter: drop-shadow(0px 1px 2px rgba(0, 0, 0, 0.3));\n",
              "      fill: #FFFFFF;\n",
              "    }\n",
              "  </style>\n",
              "\n",
              "      <script>\n",
              "        const buttonEl =\n",
              "          document.querySelector('#df-3085a305-203e-45b2-a747-7d64f54c0b37 button.colab-df-convert');\n",
              "        buttonEl.style.display =\n",
              "          google.colab.kernel.accessAllowed ? 'block' : 'none';\n",
              "\n",
              "        async function convertToInteractive(key) {\n",
              "          const element = document.querySelector('#df-3085a305-203e-45b2-a747-7d64f54c0b37');\n",
              "          const dataTable =\n",
              "            await google.colab.kernel.invokeFunction('convertToInteractive',\n",
              "                                                     [key], {});\n",
              "          if (!dataTable) return;\n",
              "\n",
              "          const docLinkHtml = 'Like what you see? Visit the ' +\n",
              "            '<a target=\"_blank\" href=https://colab.research.google.com/notebooks/data_table.ipynb>data table notebook</a>'\n",
              "            + ' to learn more about interactive tables.';\n",
              "          element.innerHTML = '';\n",
              "          dataTable['output_type'] = 'display_data';\n",
              "          await google.colab.output.renderOutput(dataTable, element);\n",
              "          const docLink = document.createElement('div');\n",
              "          docLink.innerHTML = docLinkHtml;\n",
              "          element.appendChild(docLink);\n",
              "        }\n",
              "      </script>\n",
              "    </div>\n",
              "  </div>\n",
              "  "
            ]
          },
          "metadata": {},
          "execution_count": 47
        }
      ]
    },
    {
      "cell_type": "code",
      "source": [
        "for i in list2:\n",
        "  print(i, \":\" ,round(movies[i].value_counts()[1]/25508,2))"
      ],
      "metadata": {
        "colab": {
          "base_uri": "https://localhost:8080/"
        },
        "id": "mVP76qXiObme",
        "outputId": "f0975483-3ed8-41df-b75c-062329401e22"
      },
      "execution_count": 50,
      "outputs": [
        {
          "output_type": "stream",
          "name": "stdout",
          "text": [
            "Comedy : 0.3\n",
            "Mystery : 0.06\n",
            "Crime : 0.11\n",
            "Drama : 0.5\n",
            "Romance : 0.17\n",
            "Documentary : 0.08\n",
            "Thriller : 0.18\n",
            "Action : 0.15\n",
            "Animation : 0.04\n",
            "Science Fiction : 0.07\n",
            "Adventure : 0.09\n",
            "War : 0.04\n",
            "Horror : 0.1\n",
            "Western : 0.03\n",
            "Fantasy : 0.05\n",
            "Family : 0.06\n",
            "History : 0.04\n",
            "TV Movie : 0.01\n",
            "Music : 0.04\n",
            "Foreign : 0.04\n"
          ]
        }
      ]
    },
    {
      "cell_type": "code",
      "source": [
        "d = []\n",
        "for i in list2:\n",
        "  d.append(movies[i].value_counts()[1])"
      ],
      "metadata": {
        "id": "-_jMadMLOsrl"
      },
      "execution_count": 53,
      "outputs": []
    },
    {
      "cell_type": "code",
      "source": [
        "fig = plt.figure()\n",
        "ax = fig.add_axes([0,0,3.5,1])\n",
        "ax.bar(list2,d)\n",
        "plt.show()"
      ],
      "metadata": {
        "colab": {
          "base_uri": "https://localhost:8080/",
          "height": 336
        },
        "id": "Q-yYchkjOwl5",
        "outputId": "132e86d7-b753-49a8-d85e-7e54129fae4b"
      },
      "execution_count": 54,
      "outputs": [
        {
          "output_type": "display_data",
          "data": {
            "text/plain": [
              "<Figure size 432x288 with 1 Axes>"
            ],
            "image/png": "[encoded data removed]"
          },
          "metadata": {
            "needs_background": "light"
          }
        }
      ]
    }
  ]
}