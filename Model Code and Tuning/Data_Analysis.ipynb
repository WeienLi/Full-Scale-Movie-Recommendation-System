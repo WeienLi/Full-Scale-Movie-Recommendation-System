{
  "nbformat": 4,
  "nbformat_minor": 0,
  "metadata": {
    "colab": {
      "provenance": []
    },
    "kernelspec": {
      "name": "python3",
      "display_name": "Python 3"
    },
    "language_info": {
      "name": "python"
    }
  },
  "cells": [
    {
      "cell_type": "code",
      "execution_count": 1,
      "metadata": {
        "colab": {
          "base_uri": "https://localhost:8080/"
        },
        "id": "HkS6SfdSaGbV",
        "outputId": "e978e850-71e2-4e5e-9cd2-298b223eddf0"
      },
      "outputs": [
        {
          "output_type": "stream",
          "name": "stdout",
          "text": [
            "\u001b[?25l\r\u001b[K     |███▊                            | 10 kB 17.1 MB/s eta 0:00:01\r\u001b[K     |███████▍                        | 20 kB 5.9 MB/s eta 0:00:01\r\u001b[K     |███████████                     | 30 kB 8.3 MB/s eta 0:00:01\r\u001b[K     |██████████████▊                 | 40 kB 4.8 MB/s eta 0:00:01\r\u001b[K     |██████████████████▍             | 51 kB 4.6 MB/s eta 0:00:01\r\u001b[K     |██████████████████████          | 61 kB 5.4 MB/s eta 0:00:01\r\u001b[K     |█████████████████████████▊      | 71 kB 5.6 MB/s eta 0:00:01\r\u001b[K     |█████████████████████████████▍  | 81 kB 6.2 MB/s eta 0:00:01\r\u001b[K     |████████████████████████████████| 89 kB 2.0 MB/s \n",
            "\u001b[?25h"
          ]
        }
      ],
      "source": [
        "!pip install -q tensorflow-recommenders"
      ]
    },
    {
      "cell_type": "code",
      "source": [
        "import tensorflow as tf\n",
        "print(tf.__version__)"
      ],
      "metadata": {
        "colab": {
          "base_uri": "https://localhost:8080/"
        },
        "id": "TcCTt9gvaJ9C",
        "outputId": "deef454a-93c7-45a0-f43b-9d57cec65cc2"
      },
      "execution_count": 2,
      "outputs": [
        {
          "output_type": "stream",
          "name": "stdout",
          "text": [
            "2.9.2\n"
          ]
        }
      ]
    },
    {
      "cell_type": "code",
      "source": [
        "import os\n",
        "import pprint\n",
        "import tempfile\n",
        "\n",
        "from typing import Dict, Text\n",
        "\n",
        "import numpy as np\n",
        "import tensorflow as tf\n",
        "import tensorflow_datasets as tfds\n",
        "\n",
        "import tensorflow_recommenders as tfrs\n",
        "import pandas as pd\n",
        "import sys\n",
        "from datetime import datetime"
      ],
      "metadata": {
        "id": "oiH7fwbFaLrp"
      },
      "execution_count": 3,
      "outputs": []
    },
    {
      "cell_type": "code",
      "source": [
        "if 'google.colab' in str(get_ipython()):\n",
        "\n",
        "  # To run in Gogogle Colab\n",
        "\n",
        "  #@title Mount your Google Drive\n",
        "\n",
        "  %matplotlib inline\n",
        "  %load_ext autoreload\n",
        "  %autoreload 2\n",
        "\n",
        "  from google.colab import drive\n",
        "  #drive.mount('/content/gdrive')\n",
        "  drive.mount(\"/content/gdrive\", force_remount=True)\n",
        "\n",
        "  folder = \"/content/drive/MyDrive/585_project\" #@param {type:\"string\"}\n",
        "  !ln -Ts $folder /content/IFT6759 2> /dev/null\n",
        "\n",
        "  # Add the assignment folder to Python path\n",
        "  if '/content/COMP585' not in sys.path:\n",
        "      sys.path.insert(0, '/content/COMP585')"
      ],
      "metadata": {
        "colab": {
          "base_uri": "https://localhost:8080/"
        },
        "id": "6BKdI3K3akeD",
        "outputId": "1dad93fa-7f6e-4001-bc66-85de13e50b82"
      },
      "execution_count": 5,
      "outputs": [
        {
          "output_type": "stream",
          "name": "stdout",
          "text": [
            "Mounted at /content/gdrive\n"
          ]
        }
      ]
    },
    {
      "cell_type": "code",
      "source": [
        "users = pd.read_csv('/content/gdrive/MyDrive/585_project/user_data.csv', sep=';')"
      ],
      "metadata": {
        "id": "au8xhaZ2ae-D"
      },
      "execution_count": 6,
      "outputs": []
    },
    {
      "cell_type": "code",
      "source": [
        "users['gender'].value_counts()"
      ],
      "metadata": {
        "colab": {
          "base_uri": "https://localhost:8080/"
        },
        "id": "9bNowWPHa_t_",
        "outputId": "af6865b9-18c7-4954-c978-e3969812490d"
      },
      "execution_count": 8,
      "outputs": [
        {
          "output_type": "execute_result",
          "data": {
            "text/plain": [
              "M    829960\n",
              "F    170040\n",
              "Name: gender, dtype: int64"
            ]
          },
          "metadata": {},
          "execution_count": 8
        }
      ]
    },
    {
      "cell_type": "code",
      "source": [
        "users['gender'].value_counts().plot(kind='bar')"
      ],
      "metadata": {
        "colab": {
          "base_uri": "https://localhost:8080/",
          "height": 281
        },
        "id": "wJ8nmDXnasV_",
        "outputId": "94eed4a5-5584-4c03-d8b0-4621014903aa"
      },
      "execution_count": 11,
      "outputs": [
        {
          "output_type": "execute_result",
          "data": {
            "text/plain": [
              "<matplotlib.axes._subplots.AxesSubplot at 0x7fb437c0fb50>"
            ]
          },
          "metadata": {},
          "execution_count": 11
        },
        {
          "output_type": "display_data",
          "data": {
            "text/plain": [
              "<Figure size 432x288 with 1 Axes>"
            ],
            "image/png": "[encoded data removed]"
          },
          "metadata": {
            "needs_background": "light"
          }
        }
      ]
    },
    {
      "cell_type": "code",
      "source": [
        "users['gender'].value_counts(normalize=True)"
      ],
      "metadata": {
        "colab": {
          "base_uri": "https://localhost:8080/"
        },
        "id": "z4p7LBjubwTh",
        "outputId": "b4356119-e72a-40e0-b2a6-f466c4943503"
      },
      "execution_count": 12,
      "outputs": [
        {
          "output_type": "execute_result",
          "data": {
            "text/plain": [
              "M    0.82996\n",
              "F    0.17004\n",
              "Name: gender, dtype: float64"
            ]
          },
          "metadata": {},
          "execution_count": 12
        }
      ]
    },
    {
      "cell_type": "code",
      "source": [
        "users['gender'].value_counts(normalize=True).plot(kind='bar')"
      ],
      "metadata": {
        "colab": {
          "base_uri": "https://localhost:8080/",
          "height": 281
        },
        "id": "JlsKnsMwbzKT",
        "outputId": "3b402b3e-a41a-4b2c-f603-fb09b6d879b7"
      },
      "execution_count": 13,
      "outputs": [
        {
          "output_type": "execute_result",
          "data": {
            "text/plain": [
              "<matplotlib.axes._subplots.AxesSubplot at 0x7fb437bb2f40>"
            ]
          },
          "metadata": {},
          "execution_count": 13
        },
        {
          "output_type": "display_data",
          "data": {
            "text/plain": [
              "<Figure size 432x288 with 1 Axes>"
            ],
            "image/png": "[encoded data removed]"
          },
          "metadata": {
            "needs_background": "light"
          }
        }
      ]
    }
  ]
}