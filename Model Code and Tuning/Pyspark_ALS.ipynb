{
  "cells": [
    {
      "cell_type": "markdown",
      "metadata": {
        "id": "x9tz7IqIFmYr"
      },
      "source": [
        "Import necessary libraries"
      ]
    },
    {
      "cell_type": "code",
      "source": [
        "!pip install pyspark"
      ],
      "metadata": {
        "colab": {
          "base_uri": "https://localhost:8080/"
        },
        "id": "iWJhRzJoNJzf",
        "outputId": "8170d559-9957-4ca0-a448-f06d918b395d"
      },
      "execution_count": null,
      "outputs": [
        {
          "output_type": "stream",
          "name": "stdout",
          "text": [
            "Collecting pyspark\n",
            "  Downloading pyspark-3.3.0.tar.gz (281.3 MB)\n",
            "\u001b[K     |████████████████████████████████| 281.3 MB 47 kB/s \n",
            "\u001b[?25hCollecting py4j==0.10.9.5\n",
            "  Downloading py4j-0.10.9.5-py2.py3-none-any.whl (199 kB)\n",
            "\u001b[K     |████████████████████████████████| 199 kB 18.4 MB/s \n",
            "\u001b[?25hBuilding wheels for collected packages: pyspark\n",
            "  Building wheel for pyspark (setup.py) ... \u001b[?25l\u001b[?25hdone\n",
            "  Created wheel for pyspark: filename=pyspark-3.3.0-py2.py3-none-any.whl size=281764026 sha256=9005ef44cd4ed5eb864568fd92f3b04c2059b2ef7aeec0a5cb3a1a8adafa70f3\n",
            "  Stored in directory: /root/.cache/pip/wheels/7a/8e/1b/f73a52650d2e5f337708d9f6a1750d451a7349a867f928b885\n",
            "Successfully built pyspark\n",
            "Installing collected packages: py4j, pyspark\n",
            "Successfully installed py4j-0.10.9.5 pyspark-3.3.0\n"
          ]
        }
      ]
    },
    {
      "cell_type": "code",
      "execution_count": null,
      "metadata": {
        "id": "hmKcgxvDtRIh"
      },
      "outputs": [],
      "source": [
        "import numpy as np \n",
        "import pandas as pd\n",
        "from pyspark.ml.recommendation import ALS\n",
        "from pyspark.ml.evaluation import RegressionEvaluator\n",
        "from pyspark.ml.tuning import ParamGridBuilder, CrossValidator\n",
        "from pyspark import SparkContext\n",
        "from pyspark.sql import SparkSession\n",
        "from pyspark.sql.functions import col\n",
        "from google.colab import drive\n",
        "from pyspark.ml.feature import StringIndexer"
      ]
    },
    {
      "cell_type": "code",
      "execution_count": null,
      "metadata": {
        "id": "pdy5GjH_oWOa"
      },
      "outputs": [],
      "source": [
        "sc = SparkContext()\n",
        "spark = SparkSession.builder.appName('Recommendations').getOrCreate()"
      ]
    },
    {
      "cell_type": "code",
      "execution_count": null,
      "metadata": {
        "id": "-xeG1aFmoWOa",
        "colab": {
          "base_uri": "https://localhost:8080/"
        },
        "outputId": "3e0dab1a-c425-46a3-f37c-5bfb48abc939"
      },
      "outputs": [
        {
          "output_type": "stream",
          "name": "stdout",
          "text": [
            "+------+--------------------+-------+\n",
            "|userID|             movieID|ratings|\n",
            "+------+--------------------+-------+\n",
            "|340626|acapulco_+prima+s...|      4|\n",
            "| 26447|         otello+1986|      3|\n",
            "|172600|          holes+2003|      2|\n",
            "|314533|my+brother+the+te...|      4|\n",
            "|249289|sommer+der+gaukle...|      2|\n",
            "|186589|  aces+n+eights+2008|      3|\n",
            "|278499|children+on+their...|      4|\n",
            "| 95207|       excision+2012|      3|\n",
            "| 48275|       outsider+1997|      4|\n",
            "| 69998|rosas+hllenfahrt+...|      4|\n",
            "|102246|los+signos+del+zo...|      4|\n",
            "|427110|my+neighbor+totor...|      4|\n",
            "|379843|        vincent+1982|      5|\n",
            "|358920|     mirrormask+2005|      3|\n",
            "|339159|this+is+spinal+ta...|      4|\n",
            "| 91269|forbidden+planet+...|      3|\n",
            "|447391|           gigi+1958|      2|\n",
            "|410073|whats+up_+scarlet...|      3|\n",
            "| 98060|the+heart+of+the+...|      5|\n",
            "|335447|      44500+max+2009|      4|\n",
            "+------+--------------------+-------+\n",
            "only showing top 20 rows\n",
            "\n"
          ]
        }
      ],
      "source": [
        "ratings = spark.read.csv(\"data_200,000.csv\",sep = ',', header = True)\n",
        "ratings.show()"
      ]
    },
    {
      "cell_type": "code",
      "execution_count": null,
      "metadata": {
        "id": "6AFq5CZHoWOb",
        "colab": {
          "base_uri": "https://localhost:8080/"
        },
        "outputId": "58272112-9abb-4325-e6a8-2fba77eaf0e4"
      },
      "outputs": [
        {
          "output_type": "stream",
          "name": "stdout",
          "text": [
            "root\n",
            " |-- userID: string (nullable = true)\n",
            " |-- movieID: string (nullable = true)\n",
            " |-- ratings: string (nullable = true)\n",
            "\n"
          ]
        }
      ],
      "source": [
        "ratings.printSchema()"
      ]
    },
    {
      "cell_type": "code",
      "execution_count": null,
      "metadata": {
        "id": "qZODkh27oWOb",
        "colab": {
          "base_uri": "https://localhost:8080/"
        },
        "outputId": "d6aeef7f-b775-4aca-ee3f-5702334c2944"
      },
      "outputs": [
        {
          "output_type": "stream",
          "name": "stdout",
          "text": [
            "+------+--------------------+------+\n",
            "|userId|             movieId|rating|\n",
            "+------+--------------------+------+\n",
            "|340626|acapulco_+prima+s...|   4.0|\n",
            "| 26447|         otello+1986|   3.0|\n",
            "|172600|          holes+2003|   2.0|\n",
            "|314533|my+brother+the+te...|   4.0|\n",
            "|249289|sommer+der+gaukle...|   2.0|\n",
            "|186589|  aces+n+eights+2008|   3.0|\n",
            "|278499|children+on+their...|   4.0|\n",
            "| 95207|       excision+2012|   3.0|\n",
            "| 48275|       outsider+1997|   4.0|\n",
            "| 69998|rosas+hllenfahrt+...|   4.0|\n",
            "|102246|los+signos+del+zo...|   4.0|\n",
            "|427110|my+neighbor+totor...|   4.0|\n",
            "|379843|        vincent+1982|   5.0|\n",
            "|358920|     mirrormask+2005|   3.0|\n",
            "|339159|this+is+spinal+ta...|   4.0|\n",
            "| 91269|forbidden+planet+...|   3.0|\n",
            "|447391|           gigi+1958|   2.0|\n",
            "|410073|whats+up_+scarlet...|   3.0|\n",
            "| 98060|the+heart+of+the+...|   5.0|\n",
            "|335447|      44500+max+2009|   4.0|\n",
            "+------+--------------------+------+\n",
            "only showing top 20 rows\n",
            "\n"
          ]
        }
      ],
      "source": [
        "ratings = ratings. \\\n",
        "    withColumn('userId', col('userID').cast('integer')).\\\n",
        "    withColumn('movieId', col('movieID').cast('string')).\\\n",
        "    withColumn('rating', col('ratings').cast('float')).\\\n",
        "    drop('ratings')\n",
        "    #drop('_c3').\\\n",
        "    #drop('_c0').\\\n",
        "    #drop('_c1').\\\n",
        "    #drop('_c2')\n",
        "ratings.show()"
      ]
    },
    {
      "cell_type": "code",
      "source": [
        "from pyspark.sql.functions import dense_rank\n",
        "from pyspark.sql.window import Window\n",
        "\n",
        "ratings = ratings.withColumn(\"movieIndex\", dense_rank().over(Window.orderBy(\"movieId\")))\n",
        "ratings.show()"
      ],
      "metadata": {
        "colab": {
          "base_uri": "https://localhost:8080/"
        },
        "id": "1HiaVuLtpRCM",
        "outputId": "5adf20ce-1ca8-498f-ae6b-ba1c569607ba"
      },
      "execution_count": null,
      "outputs": [
        {
          "output_type": "stream",
          "name": "stdout",
          "text": [
            "+------+--------------------+------+----------+\n",
            "|userId|             movieId|rating|movieIndex|\n",
            "+------+--------------------+------+----------+\n",
            "|406568|          ++++++1959|   4.0|         1|\n",
            "|362230|          ++++++1959|   4.0|         1|\n",
            "| 17433|          ++++++1959|   4.0|         1|\n",
            "|435477|          ++++++1959|   4.0|         1|\n",
            "|190145|          ++++++1959|   4.0|         1|\n",
            "|158290|          ++++++1959|   3.0|         1|\n",
            "| 44682|          ++++++1959|   4.0|         1|\n",
            "|369213|            ++++2013|   3.0|         2|\n",
            "| 66335|       +la+mode+1993|   3.0|         3|\n",
            "|210367|       +la+mode+1993|   3.0|         3|\n",
            "| 79536|       +la+mode+1993|   3.0|         3|\n",
            "|363147|     +laventure+2008|   3.0|         4|\n",
            "| 30664|     +laventure+2008|   4.0|         4|\n",
            "|123697|     +laventure+2008|   3.0|         4|\n",
            "|350111|    +nos+amours+1983|   4.0|         5|\n",
            "|389308|    +nos+amours+1983|   4.0|         5|\n",
            "|230428|+nous+la+libert+1931|   5.0|         6|\n",
            "|385620|+nous+la+libert+1931|   3.0|         6|\n",
            "|360751|+nous+la+libert+1931|   3.0|         6|\n",
            "| 94357|+nous+la+libert+1931|   4.0|         6|\n",
            "+------+--------------------+------+----------+\n",
            "only showing top 20 rows\n",
            "\n"
          ]
        }
      ]
    },
    {
      "cell_type": "code",
      "source": [
        "from pyspark.sql.functions import split"
      ],
      "metadata": {
        "id": "DN2Xw6IR6Vug"
      },
      "execution_count": null,
      "outputs": []
    },
    {
      "cell_type": "code",
      "source": [
        "table = ratings.select('movieID','movieIndex')\n",
        "table.show()"
      ],
      "metadata": {
        "colab": {
          "base_uri": "https://localhost:8080/"
        },
        "id": "RKKwbCHu2OyP",
        "outputId": "59b127a3-8297-4557-8037-98728b5c6f7b"
      },
      "execution_count": null,
      "outputs": [
        {
          "output_type": "stream",
          "name": "stdout",
          "text": [
            "+--------------------+----------+\n",
            "|             movieID|movieIndex|\n",
            "+--------------------+----------+\n",
            "|          ++++++1959|         1|\n",
            "|          ++++++1959|         1|\n",
            "|          ++++++1959|         1|\n",
            "|          ++++++1959|         1|\n",
            "|          ++++++1959|         1|\n",
            "|          ++++++1959|         1|\n",
            "|          ++++++1959|         1|\n",
            "|            ++++2013|         2|\n",
            "|       +la+mode+1993|         3|\n",
            "|       +la+mode+1993|         3|\n",
            "|       +la+mode+1993|         3|\n",
            "|     +laventure+2008|         4|\n",
            "|     +laventure+2008|         4|\n",
            "|     +laventure+2008|         4|\n",
            "|    +nos+amours+1983|         5|\n",
            "|    +nos+amours+1983|         5|\n",
            "|+nous+la+libert+1931|         6|\n",
            "|+nous+la+libert+1931|         6|\n",
            "|+nous+la+libert+1931|         6|\n",
            "|+nous+la+libert+1931|         6|\n",
            "+--------------------+----------+\n",
            "only showing top 20 rows\n",
            "\n"
          ]
        }
      ]
    },
    {
      "cell_type": "code",
      "source": [
        "final_table = table.select('movieID','movieIndex').distinct()\n",
        "final_table.show()"
      ],
      "metadata": {
        "colab": {
          "base_uri": "https://localhost:8080/"
        },
        "id": "W9nN2prQ8yDI",
        "outputId": "8b2faba7-3e50-41f1-e93f-2d72fdb06f63"
      },
      "execution_count": null,
      "outputs": [
        {
          "output_type": "stream",
          "name": "stdout",
          "text": [
            "+--------------------+----------+\n",
            "|             movieID|movieIndex|\n",
            "+--------------------+----------+\n",
            "|          ++++++1959|         1|\n",
            "|            ++++2013|         2|\n",
            "|       +la+mode+1993|         3|\n",
            "|     +laventure+2008|         4|\n",
            "|    +nos+amours+1983|         5|\n",
            "|+nous+la+libert+1931|         6|\n",
            "|+propos+de+nice+1930|         7|\n",
            "|...and+god+create...|         8|\n",
            "|...and+justice+fo...|         9|\n",
            "|...and+the+pursui...|        10|\n",
            "|...tick...+tick.....|        11|\n",
            "|            .45+2006|        12|\n",
            "|  009+re+cyborg+2012|        13|\n",
            "|           0605+2004|        14|\n",
            "|1+-+nenokkadine+2014|        15|\n",
            "|              1+2013|        16|\n",
            "|1+knights+-+in+se...|        17|\n",
            "|  10+000+timmar+2014|        18|\n",
            "|             10+1979|        19|\n",
            "|10+items+or+less+...|        20|\n",
            "+--------------------+----------+\n",
            "only showing top 20 rows\n",
            "\n"
          ]
        }
      ]
    },
    {
      "cell_type": "code",
      "source": [
        "ratings.printSchema()"
      ],
      "metadata": {
        "colab": {
          "base_uri": "https://localhost:8080/"
        },
        "id": "AxG3TEAc9MMl",
        "outputId": "f9e8eaed-2117-461a-8012-0b4ffbd50c6f"
      },
      "execution_count": null,
      "outputs": [
        {
          "output_type": "stream",
          "name": "stdout",
          "text": [
            "root\n",
            " |-- userId: integer (nullable = true)\n",
            " |-- movieId: string (nullable = true)\n",
            " |-- rating: float (nullable = true)\n",
            " |-- movieIndex: integer (nullable = false)\n",
            "\n"
          ]
        }
      ]
    },
    {
      "cell_type": "code",
      "source": [
        "#example of getting from the table.\n",
        "final_table.where(final_table.movieIndex == 1).show()"
      ],
      "metadata": {
        "colab": {
          "base_uri": "https://localhost:8080/"
        },
        "id": "5i5IlMcx-Ci9",
        "outputId": "7e91e812-e988-4e93-de68-379017f59022"
      },
      "execution_count": null,
      "outputs": [
        {
          "output_type": "stream",
          "name": "stdout",
          "text": [
            "+----------+----------+\n",
            "|   movieID|movieIndex|\n",
            "+----------+----------+\n",
            "|++++++1959|         1|\n",
            "+----------+----------+\n",
            "\n"
          ]
        }
      ]
    },
    {
      "cell_type": "code",
      "source": [
        "final_table.write.option(\"header\",True).option(\"delimiter\",\",\").csv(\"lookuptable\")"
      ],
      "metadata": {
        "id": "wgdcs9TA-9o4"
      },
      "execution_count": null,
      "outputs": []
    },
    {
      "cell_type": "code",
      "execution_count": null,
      "metadata": {
        "id": "_1U4MyunJwAB"
      },
      "outputs": [],
      "source": [
        "(train, test) = ratings.randomSplit([0.8, 0.2], seed = 3333) \n",
        "# ratings here is the the Spark dataframe type"
      ]
    },
    {
      "cell_type": "code",
      "execution_count": null,
      "metadata": {
        "id": "sp_-HYnM2_s2"
      },
      "outputs": [],
      "source": [
        "als = ALS(userCol=\"userId\", itemCol=\"movieIndex\" \\\n",
        "          ,ratingCol=\"rating\", nonnegative = True, implicitPrefs = False, coldStartStrategy=\"drop\")"
      ]
    },
    {
      "cell_type": "markdown",
      "metadata": {
        "id": "KapWv0704O9X"
      },
      "source": [
        "Tuning the model"
      ]
    },
    {
      "cell_type": "code",
      "execution_count": null,
      "metadata": {
        "id": "Mgt71pdD4CW-",
        "colab": {
          "base_uri": "https://localhost:8080/"
        },
        "outputId": "611baab4-b777-42a1-adc0-dc6ec9bcab6e"
      },
      "outputs": [
        {
          "output_type": "stream",
          "name": "stdout",
          "text": [
            "CrossValidator_6ca62b28b059\n"
          ]
        }
      ],
      "source": [
        "param_grid = ParamGridBuilder() \\\n",
        "            .addGrid(als.rank, [10, 40, 70, 100, 130, 160, 200]) \\\n",
        "            .addGrid(als.regParam, [.01, .05, .1, .15]) \\\n",
        "            .build()\n",
        "evaluator = RegressionEvaluator(metricName=\"rmse\", labelCol=\"rating\", predictionCol=\"prediction\")\n",
        "cv = CrossValidator(estimator=als, estimatorParamMaps=param_grid, evaluator=evaluator, numFolds=5)\n",
        "print(cv)"
      ]
    },
    {
      "cell_type": "code",
      "execution_count": null,
      "metadata": {
        "id": "8c2aj38c7S08"
      },
      "outputs": [],
      "source": [
        "#Fit cross validator to the 'train' dataset\n",
        "model = cv.fit(train) \n",
        "#train can be changed to ratings if we do not want to test it and want to use all data for validation\n",
        "\n",
        "#Extract best model from the cv model above\n",
        "best_model = model.bestModel"
      ]
    },
    {
      "cell_type": "code",
      "execution_count": null,
      "metadata": {
        "id": "u4Y00MGDoWOd",
        "colab": {
          "base_uri": "https://localhost:8080/"
        },
        "outputId": "a14c7b54-0654-4626-87a8-8731a0e439c8"
      },
      "outputs": [
        {
          "output_type": "stream",
          "name": "stdout",
          "text": [
            "<class 'pyspark.ml.recommendation.ALSModel'>\n",
            "**Best Model**\n",
            "  Rank: 200\n",
            "  MaxIter: 10\n",
            "  RegParam: 0.01\n"
          ]
        }
      ],
      "source": [
        "# Print best_model\n",
        "print(type(best_model))\n",
        "\n",
        "# Complete the code below to extract the ALS model parameters\n",
        "print(\"**Best Model**\")\n",
        "\n",
        "# # Print \"Rank\"\n",
        "print(\"  Rank:\", best_model._java_obj.parent().getRank())\n",
        "\n",
        "# Print \"MaxIter\"\n",
        "print(\"  MaxIter:\", best_model._java_obj.parent().getMaxIter())\n",
        "\n",
        "# Print \"RegParam\"\n",
        "print(\"  RegParam:\", best_model._java_obj.parent().getRegParam())"
      ]
    },
    {
      "cell_type": "code",
      "execution_count": null,
      "metadata": {
        "id": "jroC5UGpoWOd",
        "colab": {
          "base_uri": "https://localhost:8080/"
        },
        "outputId": "ac8cd010-5801-4ee0-9ef6-f849c94b9774"
      },
      "outputs": [
        {
          "output_type": "stream",
          "name": "stdout",
          "text": [
            "1.7684231183305625\n"
          ]
        }
      ],
      "source": [
        "test_predictions = best_model.transform(test)\n",
        "RMSE = evaluator.evaluate(test_predictions)\n",
        "print(RMSE)"
      ]
    },
    {
      "cell_type": "code",
      "execution_count": null,
      "metadata": {
        "id": "U9_0cqRNoWOe",
        "colab": {
          "base_uri": "https://localhost:8080/"
        },
        "outputId": "78fa3b4a-a7b7-46b3-d05c-f677f49b5d6a"
      },
      "outputs": [
        {
          "output_type": "stream",
          "name": "stdout",
          "text": [
            "+------+--------------------+------+----------+----------+\n",
            "|userId|             movieId|rating|movieIndex|prediction|\n",
            "+------+--------------------+------+----------+----------+\n",
            "| 79536|       +la+mode+1993|   3.0|         3|0.81155235|\n",
            "| 30664|     +laventure+2008|   4.0|         4| 1.3734282|\n",
            "| 21700|...tick...+tick.....|   3.0|        11| 1.2672446|\n",
            "|360564|10+items+or+less+...|   3.0|        20| 2.0138261|\n",
            "| 47032|10+questions+for+...|   4.0|        23| 2.0292604|\n",
            "| 51362|10+questions+for+...|   3.0|        23| 2.1853852|\n",
            "|141325|10+things+i+hate+...|   4.0|        25|  3.813172|\n",
            "|143405|10+things+i+hate+...|   4.0|        25|  4.088001|\n",
            "|156796|10+things+i+hate+...|   4.0|        25| 2.9465654|\n",
            "|181939|10+things+i+hate+...|   4.0|        25| 1.7001389|\n",
            "|203685|10+things+i+hate+...|   4.0|        25| 2.5233817|\n",
            "|214231|10+things+i+hate+...|   2.0|        25| 2.2120197|\n",
            "|246191|10+things+i+hate+...|   4.0|        25| 2.8384593|\n",
            "|248414|10+things+i+hate+...|   4.0|        25| 3.2335238|\n",
            "|307912|10+things+i+hate+...|   5.0|        25| 3.1218104|\n",
            "|360095|10+things+i+hate+...|   3.0|        25| 1.7097818|\n",
            "|367655|10+things+i+hate+...|   2.0|        25| 1.5263281|\n",
            "|413572|10+things+i+hate+...|   4.0|        25| 2.3640103|\n",
            "|446544|10+things+i+hate+...|   3.0|        25|  2.699261|\n",
            "| 18423|           10.5+2004|   4.0|        28| 2.7506502|\n",
            "+------+--------------------+------+----------+----------+\n",
            "only showing top 20 rows\n",
            "\n"
          ]
        }
      ],
      "source": [
        "test_predictions.show()"
      ]
    },
    {
      "cell_type": "markdown",
      "source": [
        "Save Model and try Loading"
      ],
      "metadata": {
        "id": "jTqMmX76cIsK"
      }
    },
    {
      "cell_type": "code",
      "source": [
        "best_model.save(\"/ALS\")"
      ],
      "metadata": {
        "id": "acJo7Kn5AqVi"
      },
      "execution_count": null,
      "outputs": []
    },
    {
      "cell_type": "code",
      "source": [
        "from pyspark.ml.recommendation import ALSModel"
      ],
      "metadata": {
        "id": "S0FE_saPZITu"
      },
      "execution_count": null,
      "outputs": []
    },
    {
      "cell_type": "code",
      "source": [
        "#try loading\n",
        "loaded = ALSModel.load(\"/ALS\")"
      ],
      "metadata": {
        "id": "uVucfJQEbofQ"
      },
      "execution_count": null,
      "outputs": []
    },
    {
      "cell_type": "markdown",
      "metadata": {
        "id": "sra3x7ER8SQc"
      },
      "source": [
        "Make Recommendations"
      ]
    },
    {
      "cell_type": "code",
      "execution_count": null,
      "metadata": {
        "id": "jiyr-nhV8RQo",
        "colab": {
          "base_uri": "https://localhost:8080/"
        },
        "outputId": "6d997b0e-4c05-46c4-a9a8-42a5fa6e69f0"
      },
      "outputs": [
        {
          "output_type": "stream",
          "name": "stdout",
          "text": [
            "+------+--------------------+\n",
            "|userId|     recommendations|\n",
            "+------+--------------------+\n",
            "|    27|[{25100, 2.999452...|\n",
            "|    28|[{3395, 2.999478}...|\n",
            "|    53|[{3825, 4.901492}...|\n",
            "|    76|[{20765, 3.260196...|\n",
            "|    78|[{12918, 3.432839...|\n",
            "|    85|[{15899, 4.566853...|\n",
            "|   101|[{20175, 4.999309...|\n",
            "|   126|[{3825, 4.263652}...|\n",
            "|   137|[{56, 4.9992166},...|\n",
            "|   255|[{4709, 4.9992204...|\n",
            "|   296|[{19317, 3.999401...|\n",
            "|   362|[{14594, 2.999262...|\n",
            "|   368|[{3825, 4.340407}...|\n",
            "|   406|[{14774, 3.999202...|\n",
            "|   412|[{23669, 3.545208...|\n",
            "|   458|[{3825, 4.4763346...|\n",
            "|   481|[{3825, 3.062106}...|\n",
            "|   497|[{5965, 4.2939124...|\n",
            "|   577|[{3825, 4.470476}...|\n",
            "|   587|[{13673, 3.999341...|\n",
            "+------+--------------------+\n",
            "\n"
          ]
        }
      ],
      "source": [
        "nrecommendations = loaded.recommendForAllUsers(20) #top 20 recommandations\n",
        "nrecommendations.limit(20).show()\n",
        "#nrecommendations4user_subset = best_model.recommendForUserSubset(user_subset, 3)\n",
        "# user subset will be another data frame object. "
      ]
    },
    {
      "cell_type": "markdown",
      "metadata": {
        "id": "kMemYesg8l0v"
      },
      "source": [
        "PySpark Version Check\n"
      ]
    },
    {
      "cell_type": "code",
      "execution_count": null,
      "metadata": {
        "id": "bZtWyeoI8rSo",
        "colab": {
          "base_uri": "https://localhost:8080/"
        },
        "outputId": "97baf744-1356-4ccb-995d-82f803ef6428"
      },
      "outputs": [
        {
          "output_type": "stream",
          "name": "stdout",
          "text": [
            "PySpark Version :3.3.0\n",
            "PySpark Version :3.3.0\n"
          ]
        }
      ],
      "source": [
        "print('PySpark Version :'+spark.version)\n",
        "print('PySpark Version :'+spark.sparkContext.version)"
      ]
    },
    {
      "cell_type": "code",
      "execution_count": null,
      "metadata": {
        "id": "ilcarYlnoWOf",
        "colab": {
          "base_uri": "https://localhost:8080/"
        },
        "outputId": "e5624164-45de-4c91-8e54-1c0c3fac0c79"
      },
      "outputs": [
        {
          "output_type": "stream",
          "name": "stdout",
          "text": [
            "  adding: ALS/ (stored 0%)\n",
            "  adding: ALS/userFactors/ (stored 0%)\n",
            "  adding: ALS/userFactors/part-00004-1f389380-2516-467d-a3c7-290ea0cd41e8-c000.snappy.parquet (deflated 12%)\n",
            "  adding: ALS/userFactors/part-00009-1f389380-2516-467d-a3c7-290ea0cd41e8-c000.snappy.parquet (deflated 12%)\n",
            "  adding: ALS/userFactors/.part-00000-1f389380-2516-467d-a3c7-290ea0cd41e8-c000.snappy.parquet.crc (deflated 0%)\n",
            "  adding: ALS/userFactors/.part-00007-1f389380-2516-467d-a3c7-290ea0cd41e8-c000.snappy.parquet.crc (deflated 0%)\n",
            "  adding: ALS/userFactors/part-00001-1f389380-2516-467d-a3c7-290ea0cd41e8-c000.snappy.parquet (deflated 12%)\n",
            "  adding: ALS/userFactors/.part-00006-1f389380-2516-467d-a3c7-290ea0cd41e8-c000.snappy.parquet.crc (deflated 0%)\n",
            "  adding: ALS/userFactors/.part-00005-1f389380-2516-467d-a3c7-290ea0cd41e8-c000.snappy.parquet.crc (deflated 0%)\n",
            "  adding: ALS/userFactors/part-00005-1f389380-2516-467d-a3c7-290ea0cd41e8-c000.snappy.parquet (deflated 12%)\n",
            "  adding: ALS/userFactors/part-00006-1f389380-2516-467d-a3c7-290ea0cd41e8-c000.snappy.parquet (deflated 12%)\n",
            "  adding: ALS/userFactors/part-00003-1f389380-2516-467d-a3c7-290ea0cd41e8-c000.snappy.parquet (deflated 12%)\n",
            "  adding: ALS/userFactors/_SUCCESS (stored 0%)\n",
            "  adding: ALS/userFactors/.part-00004-1f389380-2516-467d-a3c7-290ea0cd41e8-c000.snappy.parquet.crc (deflated 0%)\n",
            "  adding: ALS/userFactors/.part-00001-1f389380-2516-467d-a3c7-290ea0cd41e8-c000.snappy.parquet.crc (deflated 0%)\n",
            "  adding: ALS/userFactors/.part-00002-1f389380-2516-467d-a3c7-290ea0cd41e8-c000.snappy.parquet.crc (deflated 0%)\n",
            "  adding: ALS/userFactors/part-00002-1f389380-2516-467d-a3c7-290ea0cd41e8-c000.snappy.parquet (deflated 12%)\n",
            "  adding: ALS/userFactors/part-00008-1f389380-2516-467d-a3c7-290ea0cd41e8-c000.snappy.parquet (deflated 12%)\n",
            "  adding: ALS/userFactors/part-00000-1f389380-2516-467d-a3c7-290ea0cd41e8-c000.snappy.parquet (deflated 12%)\n",
            "  adding: ALS/userFactors/.part-00008-1f389380-2516-467d-a3c7-290ea0cd41e8-c000.snappy.parquet.crc (deflated 0%)\n",
            "  adding: ALS/userFactors/part-00007-1f389380-2516-467d-a3c7-290ea0cd41e8-c000.snappy.parquet (deflated 12%)\n",
            "  adding: ALS/userFactors/.part-00009-1f389380-2516-467d-a3c7-290ea0cd41e8-c000.snappy.parquet.crc (deflated 0%)\n",
            "  adding: ALS/userFactors/._SUCCESS.crc (stored 0%)\n",
            "  adding: ALS/userFactors/.part-00003-1f389380-2516-467d-a3c7-290ea0cd41e8-c000.snappy.parquet.crc (deflated 0%)\n",
            "  adding: ALS/itemFactors/ (stored 0%)\n",
            "  adding: ALS/itemFactors/part-00007-3548e57e-7a20-41e9-8562-f5ce945c61b8-c000.snappy.parquet (deflated 10%)\n",
            "  adding: ALS/itemFactors/part-00000-3548e57e-7a20-41e9-8562-f5ce945c61b8-c000.snappy.parquet (deflated 10%)\n",
            "  adding: ALS/itemFactors/.part-00005-3548e57e-7a20-41e9-8562-f5ce945c61b8-c000.snappy.parquet.crc (stored 0%)\n",
            "  adding: ALS/itemFactors/part-00005-3548e57e-7a20-41e9-8562-f5ce945c61b8-c000.snappy.parquet (deflated 9%)\n",
            "  adding: ALS/itemFactors/part-00003-3548e57e-7a20-41e9-8562-f5ce945c61b8-c000.snappy.parquet (deflated 9%)\n",
            "  adding: ALS/itemFactors/part-00006-3548e57e-7a20-41e9-8562-f5ce945c61b8-c000.snappy.parquet (deflated 10%)\n",
            "  adding: ALS/itemFactors/part-00002-3548e57e-7a20-41e9-8562-f5ce945c61b8-c000.snappy.parquet (deflated 10%)\n",
            "  adding: ALS/itemFactors/part-00004-3548e57e-7a20-41e9-8562-f5ce945c61b8-c000.snappy.parquet (deflated 10%)\n",
            "  adding: ALS/itemFactors/part-00009-3548e57e-7a20-41e9-8562-f5ce945c61b8-c000.snappy.parquet (deflated 9%)\n",
            "  adding: ALS/itemFactors/.part-00004-3548e57e-7a20-41e9-8562-f5ce945c61b8-c000.snappy.parquet.crc (stored 0%)\n",
            "  adding: ALS/itemFactors/_SUCCESS (stored 0%)\n",
            "  adding: ALS/itemFactors/.part-00007-3548e57e-7a20-41e9-8562-f5ce945c61b8-c000.snappy.parquet.crc (stored 0%)\n",
            "  adding: ALS/itemFactors/.part-00008-3548e57e-7a20-41e9-8562-f5ce945c61b8-c000.snappy.parquet.crc (stored 0%)\n",
            "  adding: ALS/itemFactors/.part-00000-3548e57e-7a20-41e9-8562-f5ce945c61b8-c000.snappy.parquet.crc (stored 0%)\n",
            "  adding: ALS/itemFactors/.part-00001-3548e57e-7a20-41e9-8562-f5ce945c61b8-c000.snappy.parquet.crc (stored 0%)\n",
            "  adding: ALS/itemFactors/.part-00006-3548e57e-7a20-41e9-8562-f5ce945c61b8-c000.snappy.parquet.crc (stored 0%)\n",
            "  adding: ALS/itemFactors/part-00001-3548e57e-7a20-41e9-8562-f5ce945c61b8-c000.snappy.parquet (deflated 10%)\n",
            "  adding: ALS/itemFactors/.part-00003-3548e57e-7a20-41e9-8562-f5ce945c61b8-c000.snappy.parquet.crc (stored 0%)\n",
            "  adding: ALS/itemFactors/.part-00009-3548e57e-7a20-41e9-8562-f5ce945c61b8-c000.snappy.parquet.crc (stored 0%)\n",
            "  adding: ALS/itemFactors/part-00008-3548e57e-7a20-41e9-8562-f5ce945c61b8-c000.snappy.parquet (deflated 10%)\n",
            "  adding: ALS/itemFactors/.part-00002-3548e57e-7a20-41e9-8562-f5ce945c61b8-c000.snappy.parquet.crc (stored 0%)\n",
            "  adding: ALS/itemFactors/._SUCCESS.crc (stored 0%)\n",
            "  adding: ALS/metadata/ (stored 0%)\n",
            "  adding: ALS/metadata/part-00000 (deflated 39%)\n",
            "  adding: ALS/metadata/.part-00000.crc (stored 0%)\n",
            "  adding: ALS/metadata/_SUCCESS (stored 0%)\n",
            "  adding: ALS/metadata/._SUCCESS.crc (stored 0%)\n"
          ]
        }
      ],
      "source": [
        "!zip -r '/ALS.zip' '/ALS'"
      ]
    },
    {
      "cell_type": "code",
      "source": [
        "from google.colab import files\n",
        "files.download('/ALS/metadata/_SUCCESS')\n",
        "\n"
      ],
      "metadata": {
        "id": "YtJDbiunnSkS"
      },
      "execution_count": null,
      "outputs": []
    },
    {
      "cell_type": "code",
      "source": [
        "user_subset = ratings.filter(ratings.userId == 27)\n",
        "user_subset.show()\n",
        "type(user_subset)\n"
      ],
      "metadata": {
        "colab": {
          "base_uri": "https://localhost:8080/"
        },
        "id": "hM5jEyLcwbjW",
        "outputId": "27d9cdda-fafd-40bd-d0eb-e42e20b95ef9"
      },
      "execution_count": null,
      "outputs": [
        {
          "output_type": "stream",
          "name": "stdout",
          "text": [
            "+------+--------------------+------+----------+\n",
            "|userId|             movieId|rating|movieIndex|\n",
            "+------+--------------------+------+----------+\n",
            "|    27|winter+in+wartime...|   3.0|     25100|\n",
            "+------+--------------------+------+----------+\n",
            "\n"
          ]
        },
        {
          "output_type": "execute_result",
          "data": {
            "text/plain": [
              "pyspark.sql.dataframe.DataFrame"
            ]
          },
          "metadata": {},
          "execution_count": 34
        }
      ]
    },
    {
      "cell_type": "code",
      "source": [
        "rec = loaded.recommendForUserSubset(user_subset, 3)"
      ],
      "metadata": {
        "id": "d84rkdpywwju"
      },
      "execution_count": null,
      "outputs": []
    },
    {
      "cell_type": "code",
      "source": [
        "movie_id_rec = rec.select(\"recommendations.movieIndex\")\n",
        "movie_id_rec.show()"
      ],
      "metadata": {
        "colab": {
          "base_uri": "https://localhost:8080/"
        },
        "id": "X0itKjZPw1xg",
        "outputId": "d782b053-e609-4e23-805e-169ac4acee23"
      },
      "execution_count": null,
      "outputs": [
        {
          "output_type": "stream",
          "name": "stdout",
          "text": [
            "+--------------------+\n",
            "|          movieIndex|\n",
            "+--------------------+\n",
            "|[25100, 22793, 3825]|\n",
            "+--------------------+\n",
            "\n"
          ]
        }
      ]
    },
    {
      "cell_type": "code",
      "source": [
        "rec_list = movie_id_rec.collect()[0][0]"
      ],
      "metadata": {
        "id": "WW6lAhzbylGT"
      },
      "execution_count": null,
      "outputs": []
    },
    {
      "cell_type": "code",
      "source": [
        "toreturn = []\n",
        "for movie1_id in rec_list:\n",
        "  final = final_table.filter(final_table.movieIndex == movie1_id)\n",
        "  Done = final.select(\"movieID\")\n",
        "  toreturn.append(Done.collect()[0][0])"
      ],
      "metadata": {
        "id": "-w-Z8lCDxIJv"
      },
      "execution_count": null,
      "outputs": []
    },
    {
      "cell_type": "code",
      "source": [
        "print(toreturn)"
      ],
      "metadata": {
        "colab": {
          "base_uri": "https://localhost:8080/"
        },
        "id": "4kGytiT7y9WY",
        "outputId": "ee16f561-c62f-4e95-f33b-25e3f31694a6"
      },
      "execution_count": null,
      "outputs": [
        {
          "output_type": "stream",
          "name": "stdout",
          "text": [
            "['winter+in+wartime+2008', 'the+usual+suspects+1995', 'casablanca+1942']\n"
          ]
        }
      ]
    },
    {
      "cell_type": "code",
      "source": [
        "#27\n",
        "def recommendationConverter(alsmodel,userid,lookuptable,orginal_data):\n",
        "  userid_int = int(userid)\n",
        "  user_subset = orginal_data.filter(orginal_data.userId == userid_int)\n",
        "  rec = alsmodel.recommendForUserSubset(user_subset, 20)\n",
        "  movie_id_rec = rec.select(\"recommendations.item\")\n",
        "  rec_list = movie_id_rec.collect()[0][0]\n",
        "  toreturn = []\n",
        "  for movie1_id in rec_list:\n",
        "    final = final_table.filter(final_table.movieIndex == movie1_id)\n",
        "    Done = final.select(\"movieID\")\n",
        "    toreturn.append(Done.collect()[0][0])"
      ],
      "metadata": {
        "id": "K_ErtrWjt7nm"
      },
      "execution_count": null,
      "outputs": []
    }
  ],
  "metadata": {
    "colab": {
      "collapsed_sections": [],
      "provenance": []
    },
    "kernelspec": {
      "display_name": "Python 3 (ipykernel)",
      "language": "python",
      "name": "python3"
    },
    "language_info": {
      "codemirror_mode": {
        "name": "ipython",
        "version": 3
      },
      "file_extension": ".py",
      "mimetype": "text/x-python",
      "name": "python",
      "nbconvert_exporter": "python",
      "pygments_lexer": "ipython3",
      "version": "3.9.7"
    }
  },
  "nbformat": 4,
  "nbformat_minor": 0
}
