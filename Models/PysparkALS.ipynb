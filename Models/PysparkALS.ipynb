{
  "cells": [
    {
      "cell_type": "markdown",
      "metadata": {
        "id": "x9tz7IqIFmYr"
      },
      "source": [
        "Import necessary libraries"
      ]
    },
    {
      "cell_type": "code",
      "source": [
        "!pip install pyspark"
      ],
      "metadata": {
        "colab": {
          "base_uri": "https://localhost:8080/"
        },
        "id": "iWJhRzJoNJzf",
        "outputId": "ef3c3ea8-709b-45b0-db6f-21fe7c365d99"
      },
      "execution_count": 2,
      "outputs": [
        {
          "output_type": "stream",
          "name": "stdout",
          "text": [
            "Looking in indexes: https://pypi.org/simple, https://us-python.pkg.dev/colab-wheels/public/simple/\n",
            "Collecting pyspark\n",
            "  Downloading pyspark-3.3.0.tar.gz (281.3 MB)\n",
            "\u001b[K     |████████████████████████████████| 281.3 MB 37 kB/s \n",
            "\u001b[?25hCollecting py4j==0.10.9.5\n",
            "  Downloading py4j-0.10.9.5-py2.py3-none-any.whl (199 kB)\n",
            "\u001b[K     |████████████████████████████████| 199 kB 54.7 MB/s \n",
            "\u001b[?25hBuilding wheels for collected packages: pyspark\n",
            "  Building wheel for pyspark (setup.py) ... \u001b[?25l\u001b[?25hdone\n",
            "  Created wheel for pyspark: filename=pyspark-3.3.0-py2.py3-none-any.whl size=281764026 sha256=910b9df8ca64f6aedc775c9ea46c61f432659bc2f5e37c14e02f14d917bf5a5a\n",
            "  Stored in directory: /root/.cache/pip/wheels/7a/8e/1b/f73a52650d2e5f337708d9f6a1750d451a7349a867f928b885\n",
            "Successfully built pyspark\n",
            "Installing collected packages: py4j, pyspark\n",
            "Successfully installed py4j-0.10.9.5 pyspark-3.3.0\n"
          ]
        }
      ]
    },
    {
      "cell_type": "code",
      "execution_count": 3,
      "metadata": {
        "id": "hmKcgxvDtRIh"
      },
      "outputs": [],
      "source": [
        "import numpy as np \n",
        "import pandas as pd\n",
        "from pyspark.ml.recommendation import ALS\n",
        "from pyspark.ml.evaluation import RegressionEvaluator\n",
        "from pyspark.ml.tuning import ParamGridBuilder, CrossValidator\n",
        "from pyspark import SparkContext\n",
        "from pyspark.sql import SparkSession\n",
        "from pyspark.sql.functions import col\n",
        "from google.colab import drive\n",
        "from pyspark.ml.feature import StringIndexer"
      ]
    },
    {
      "cell_type": "code",
      "execution_count": 4,
      "metadata": {
        "id": "pdy5GjH_oWOa"
      },
      "outputs": [],
      "source": [
        "sc = SparkContext()\n",
        "spark = SparkSession.builder.appName('Recommendations').getOrCreate()"
      ]
    },
    {
      "cell_type": "code",
      "execution_count": 49,
      "metadata": {
        "id": "-xeG1aFmoWOa",
        "colab": {
          "base_uri": "https://localhost:8080/"
        },
        "outputId": "861a5962-a079-4295-89ec-902c36bf03c8"
      },
      "outputs": [
        {
          "output_type": "stream",
          "name": "stdout",
          "text": [
            "Drive already mounted at /drive; to attempt to forcibly remount, call drive.mount(\"/drive\", force_remount=True).\n",
            "+------+--------------------+-------+\n",
            "|userID|             movieID|ratings|\n",
            "+------+--------------------+-------+\n",
            "|340626|acapulco_+prima+s...|      4|\n",
            "| 26447|         otello+1986|      3|\n",
            "|172600|          holes+2003|      2|\n",
            "|314533|my+brother+the+te...|      4|\n",
            "|249289|sommer+der+gaukle...|      2|\n",
            "|186589|  aces+n+eights+2008|      3|\n",
            "|278499|children+on+their...|      4|\n",
            "| 95207|       excision+2012|      3|\n",
            "| 48275|       outsider+1997|      4|\n",
            "| 69998|rosas+hllenfahrt+...|      4|\n",
            "|102246|los+signos+del+zo...|      4|\n",
            "|427110|my+neighbor+totor...|      4|\n",
            "|379843|        vincent+1982|      5|\n",
            "|358920|     mirrormask+2005|      3|\n",
            "|339159|this+is+spinal+ta...|      4|\n",
            "| 91269|forbidden+planet+...|      3|\n",
            "|447391|           gigi+1958|      2|\n",
            "|410073|whats+up_+scarlet...|      3|\n",
            "| 98060|the+heart+of+the+...|      5|\n",
            "|335447|      44500+max+2009|      4|\n",
            "+------+--------------------+-------+\n",
            "only showing top 20 rows\n",
            "\n"
          ]
        }
      ],
      "source": [
        "drive.mount('/drive')\n",
        "ratings = spark.read.csv(\"/drive/MyDrive/585_project/data_200,000.csv\",sep = ',', header = True)\n",
        "ratings.show()"
      ]
    },
    {
      "cell_type": "code",
      "execution_count": 6,
      "metadata": {
        "id": "6AFq5CZHoWOb",
        "colab": {
          "base_uri": "https://localhost:8080/"
        },
        "outputId": "9dde9c97-767d-49eb-da8d-d61da98b3928"
      },
      "outputs": [
        {
          "output_type": "stream",
          "name": "stdout",
          "text": [
            "root\n",
            " |-- userID: string (nullable = true)\n",
            " |-- movieID: string (nullable = true)\n",
            " |-- ratings: string (nullable = true)\n",
            "\n"
          ]
        }
      ],
      "source": [
        "ratings.printSchema()"
      ]
    },
    {
      "cell_type": "code",
      "execution_count": 50,
      "metadata": {
        "id": "qZODkh27oWOb",
        "colab": {
          "base_uri": "https://localhost:8080/"
        },
        "outputId": "5e197e2a-e545-418d-db6b-80a63242bfae"
      },
      "outputs": [
        {
          "output_type": "stream",
          "name": "stdout",
          "text": [
            "+------+--------------------+------+\n",
            "|userId|             movieId|rating|\n",
            "+------+--------------------+------+\n",
            "|340626|acapulco_+prima+s...|   4.0|\n",
            "| 26447|         otello+1986|   3.0|\n",
            "|172600|          holes+2003|   2.0|\n",
            "|314533|my+brother+the+te...|   4.0|\n",
            "|249289|sommer+der+gaukle...|   2.0|\n",
            "|186589|  aces+n+eights+2008|   3.0|\n",
            "|278499|children+on+their...|   4.0|\n",
            "| 95207|       excision+2012|   3.0|\n",
            "| 48275|       outsider+1997|   4.0|\n",
            "| 69998|rosas+hllenfahrt+...|   4.0|\n",
            "|102246|los+signos+del+zo...|   4.0|\n",
            "|427110|my+neighbor+totor...|   4.0|\n",
            "|379843|        vincent+1982|   5.0|\n",
            "|358920|     mirrormask+2005|   3.0|\n",
            "|339159|this+is+spinal+ta...|   4.0|\n",
            "| 91269|forbidden+planet+...|   3.0|\n",
            "|447391|           gigi+1958|   2.0|\n",
            "|410073|whats+up_+scarlet...|   3.0|\n",
            "| 98060|the+heart+of+the+...|   5.0|\n",
            "|335447|      44500+max+2009|   4.0|\n",
            "+------+--------------------+------+\n",
            "only showing top 20 rows\n",
            "\n"
          ]
        }
      ],
      "source": [
        "ratings = ratings. \\\n",
        "    withColumn('userId', col('userID').cast('integer')).\\\n",
        "    withColumn('movieId', col('movieID').cast('string')).\\\n",
        "    withColumn('rating', col('ratings').cast('float')).\\\n",
        "    drop('ratings')\n",
        "    #drop('_c3').\\\n",
        "    #drop('_c0').\\\n",
        "    #drop('_c1').\\\n",
        "    #drop('_c2')\n",
        "ratings.show()"
      ]
    },
    {
      "cell_type": "code",
      "source": [
        "from pyspark.sql.functions import dense_rank\n",
        "from pyspark.sql.window import Window\n",
        "\n",
        "ratings = ratings.withColumn(\"movieIndex\", dense_rank().over(Window.orderBy(\"movieId\")))\n",
        "ratings.show()"
      ],
      "metadata": {
        "colab": {
          "base_uri": "https://localhost:8080/"
        },
        "id": "1HiaVuLtpRCM",
        "outputId": "477d4219-156d-4908-b53a-62c11b7eb3b1"
      },
      "execution_count": 52,
      "outputs": [
        {
          "output_type": "stream",
          "name": "stdout",
          "text": [
            "+------+--------------------+------+----------+\n",
            "|userId|             movieId|rating|movieIndex|\n",
            "+------+--------------------+------+----------+\n",
            "|406568|          ++++++1959|   4.0|         1|\n",
            "|362230|          ++++++1959|   4.0|         1|\n",
            "| 17433|          ++++++1959|   4.0|         1|\n",
            "|435477|          ++++++1959|   4.0|         1|\n",
            "|190145|          ++++++1959|   4.0|         1|\n",
            "|158290|          ++++++1959|   3.0|         1|\n",
            "| 44682|          ++++++1959|   4.0|         1|\n",
            "|369213|            ++++2013|   3.0|         2|\n",
            "| 66335|       +la+mode+1993|   3.0|         3|\n",
            "|210367|       +la+mode+1993|   3.0|         3|\n",
            "| 79536|       +la+mode+1993|   3.0|         3|\n",
            "|363147|     +laventure+2008|   3.0|         4|\n",
            "| 30664|     +laventure+2008|   4.0|         4|\n",
            "|123697|     +laventure+2008|   3.0|         4|\n",
            "|350111|    +nos+amours+1983|   4.0|         5|\n",
            "|389308|    +nos+amours+1983|   4.0|         5|\n",
            "|230428|+nous+la+libert+1931|   5.0|         6|\n",
            "|385620|+nous+la+libert+1931|   3.0|         6|\n",
            "|360751|+nous+la+libert+1931|   3.0|         6|\n",
            "| 94357|+nous+la+libert+1931|   4.0|         6|\n",
            "+------+--------------------+------+----------+\n",
            "only showing top 20 rows\n",
            "\n"
          ]
        }
      ]
    },
    {
      "cell_type": "code",
      "source": [
        "from pyspark.sql.functions import split"
      ],
      "metadata": {
        "id": "DN2Xw6IR6Vug"
      },
      "execution_count": 37,
      "outputs": []
    },
    {
      "cell_type": "code",
      "source": [
        "table = ratings.select('movieID','movieIndex')\n",
        "table.show()"
      ],
      "metadata": {
        "colab": {
          "base_uri": "https://localhost:8080/"
        },
        "id": "RKKwbCHu2OyP",
        "outputId": "08080f56-c3a2-4579-cddd-a2c59ea049ce"
      },
      "execution_count": 53,
      "outputs": [
        {
          "output_type": "stream",
          "name": "stdout",
          "text": [
            "+--------------------+----------+\n",
            "|             movieID|movieIndex|\n",
            "+--------------------+----------+\n",
            "|          ++++++1959|         1|\n",
            "|          ++++++1959|         1|\n",
            "|          ++++++1959|         1|\n",
            "|          ++++++1959|         1|\n",
            "|          ++++++1959|         1|\n",
            "|          ++++++1959|         1|\n",
            "|          ++++++1959|         1|\n",
            "|            ++++2013|         2|\n",
            "|       +la+mode+1993|         3|\n",
            "|       +la+mode+1993|         3|\n",
            "|       +la+mode+1993|         3|\n",
            "|     +laventure+2008|         4|\n",
            "|     +laventure+2008|         4|\n",
            "|     +laventure+2008|         4|\n",
            "|    +nos+amours+1983|         5|\n",
            "|    +nos+amours+1983|         5|\n",
            "|+nous+la+libert+1931|         6|\n",
            "|+nous+la+libert+1931|         6|\n",
            "|+nous+la+libert+1931|         6|\n",
            "|+nous+la+libert+1931|         6|\n",
            "+--------------------+----------+\n",
            "only showing top 20 rows\n",
            "\n"
          ]
        }
      ]
    },
    {
      "cell_type": "code",
      "source": [
        "final_table = table.select('movieID','movieIndex').distinct()\n",
        "final_table.show()"
      ],
      "metadata": {
        "colab": {
          "base_uri": "https://localhost:8080/"
        },
        "id": "W9nN2prQ8yDI",
        "outputId": "bc00a6c5-d7b6-453f-e669-c5a7cd1a1c30"
      },
      "execution_count": 58,
      "outputs": [
        {
          "output_type": "stream",
          "name": "stdout",
          "text": [
            "+--------------------+----------+\n",
            "|             movieID|movieIndex|\n",
            "+--------------------+----------+\n",
            "|          ++++++1959|         1|\n",
            "|            ++++2013|         2|\n",
            "|       +la+mode+1993|         3|\n",
            "|     +laventure+2008|         4|\n",
            "|    +nos+amours+1983|         5|\n",
            "|+nous+la+libert+1931|         6|\n",
            "|+propos+de+nice+1930|         7|\n",
            "|...and+god+create...|         8|\n",
            "|...and+justice+fo...|         9|\n",
            "|...and+the+pursui...|        10|\n",
            "|...tick...+tick.....|        11|\n",
            "|            .45+2006|        12|\n",
            "|  009+re+cyborg+2012|        13|\n",
            "|           0605+2004|        14|\n",
            "|1+-+nenokkadine+2014|        15|\n",
            "|              1+2013|        16|\n",
            "|1+knights+-+in+se...|        17|\n",
            "|  10+000+timmar+2014|        18|\n",
            "|             10+1979|        19|\n",
            "|10+items+or+less+...|        20|\n",
            "+--------------------+----------+\n",
            "only showing top 20 rows\n",
            "\n"
          ]
        }
      ]
    },
    {
      "cell_type": "code",
      "source": [
        "ratings.printSchema()"
      ],
      "metadata": {
        "colab": {
          "base_uri": "https://localhost:8080/"
        },
        "id": "AxG3TEAc9MMl",
        "outputId": "c3096c1e-fbbe-4068-d9af-46ec8021f839"
      },
      "execution_count": 59,
      "outputs": [
        {
          "output_type": "stream",
          "name": "stdout",
          "text": [
            "root\n",
            " |-- userId: integer (nullable = true)\n",
            " |-- movieId: string (nullable = true)\n",
            " |-- rating: float (nullable = true)\n",
            " |-- movieIndex: integer (nullable = false)\n",
            "\n"
          ]
        }
      ]
    },
    {
      "cell_type": "code",
      "source": [
        "#example of getting from the table.\n",
        "final_table.where(final_table.movieIndex == 1).show()"
      ],
      "metadata": {
        "colab": {
          "base_uri": "https://localhost:8080/"
        },
        "id": "5i5IlMcx-Ci9",
        "outputId": "4841f865-a6d7-4529-f7f9-f0c8975aa894"
      },
      "execution_count": 64,
      "outputs": [
        {
          "output_type": "stream",
          "name": "stdout",
          "text": [
            "+----------+----------+\n",
            "|   movieID|movieIndex|\n",
            "+----------+----------+\n",
            "|++++++1959|         1|\n",
            "+----------+----------+\n",
            "\n"
          ]
        }
      ]
    },
    {
      "cell_type": "code",
      "source": [
        "final_table.write.option(\"header\",True).option(\"delimiter\",\",\").csv(\"/drive/MyDrive/585_project/lookuptable\")"
      ],
      "metadata": {
        "id": "wgdcs9TA-9o4"
      },
      "execution_count": 67,
      "outputs": []
    },
    {
      "cell_type": "code",
      "execution_count": 68,
      "metadata": {
        "id": "_1U4MyunJwAB"
      },
      "outputs": [],
      "source": [
        "(train, test) = ratings.randomSplit([0.8, 0.2], seed = 3333) \n",
        "# ratings here is the the Spark dataframe type"
      ]
    },
    {
      "cell_type": "code",
      "execution_count": 69,
      "metadata": {
        "id": "sp_-HYnM2_s2"
      },
      "outputs": [],
      "source": [
        "als = ALS(userCol=\"userId\", itemCol=\"movieIndex\" \\\n",
        "          ,ratingCol=\"rating\", nonnegative = True, implicitPrefs = False, coldStartStrategy=\"drop\")"
      ]
    },
    {
      "cell_type": "markdown",
      "metadata": {
        "id": "KapWv0704O9X"
      },
      "source": [
        "Tuning the model"
      ]
    },
    {
      "cell_type": "code",
      "execution_count": 70,
      "metadata": {
        "id": "Mgt71pdD4CW-",
        "colab": {
          "base_uri": "https://localhost:8080/"
        },
        "outputId": "1768b05a-c090-4879-f5a8-041da6cbb6de"
      },
      "outputs": [
        {
          "output_type": "stream",
          "name": "stdout",
          "text": [
            "CrossValidator_5ae4f75bca13\n"
          ]
        }
      ],
      "source": [
        "param_grid = ParamGridBuilder() \\\n",
        "            .addGrid(als.rank, [10, 40, 70, 100, 130, 160, 200]) \\\n",
        "            .addGrid(als.regParam, [.01, .05, .1, .15]) \\\n",
        "            .build()\n",
        "evaluator = RegressionEvaluator(metricName=\"rmse\", labelCol=\"rating\", predictionCol=\"prediction\")\n",
        "cv = CrossValidator(estimator=als, estimatorParamMaps=param_grid, evaluator=evaluator, numFolds=5)\n",
        "print(cv)"
      ]
    },
    {
      "cell_type": "code",
      "execution_count": null,
      "metadata": {
        "id": "8c2aj38c7S08"
      },
      "outputs": [],
      "source": [
        "#Fit cross validator to the 'train' dataset\n",
        "model = cv.fit(train) \n",
        "#train can be changed to ratings if we do not want to test it and want to use all data for validation\n",
        "\n",
        "#Extract best model from the cv model above\n",
        "best_model = model.bestModel"
      ]
    },
    {
      "cell_type": "code",
      "execution_count": null,
      "metadata": {
        "id": "u4Y00MGDoWOd"
      },
      "outputs": [],
      "source": [
        "# Print best_model\n",
        "print(type(best_model))\n",
        "\n",
        "# Complete the code below to extract the ALS model parameters\n",
        "print(\"**Best Model**\")\n",
        "\n",
        "# # Print \"Rank\"\n",
        "print(\"  Rank:\", best_model._java_obj.parent().getRank())\n",
        "\n",
        "# Print \"MaxIter\"\n",
        "print(\"  MaxIter:\", best_model._java_obj.parent().getMaxIter())\n",
        "\n",
        "# Print \"RegParam\"\n",
        "print(\"  RegParam:\", best_model._java_obj.parent().getRegParam())"
      ]
    },
    {
      "cell_type": "code",
      "execution_count": null,
      "metadata": {
        "id": "jroC5UGpoWOd"
      },
      "outputs": [],
      "source": [
        "test_predictions = best_model.transform(test)\n",
        "RMSE = evaluator.evaluate(test_predictions)\n",
        "print(RMSE)"
      ]
    },
    {
      "cell_type": "code",
      "execution_count": null,
      "metadata": {
        "id": "U9_0cqRNoWOe"
      },
      "outputs": [],
      "source": [
        "test_predictions.show()"
      ]
    },
    {
      "cell_type": "code",
      "source": [
        "best_model.save(\"/drive/MyDrive/585_project/ALS\")"
      ],
      "metadata": {
        "id": "acJo7Kn5AqVi"
      },
      "execution_count": null,
      "outputs": []
    },
    {
      "cell_type": "markdown",
      "metadata": {
        "id": "sra3x7ER8SQc"
      },
      "source": [
        "Make Recommendations"
      ]
    },
    {
      "cell_type": "code",
      "execution_count": null,
      "metadata": {
        "id": "jiyr-nhV8RQo"
      },
      "outputs": [],
      "source": [
        "nrecommendations = best_model.recommendForAllUsers(20) #top 20 recommandations\n",
        "nrecommendations.limit(20).show()\n",
        "#nrecommendations4user_subset = best_model.recommendForUserSubset(user_subset, 3)\n",
        "# user subset will be another data frame object. "
      ]
    },
    {
      "cell_type": "markdown",
      "metadata": {
        "id": "kMemYesg8l0v"
      },
      "source": [
        "Save the trained model in pkl file"
      ]
    },
    {
      "cell_type": "code",
      "execution_count": null,
      "metadata": {
        "id": "bZtWyeoI8rSo"
      },
      "outputs": [],
      "source": [
        "print('PySpark Version :'+spark.version)\n",
        "print('PySpark Version :'+spark.sparkContext.version)"
      ]
    },
    {
      "cell_type": "code",
      "execution_count": null,
      "metadata": {
        "id": "ilcarYlnoWOf"
      },
      "outputs": [],
      "source": []
    }
  ],
  "metadata": {
    "colab": {
      "collapsed_sections": [],
      "provenance": []
    },
    "kernelspec": {
      "display_name": "Python 3 (ipykernel)",
      "language": "python",
      "name": "python3"
    },
    "language_info": {
      "codemirror_mode": {
        "name": "ipython",
        "version": 3
      },
      "file_extension": ".py",
      "mimetype": "text/x-python",
      "name": "python",
      "nbconvert_exporter": "python",
      "pygments_lexer": "ipython3",
      "version": "3.9.7"
    }
  },
  "nbformat": 4,
  "nbformat_minor": 0
}
